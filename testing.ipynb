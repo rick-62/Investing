{
 "cells": [
  {
   "cell_type": "code",
   "execution_count": 21,
   "metadata": {},
   "outputs": [],
   "source": [
    "HIST_URL = 'https://api.worldtradingdata.com/api/v1/history?symbol={}&api_token={}&output=csv'"
   ]
  },
  {
   "cell_type": "code",
   "execution_count": 22,
   "metadata": {},
   "outputs": [],
   "source": [
    "import requests"
   ]
  },
  {
   "cell_type": "code",
   "execution_count": 23,
   "metadata": {},
   "outputs": [],
   "source": [
    "import json\n",
    "with open('tokens.json', 'r') as f:\n",
    "    TOKEN = json.load(f)['worldtradingdata']"
   ]
  },
  {
   "cell_type": "code",
   "execution_count": 28,
   "metadata": {},
   "outputs": [],
   "source": [
    "r = requests.get(HIST_URL.format('CS51.L', TOKEN))"
   ]
  },
  {
   "cell_type": "code",
   "execution_count": 29,
   "metadata": {},
   "outputs": [],
   "source": [
    "data = r.text"
   ]
  },
  {
   "cell_type": "code",
   "execution_count": 30,
   "metadata": {},
   "outputs": [],
   "source": [
    "with open('sample_data.csv', 'w+') as f:\n",
    "    f.write(data)\n",
    "    "
   ]
  },
  {
   "cell_type": "code",
   "execution_count": 6,
   "metadata": {},
   "outputs": [],
   "source": [
    "from pytrade import datareader"
   ]
  },
  {
   "cell_type": "code",
   "execution_count": 7,
   "metadata": {},
   "outputs": [],
   "source": [
    "n = datareader.config('source', 'worldtradingdata', 'limit_per_request')\n",
    "stock_url = datareader.config('source', 'worldtradingdata', 'stock_url')"
   ]
  },
  {
   "cell_type": "code",
   "execution_count": 8,
   "metadata": {},
   "outputs": [
    {
     "data": {
      "text/plain": [
       "5"
      ]
     },
     "execution_count": 8,
     "metadata": {},
     "output_type": "execute_result"
    }
   ],
   "source": [
    "n"
   ]
  },
  {
   "cell_type": "code",
   "execution_count": 9,
   "metadata": {},
   "outputs": [
    {
     "data": {
      "text/plain": [
       "'https://api.worldtradingdata.com/api/v1/stock?symbol={}&api_token={}'"
      ]
     },
     "execution_count": 9,
     "metadata": {},
     "output_type": "execute_result"
    }
   ],
   "source": [
    "stock_url"
   ]
  },
  {
   "cell_type": "code",
   "execution_count": 24,
   "metadata": {},
   "outputs": [],
   "source": [
    "url = stock_url.format('CS51.L,EQQQ.L', datareader.token('worldtradingdata'))"
   ]
  },
  {
   "cell_type": "code",
   "execution_count": 14,
   "metadata": {},
   "outputs": [],
   "source": [
    "import requests"
   ]
  },
  {
   "cell_type": "code",
   "execution_count": 25,
   "metadata": {},
   "outputs": [],
   "source": [
    "r = requests.get(url)"
   ]
  },
  {
   "cell_type": "code",
   "execution_count": 16,
   "metadata": {},
   "outputs": [],
   "source": [
    "stocks = {}"
   ]
  },
  {
   "cell_type": "code",
   "execution_count": 17,
   "metadata": {},
   "outputs": [
    {
     "ename": "TypeError",
     "evalue": "'method' object is not subscriptable",
     "output_type": "error",
     "traceback": [
      "\u001b[1;31m---------------------------------------------------------------------------\u001b[0m",
      "\u001b[1;31mTypeError\u001b[0m                                 Traceback (most recent call last)",
      "\u001b[1;32m<ipython-input-17-7aa55d883079>\u001b[0m in \u001b[0;36m<module>\u001b[1;34m\u001b[0m\n\u001b[1;32m----> 1\u001b[1;33m \u001b[0mstocks\u001b[0m\u001b[1;33m.\u001b[0m\u001b[0mupdate\u001b[0m\u001b[1;33m(\u001b[0m\u001b[0mr\u001b[0m\u001b[1;33m.\u001b[0m\u001b[0mjson\u001b[0m\u001b[1;33m[\u001b[0m\u001b[1;34m'data'\u001b[0m\u001b[1;33m]\u001b[0m\u001b[1;33m)\u001b[0m\u001b[1;33m\u001b[0m\u001b[1;33m\u001b[0m\u001b[0m\n\u001b[0m",
      "\u001b[1;31mTypeError\u001b[0m: 'method' object is not subscriptable"
     ]
    }
   ],
   "source": [
    "stocks.update(r.json['data'])"
   ]
  },
  {
   "cell_type": "code",
   "execution_count": 28,
   "metadata": {},
   "outputs": [],
   "source": [
    "lst = r.json()['data']"
   ]
  },
  {
   "cell_type": "code",
   "execution_count": 30,
   "metadata": {},
   "outputs": [],
   "source": [
    "for l in lst:\n",
    "    stocks[l['symbol']] = l"
   ]
  },
  {
   "cell_type": "code",
   "execution_count": 33,
   "metadata": {},
   "outputs": [],
   "source": [
    "stocks = {}"
   ]
  },
  {
   "cell_type": "code",
   "execution_count": 34,
   "metadata": {},
   "outputs": [],
   "source": [
    "stocks.update({e['symbol']: e for e in r.json()['data']})"
   ]
  },
  {
   "cell_type": "code",
   "execution_count": 35,
   "metadata": {},
   "outputs": [
    {
     "data": {
      "text/plain": [
       "{'CS51.L': {'symbol': 'CS51.L',\n",
       "  'name': 'ISHS VII/SHS EUR',\n",
       "  'currency': 'GBX',\n",
       "  'price': '9651.00',\n",
       "  'price_open': '9767.00',\n",
       "  'day_high': '9786.00',\n",
       "  'day_low': '9591.00',\n",
       "  '52_week_high': '10326.00',\n",
       "  '52_week_low': '8218.79',\n",
       "  'day_change': '-107.50',\n",
       "  'change_pct': '-1.10',\n",
       "  'close_yesterday': '9758.50',\n",
       "  'market_cap': 'N/A',\n",
       "  'volume': '6665',\n",
       "  'volume_avg': '4080',\n",
       "  'shares': 'N/A',\n",
       "  'stock_exchange_long': 'London Stock Exchange',\n",
       "  'stock_exchange_short': 'LSE',\n",
       "  'timezone': 'GMT',\n",
       "  'timezone_name': 'Europe/London',\n",
       "  'gmt_offset': '0',\n",
       "  'last_trade_time': '2019-08-15 16:30:00'},\n",
       " 'EQQQ.L': {'symbol': 'EQQQ.L',\n",
       "  'name': 'POWERSHARES/SHS USD',\n",
       "  'currency': 'GBX',\n",
       "  'price': '15090.00',\n",
       "  'price_open': '15305.00',\n",
       "  'day_high': '15315.63',\n",
       "  'day_low': '14955.00',\n",
       "  '52_week_high': '15315.63',\n",
       "  '52_week_low': '116.58',\n",
       "  'day_change': '-219.00',\n",
       "  'change_pct': '-1.43',\n",
       "  'close_yesterday': '15309.00',\n",
       "  'market_cap': 'N/A',\n",
       "  'volume': '8406',\n",
       "  'volume_avg': '8153',\n",
       "  'shares': 'N/A',\n",
       "  'stock_exchange_long': 'London Stock Exchange',\n",
       "  'stock_exchange_short': 'LSE',\n",
       "  'timezone': 'GMT',\n",
       "  'timezone_name': 'Europe/London',\n",
       "  'gmt_offset': '0',\n",
       "  'last_trade_time': '2019-08-15 16:30:00'}}"
      ]
     },
     "execution_count": 35,
     "metadata": {},
     "output_type": "execute_result"
    }
   ],
   "source": [
    "stocks"
   ]
  },
  {
   "cell_type": "code",
   "execution_count": null,
   "metadata": {},
   "outputs": [],
   "source": []
  }
 ],
 "metadata": {
  "kernelspec": {
   "display_name": "Python 3",
   "language": "python",
   "name": "python3"
  },
  "language_info": {
   "codemirror_mode": {
    "name": "ipython",
    "version": 3
   },
   "file_extension": ".py",
   "mimetype": "text/x-python",
   "name": "python",
   "nbconvert_exporter": "python",
   "pygments_lexer": "ipython3",
   "version": "3.7.3"
  }
 },
 "nbformat": 4,
 "nbformat_minor": 2
}
