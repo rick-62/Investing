{
 "cells": [
  {
   "cell_type": "code",
   "execution_count": 1,
   "id": "consecutive-olive",
   "metadata": {
    "ExecuteTime": {
     "end_time": "2021-07-29T16:02:58.004711Z",
     "start_time": "2021-07-29T16:02:57.993719Z"
    }
   },
   "outputs": [],
   "source": [
    "import pandas as pd\n",
    "import numpy as np"
   ]
  },
  {
   "cell_type": "code",
   "execution_count": 2,
   "id": "together-alignment",
   "metadata": {
    "ExecuteTime": {
     "end_time": "2021-07-29T16:02:59.020972Z",
     "start_time": "2021-07-29T16:02:58.008706Z"
    }
   },
   "outputs": [
    {
     "name": "stdout",
     "output_type": "stream",
     "text": [
      "2021-07-29 17:02:58,516 - kedro.io.data_catalog - INFO - Loading data from `primary_parts_ETF_stock_objects` (PartitionedDataSet)...\n"
     ]
    }
   ],
   "source": [
    "stocks = context.catalog.load(\"primary_parts_ETF_stock_objects\")"
   ]
  },
  {
   "cell_type": "code",
   "execution_count": 3,
   "id": "macro-diploma",
   "metadata": {
    "ExecuteTime": {
     "end_time": "2021-07-29T16:03:00.491258Z",
     "start_time": "2021-07-29T16:02:59.023060Z"
    }
   },
   "outputs": [],
   "source": [
    "# pick out only ETFs with dividends\n",
    "etfs = []\n",
    "\n",
    "for symbol, fn in stocks.items():\n",
    "    \n",
    "    stock = fn()\n",
    "    \n",
    "    try:\n",
    "        stock.approx_next_dividend_date\n",
    "    except AttributeError:\n",
    "        continue\n",
    "        \n",
    "    etfs.append(stock)        "
   ]
  },
  {
   "cell_type": "code",
   "execution_count": 8,
   "id": "scheduled-superior",
   "metadata": {
    "ExecuteTime": {
     "end_time": "2021-07-29T16:18:32.053324Z",
     "start_time": "2021-07-29T16:10:53.654338Z"
    }
   },
   "outputs": [
    {
     "name": "stdout",
     "output_type": "stream",
     "text": [
      "EUXS.LON\n",
      "FXC.LON\n",
      "GBDV.LON\n",
      "IAPD.LON\n",
      "IASP.LON\n",
      "IBZL.LON\n",
      "IEEM.LON\n",
      "IEUX.LON\n",
      "IFFF.LON\n",
      "IH2O.LON\n",
      "IKOR.LON\n",
      "INAA.LON\n",
      "IPRP.LON\n",
      "ISJP.LON\n",
      "ISP6.LON\n",
      "ISUS.LON\n",
      "ISWD.LON\n",
      "ITWN.LON\n",
      "IUSA.LON\n",
      "IUSP.LON\n",
      "IWDG.LON\n",
      "IWRD.LON\n",
      "MIDD.LON\n",
      "UINC.LON\n",
      "VHYL.LON\n",
      "VMID.LON\n",
      "VUSA.LON\n",
      "WOOD.LON\n"
     ]
    }
   ],
   "source": [
    "# get average annual return, including expected dividend yield\n",
    "for etf in etfs:\n",
    "    annual_expected = etf.mean_distribution_return(periods=250)+etf.dividend_yield\n",
    "    if annual_expected >= 1.09:\n",
    "        print(etf.symbol)"
   ]
  },
  {
   "cell_type": "code",
   "execution_count": null,
   "id": "understanding-saturday",
   "metadata": {},
   "outputs": [],
   "source": []
  }
 ],
 "metadata": {
  "kernelspec": {
   "display_name": "Investing",
   "language": "python",
   "name": "python3"
  },
  "language_info": {
   "codemirror_mode": {
    "name": "ipython",
    "version": 3
   },
   "file_extension": ".py",
   "mimetype": "text/x-python",
   "name": "python",
   "nbconvert_exporter": "python",
   "pygments_lexer": "ipython3",
   "version": "3.8.8"
  },
  "toc": {
   "base_numbering": 1,
   "nav_menu": {},
   "number_sections": true,
   "sideBar": true,
   "skip_h1_title": false,
   "title_cell": "Table of Contents",
   "title_sidebar": "Contents",
   "toc_cell": false,
   "toc_position": {},
   "toc_section_display": true,
   "toc_window_display": false
  }
 },
 "nbformat": 4,
 "nbformat_minor": 5
}
