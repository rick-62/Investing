{
 "cells": [
  {
   "cell_type": "markdown",
   "id": "arabic-september",
   "metadata": {},
   "source": [
    "# Import & prep"
   ]
  },
  {
   "cell_type": "code",
   "execution_count": 76,
   "id": "earlier-mapping",
   "metadata": {
    "ExecuteTime": {
     "end_time": "2021-04-13T20:06:48.487796Z",
     "start_time": "2021-04-13T20:06:48.469808Z"
    }
   },
   "outputs": [],
   "source": [
    "import requests\n",
    "import pandas as pd\n",
    "import matplotlib.pyplot as plt\n",
    "\n",
    "from functools import lru_cache\n",
    "\n"
   ]
  },
  {
   "cell_type": "code",
   "execution_count": 7,
   "id": "blind-november",
   "metadata": {
    "ExecuteTime": {
     "end_time": "2021-04-12T21:32:52.117412Z",
     "start_time": "2021-04-12T21:32:52.087433Z"
    }
   },
   "outputs": [],
   "source": [
    "ALPHA_VANTAGE_ACCESS_KEY = context.params['alpha_vantage']['access_key']"
   ]
  },
  {
   "cell_type": "code",
   "execution_count": 62,
   "id": "thermal-dynamics",
   "metadata": {
    "ExecuteTime": {
     "end_time": "2021-04-13T18:20:58.906964Z",
     "start_time": "2021-04-13T18:20:58.888976Z"
    }
   },
   "outputs": [],
   "source": [
    "from alpha_vantage.timeseries import TimeSeries\n",
    "from alpha_vantage.fundamentaldata import FundamentalData\n",
    "import alpha_vantage\n",
    "\n",
    "ts = TimeSeries(ALPHA_VANTAGE_ACCESS_KEY)\n",
    "fd = FundamentalData(ALPHA_VANTAGE_ACCESS_KEY)"
   ]
  },
  {
   "cell_type": "code",
   "execution_count": 9,
   "id": "difficult-agenda",
   "metadata": {
    "ExecuteTime": {
     "end_time": "2021-04-12T21:32:52.850959Z",
     "start_time": "2021-04-12T21:32:52.836968Z"
    }
   },
   "outputs": [],
   "source": [
    "@lru_cache()\n",
    "def historic_eps(symbol):\n",
    "    response = requests.get(\n",
    "        f'https://www.alphavantage.co/query?function=EARNINGS&symbol={symbol}&apikey={ALPHA_VANTAGE_ACCESS_KEY}'\n",
    "    )\n",
    "    data = response.json()\n",
    "    if data == {}:\n",
    "        raise ValueError('Error getting data from the api, no return was given.')\n",
    "    elif response.status_code == 200:\n",
    "        return response.json()"
   ]
  },
  {
   "cell_type": "markdown",
   "id": "exterior-engagement",
   "metadata": {},
   "source": [
    "# Testing"
   ]
  },
  {
   "cell_type": "code",
   "execution_count": 57,
   "id": "gross-anthropology",
   "metadata": {
    "ExecuteTime": {
     "end_time": "2021-04-12T22:08:54.286023Z",
     "start_time": "2021-04-12T22:08:53.576079Z"
    }
   },
   "outputs": [
    {
     "ename": "ValueError",
     "evalue": "Error getting data from the api, no return was given.",
     "output_type": "error",
     "traceback": [
      "\u001b[1;31m---------------------------------------------------------------------------\u001b[0m",
      "\u001b[1;31mValueError\u001b[0m                                Traceback (most recent call last)",
      "\u001b[1;32m<ipython-input-57-c064bd0239eb>\u001b[0m in \u001b[0;36m<module>\u001b[1;34m\u001b[0m\n\u001b[1;32m----> 1\u001b[1;33m \u001b[0mhistoric_eps\u001b[0m\u001b[1;33m(\u001b[0m\u001b[1;34m'ISF.LON'\u001b[0m\u001b[1;33m)\u001b[0m\u001b[1;33m\u001b[0m\u001b[1;33m\u001b[0m\u001b[0m\n\u001b[0m",
      "\u001b[1;32m<ipython-input-9-4d73c545d240>\u001b[0m in \u001b[0;36mhistoric_eps\u001b[1;34m(symbol)\u001b[0m\n\u001b[0;32m      6\u001b[0m     \u001b[0mdata\u001b[0m \u001b[1;33m=\u001b[0m \u001b[0mresponse\u001b[0m\u001b[1;33m.\u001b[0m\u001b[0mjson\u001b[0m\u001b[1;33m(\u001b[0m\u001b[1;33m)\u001b[0m\u001b[1;33m\u001b[0m\u001b[1;33m\u001b[0m\u001b[0m\n\u001b[0;32m      7\u001b[0m     \u001b[1;32mif\u001b[0m \u001b[0mdata\u001b[0m \u001b[1;33m==\u001b[0m \u001b[1;33m{\u001b[0m\u001b[1;33m}\u001b[0m\u001b[1;33m:\u001b[0m\u001b[1;33m\u001b[0m\u001b[1;33m\u001b[0m\u001b[0m\n\u001b[1;32m----> 8\u001b[1;33m         \u001b[1;32mraise\u001b[0m \u001b[0mValueError\u001b[0m\u001b[1;33m(\u001b[0m\u001b[1;34m'Error getting data from the api, no return was given.'\u001b[0m\u001b[1;33m)\u001b[0m\u001b[1;33m\u001b[0m\u001b[1;33m\u001b[0m\u001b[0m\n\u001b[0m\u001b[0;32m      9\u001b[0m     \u001b[1;32melif\u001b[0m \u001b[0mresponse\u001b[0m\u001b[1;33m.\u001b[0m\u001b[0mstatus_code\u001b[0m \u001b[1;33m==\u001b[0m \u001b[1;36m200\u001b[0m\u001b[1;33m:\u001b[0m\u001b[1;33m\u001b[0m\u001b[1;33m\u001b[0m\u001b[0m\n\u001b[0;32m     10\u001b[0m         \u001b[1;32mreturn\u001b[0m \u001b[0mresponse\u001b[0m\u001b[1;33m.\u001b[0m\u001b[0mjson\u001b[0m\u001b[1;33m(\u001b[0m\u001b[1;33m)\u001b[0m\u001b[1;33m\u001b[0m\u001b[1;33m\u001b[0m\u001b[0m\n",
      "\u001b[1;31mValueError\u001b[0m: Error getting data from the api, no return was given."
     ]
    }
   ],
   "source": [
    "historic_eps('ISF.LON')"
   ]
  },
  {
   "cell_type": "code",
   "execution_count": 60,
   "id": "complicated-counter",
   "metadata": {
    "ExecuteTime": {
     "end_time": "2021-04-13T18:14:51.834019Z",
     "start_time": "2021-04-13T18:14:49.663056Z"
    }
   },
   "outputs": [],
   "source": [
    "raw_isf_daily, isf_meta = ts.get_daily_adjusted('ISF.LON', outputsize='full')"
   ]
  },
  {
   "cell_type": "code",
   "execution_count": 61,
   "id": "controlling-stationery",
   "metadata": {
    "ExecuteTime": {
     "end_time": "2021-04-13T18:14:55.062463Z",
     "start_time": "2021-04-13T18:14:55.040477Z"
    }
   },
   "outputs": [
    {
     "data": {
      "text/plain": [
       "{'1. Information': 'Daily Time Series with Splits and Dividend Events',\n",
       " '2. Symbol': 'ISF.LON',\n",
       " '3. Last Refreshed': '2021-04-12',\n",
       " '4. Output Size': 'Full size',\n",
       " '5. Time Zone': 'US/Eastern'}"
      ]
     },
     "execution_count": 61,
     "metadata": {},
     "output_type": "execute_result"
    }
   ],
   "source": [
    "isf_meta"
   ]
  },
  {
   "cell_type": "code",
   "execution_count": 59,
   "id": "blocked-abraham",
   "metadata": {
    "ExecuteTime": {
     "end_time": "2021-04-13T18:10:29.707520Z",
     "start_time": "2021-04-13T18:10:29.591590Z"
    }
   },
   "outputs": [
    {
     "data": {
      "text/html": [
       "<div>\n",
       "<style scoped>\n",
       "    .dataframe tbody tr th:only-of-type {\n",
       "        vertical-align: middle;\n",
       "    }\n",
       "\n",
       "    .dataframe tbody tr th {\n",
       "        vertical-align: top;\n",
       "    }\n",
       "\n",
       "    .dataframe thead th {\n",
       "        text-align: right;\n",
       "    }\n",
       "</style>\n",
       "<table border=\"1\" class=\"dataframe\">\n",
       "  <thead>\n",
       "    <tr style=\"text-align: right;\">\n",
       "      <th></th>\n",
       "      <th>1. open</th>\n",
       "      <th>2. high</th>\n",
       "      <th>3. low</th>\n",
       "      <th>4. close</th>\n",
       "      <th>5. adjusted close</th>\n",
       "      <th>6. volume</th>\n",
       "      <th>7. dividend amount</th>\n",
       "      <th>8. split coefficient</th>\n",
       "    </tr>\n",
       "  </thead>\n",
       "  <tbody>\n",
       "    <tr>\n",
       "      <th>2021-04-09</th>\n",
       "      <td>684.1</td>\n",
       "      <td>684.1000</td>\n",
       "      <td>679.747</td>\n",
       "      <td>680.5</td>\n",
       "      <td>680.5</td>\n",
       "      <td>5585925.0</td>\n",
       "      <td>0.0</td>\n",
       "      <td>1.0</td>\n",
       "    </tr>\n",
       "    <tr>\n",
       "      <th>2021-04-08</th>\n",
       "      <td>679.4</td>\n",
       "      <td>683.3000</td>\n",
       "      <td>677.600</td>\n",
       "      <td>683.3</td>\n",
       "      <td>683.3</td>\n",
       "      <td>9748153.0</td>\n",
       "      <td>0.0</td>\n",
       "      <td>1.0</td>\n",
       "    </tr>\n",
       "    <tr>\n",
       "      <th>2021-04-07</th>\n",
       "      <td>673.8</td>\n",
       "      <td>678.1001</td>\n",
       "      <td>672.630</td>\n",
       "      <td>676.6</td>\n",
       "      <td>676.6</td>\n",
       "      <td>10061820.0</td>\n",
       "      <td>0.0</td>\n",
       "      <td>1.0</td>\n",
       "    </tr>\n",
       "    <tr>\n",
       "      <th>2021-04-06</th>\n",
       "      <td>671.6</td>\n",
       "      <td>673.0000</td>\n",
       "      <td>668.600</td>\n",
       "      <td>670.7</td>\n",
       "      <td>670.7</td>\n",
       "      <td>11375580.0</td>\n",
       "      <td>0.0</td>\n",
       "      <td>1.0</td>\n",
       "    </tr>\n",
       "    <tr>\n",
       "      <th>2021-04-01</th>\n",
       "      <td>662.7</td>\n",
       "      <td>665.7000</td>\n",
       "      <td>661.708</td>\n",
       "      <td>662.9</td>\n",
       "      <td>662.9</td>\n",
       "      <td>7006047.0</td>\n",
       "      <td>0.0</td>\n",
       "      <td>1.0</td>\n",
       "    </tr>\n",
       "  </tbody>\n",
       "</table>\n",
       "</div>"
      ],
      "text/plain": [
       "            1. open   2. high   3. low  4. close  5. adjusted close  \\\n",
       "2021-04-09    684.1  684.1000  679.747     680.5              680.5   \n",
       "2021-04-08    679.4  683.3000  677.600     683.3              683.3   \n",
       "2021-04-07    673.8  678.1001  672.630     676.6              676.6   \n",
       "2021-04-06    671.6  673.0000  668.600     670.7              670.7   \n",
       "2021-04-01    662.7  665.7000  661.708     662.9              662.9   \n",
       "\n",
       "             6. volume  7. dividend amount  8. split coefficient  \n",
       "2021-04-09   5585925.0                 0.0                   1.0  \n",
       "2021-04-08   9748153.0                 0.0                   1.0  \n",
       "2021-04-07  10061820.0                 0.0                   1.0  \n",
       "2021-04-06  11375580.0                 0.0                   1.0  \n",
       "2021-04-01   7006047.0                 0.0                   1.0  "
      ]
     },
     "execution_count": 59,
     "metadata": {},
     "output_type": "execute_result"
    }
   ],
   "source": [
    "isf_daily = pd.DataFrame.from_dict(raw_isf_daily, orient='index', dtype='float')\n",
    "isf_daily.head()"
   ]
  },
  {
   "cell_type": "code",
   "execution_count": 58,
   "id": "comic-agriculture",
   "metadata": {
    "ExecuteTime": {
     "end_time": "2021-04-13T18:05:06.044983Z",
     "start_time": "2021-04-13T18:05:06.001009Z"
    }
   },
   "outputs": [
    {
     "data": {
      "text/plain": [
       "array([0.    , 0.0562, 0.0345, 0.0573, 0.0426, 0.0635, 0.0607, 0.0951,\n",
       "       0.1056, 0.0712, 0.0901, 0.0942, 0.0541, 0.0532, 0.0922, 0.0945,\n",
       "       0.0615, 0.0505, 0.0788, 0.0884, 0.0478, 0.0865, 0.052 , 0.0946,\n",
       "       0.0208, 0.0685, 0.0523, 0.0759, 0.0253, 0.0515, 0.0525, 0.0856,\n",
       "       0.0298, 0.0561, 0.0456, 0.0744, 0.0266, 0.0396, 0.0554, 0.0639,\n",
       "       0.0224, 0.0322, 0.0342, 0.068 , 0.0274, 0.0344, 0.0434, 0.0555,\n",
       "       0.0381, 0.0447, 0.0529, 0.0799, 0.0439, 0.0464, 0.0795, 0.0209,\n",
       "       0.0269, 0.0755, 0.0192, 0.0288, 0.0552, 0.0203])"
      ]
     },
     "execution_count": 58,
     "metadata": {},
     "output_type": "execute_result"
    }
   ],
   "source": [
    "isf_daily['7. dividend amount'].unique()"
   ]
  },
  {
   "cell_type": "code",
   "execution_count": 77,
   "id": "compliant-toronto",
   "metadata": {
    "ExecuteTime": {
     "end_time": "2021-04-13T20:06:51.990092Z",
     "start_time": "2021-04-13T20:06:51.975102Z"
    }
   },
   "outputs": [],
   "source": [
    "plt.rcParams['figure.figsize'] = [12, 8]\n",
    "plt.rcParams['figure.dpi'] = 150 # 200 e.g. is really fine, but slower"
   ]
  },
  {
   "cell_type": "code",
   "execution_count": 84,
   "id": "usual-annex",
   "metadata": {
    "ExecuteTime": {
     "end_time": "2021-04-13T20:08:33.011610Z",
     "start_time": "2021-04-13T20:08:32.984627Z"
    }
   },
   "outputs": [],
   "source": [
    "isf_daily.sort_index(inplace=True)"
   ]
  },
  {
   "cell_type": "code",
   "execution_count": 125,
   "id": "transparent-budapest",
   "metadata": {
    "ExecuteTime": {
     "end_time": "2021-04-16T10:04:38.407307Z",
     "start_time": "2021-04-16T10:04:37.452177Z"
    }
   },
   "outputs": [
    {
     "data": {
      "text/plain": [
       "<AxesSubplot:ylabel='Density'>"
      ]
     },
     "execution_count": 125,
     "metadata": {},
     "output_type": "execute_result"
    },
    {
     "data": {
      "image/png": "[encoded data removed]",
      "text/plain": [
       "<Figure size 1800x1200 with 1 Axes>"
      ]
     },
     "metadata": {
      "needs_background": "light"
     },
     "output_type": "display_data"
    }
   ],
   "source": [
    "isf_daily['daily'] = isf_daily['5. adjusted close'] / isf_daily['5. adjusted close'].shift(1) - 1\n",
    "isf_daily['weekly'] = isf_daily['5. adjusted close'] / isf_daily['5. adjusted close'].shift(7) - 1\n",
    "isf_daily['monthly'] = isf_daily['5. adjusted close'] / isf_daily['5. adjusted close'].shift(30) - 1\n",
    "isf_daily['annual'] = isf_daily['5. adjusted close'] / isf_daily['5. adjusted close'].shift(365) - 1\n",
    "isf_daily.daily.plot.density()"
   ]
  },
  {
   "cell_type": "code",
   "execution_count": 126,
   "id": "appropriate-civilization",
   "metadata": {
    "ExecuteTime": {
     "end_time": "2021-04-16T10:04:44.998303Z",
     "start_time": "2021-04-16T10:04:44.980315Z"
    }
   },
   "outputs": [
    {
     "data": {
      "text/plain": [
       "0.09421661696035577"
      ]
     },
     "execution_count": 126,
     "metadata": {},
     "output_type": "execute_result"
    }
   ],
   "source": [
    "isf_daily.daily.max()"
   ]
  },
  {
   "cell_type": "code",
   "execution_count": 127,
   "id": "beneficial-raleigh",
   "metadata": {
    "ExecuteTime": {
     "end_time": "2021-04-16T10:04:45.860108Z",
     "start_time": "2021-04-16T10:04:45.844119Z"
    }
   },
   "outputs": [
    {
     "name": "stdout",
     "output_type": "stream",
     "text": [
      "standard deviation: 0.0537\n",
      "mean absolute deviation: 0.0395\n"
     ]
    }
   ],
   "source": [
    "import numpy as np\n",
    "import matplotlib.pyplot as plt\n",
    "np.random.seed(42)\n",
    "\n",
    "print(\"standard deviation: {:0.4f}\".format(np.std(isf_daily['monthly'])))\n",
    "print(\"mean absolute deviation: {:0.4f}\".format(np.mean(np.absolute(isf_daily['monthly']))))"
   ]
  },
  {
   "cell_type": "code",
   "execution_count": 128,
   "id": "guided-harris",
   "metadata": {
    "ExecuteTime": {
     "end_time": "2021-04-16T10:04:48.382095Z",
     "start_time": "2021-04-16T10:04:46.468732Z"
    }
   },
   "outputs": [
    {
     "data": {
      "image/png": "[encoded data removed]",
      "text/plain": [
       "<Figure size 1050x750 with 1 Axes>"
      ]
     },
     "metadata": {
      "needs_background": "light"
     },
     "output_type": "display_data"
    }
   ],
   "source": [
    "f, ax = plt.subplots(figsize=(7,5))\n",
    "ax.hist(isf_daily['daily'], alpha=0.5, label=[\"returns\"], bins=100)\n",
    "ax.hist(np.absolute(isf_daily['daily']), alpha=0.5, label=[\"absolute returns\"], bins=50)\n",
    "ax.hist(-np.absolute(isf_daily['daily']), alpha=0.5, label=[\"absolute returns\"], bins=50)\n",
    "ax.axvline(np.absolute(isf_daily['daily']).mean(), linestyle=\"dashed\", color=\"red\")\n",
    "ax.set_xticks([-0.05,0,0.05])\n",
    "ax.legend(prop={'size': 10})\n",
    "f.tight_layout()"
   ]
  },
  {
   "cell_type": "code",
   "execution_count": null,
   "id": "dental-security",
   "metadata": {},
   "outputs": [],
   "source": []
  }
 ],
 "metadata": {
  "kernelspec": {
   "display_name": "Investing",
   "language": "python",
   "name": "python3"
  },
  "language_info": {
   "codemirror_mode": {
    "name": "ipython",
    "version": 3
   },
   "file_extension": ".py",
   "mimetype": "text/x-python",
   "name": "python",
   "nbconvert_exporter": "python",
   "pygments_lexer": "ipython3",
   "version": "3.8.8"
  },
  "toc": {
   "base_numbering": 1,
   "nav_menu": {},
   "number_sections": true,
   "sideBar": true,
   "skip_h1_title": false,
   "title_cell": "Table of Contents",
   "title_sidebar": "Contents",
   "toc_cell": false,
   "toc_position": {},
   "toc_section_display": true,
   "toc_window_display": false
  }
 },
 "nbformat": 4,
 "nbformat_minor": 5
}
