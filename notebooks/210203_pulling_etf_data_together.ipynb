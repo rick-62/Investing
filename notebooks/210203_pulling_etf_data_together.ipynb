{
 "cells": [
  {
   "cell_type": "markdown",
   "id": "preliminary-messenger",
   "metadata": {},
   "source": [
    "# Pulling ETF data together"
   ]
  },
  {
   "cell_type": "code",
   "execution_count": 71,
   "id": "extended-boutique",
   "metadata": {
    "ExecuteTime": {
     "end_time": "2021-02-07T20:58:38.074826Z",
     "start_time": "2021-02-07T20:58:38.056838Z"
    }
   },
   "outputs": [],
   "source": [
    "import pandas as pd\n",
    "from statistics import median\n",
    "\n",
    "import warnings\n",
    "warnings.filterwarnings('ignore')"
   ]
  },
  {
   "cell_type": "code",
   "execution_count": 2,
   "id": "racial-learning",
   "metadata": {
    "ExecuteTime": {
     "end_time": "2021-02-07T20:15:55.196755Z",
     "start_time": "2021-02-07T20:15:54.227084Z"
    }
   },
   "outputs": [
    {
     "name": "stdout",
     "output_type": "stream",
     "text": [
      "2021-02-07 20:15:54,297 - kedro.io.data_catalog - INFO - Loading data from `etf_forecasts` (PartitionedDataSet)...\n",
      "2021-02-07 20:15:54,780 - kedro.io.data_catalog - INFO - Loading data from `etf_historical` (PartitionedDataSet)...\n"
     ]
    }
   ],
   "source": [
    "# lazy load etf forecasts and etfs\n",
    "forecasts = context.catalog.load('etf_forecasts')\n",
    "etfs = context.catalog.load('etf_historical')"
   ]
  },
  {
   "cell_type": "code",
   "execution_count": 4,
   "id": "herbal-cause",
   "metadata": {
    "ExecuteTime": {
     "end_time": "2021-02-03T19:55:52.273696Z",
     "start_time": "2021-02-03T19:55:52.236718Z"
    }
   },
   "outputs": [],
   "source": [
    "# load specific random etf, which we know data exists for\n",
    "fcast = forecasts['etf_VUKG_IE00BFMXYP42']()"
   ]
  },
  {
   "cell_type": "code",
   "execution_count": 13,
   "id": "impossible-gateway",
   "metadata": {
    "ExecuteTime": {
     "end_time": "2021-02-03T19:58:05.490509Z",
     "start_time": "2021-02-03T19:58:05.443538Z"
    }
   },
   "outputs": [
    {
     "data": {
      "text/html": [
       "<div>\n",
       "<style scoped>\n",
       "    .dataframe tbody tr th:only-of-type {\n",
       "        vertical-align: middle;\n",
       "    }\n",
       "\n",
       "    .dataframe tbody tr th {\n",
       "        vertical-align: top;\n",
       "    }\n",
       "\n",
       "    .dataframe thead th {\n",
       "        text-align: right;\n",
       "    }\n",
       "</style>\n",
       "<table border=\"1\" class=\"dataframe\">\n",
       "  <thead>\n",
       "    <tr style=\"text-align: right;\">\n",
       "      <th></th>\n",
       "      <th>ds</th>\n",
       "      <th>trend</th>\n",
       "      <th>yhat_lower</th>\n",
       "      <th>yhat_upper</th>\n",
       "      <th>trend_lower</th>\n",
       "      <th>trend_upper</th>\n",
       "      <th>additive_terms</th>\n",
       "      <th>additive_terms_lower</th>\n",
       "      <th>additive_terms_upper</th>\n",
       "      <th>weekly</th>\n",
       "      <th>weekly_lower</th>\n",
       "      <th>weekly_upper</th>\n",
       "      <th>multiplicative_terms</th>\n",
       "      <th>multiplicative_terms_lower</th>\n",
       "      <th>multiplicative_terms_upper</th>\n",
       "      <th>yhat</th>\n",
       "    </tr>\n",
       "  </thead>\n",
       "  <tbody>\n",
       "    <tr>\n",
       "      <th>405</th>\n",
       "      <td>2021-02-03</td>\n",
       "      <td>30.296369</td>\n",
       "      <td>29.193687</td>\n",
       "      <td>31.288277</td>\n",
       "      <td>30.296369</td>\n",
       "      <td>30.307866</td>\n",
       "      <td>-0.039503</td>\n",
       "      <td>-0.039503</td>\n",
       "      <td>-0.039503</td>\n",
       "      <td>-0.039503</td>\n",
       "      <td>-0.039503</td>\n",
       "      <td>-0.039503</td>\n",
       "      <td>0.0</td>\n",
       "      <td>0.0</td>\n",
       "      <td>0.0</td>\n",
       "      <td>30.256866</td>\n",
       "    </tr>\n",
       "  </tbody>\n",
       "</table>\n",
       "</div>"
      ],
      "text/plain": [
       "             ds      trend  yhat_lower  yhat_upper  trend_lower  trend_upper  \\\n",
       "405  2021-02-03  30.296369   29.193687   31.288277    30.296369    30.307866   \n",
       "\n",
       "     additive_terms  additive_terms_lower  additive_terms_upper    weekly  \\\n",
       "405       -0.039503             -0.039503             -0.039503 -0.039503   \n",
       "\n",
       "     weekly_lower  weekly_upper  multiplicative_terms  \\\n",
       "405     -0.039503     -0.039503                   0.0   \n",
       "\n",
       "     multiplicative_terms_lower  multiplicative_terms_upper       yhat  \n",
       "405                         0.0                         0.0  30.256866  "
      ]
     },
     "execution_count": 13,
     "metadata": {},
     "output_type": "execute_result"
    }
   ],
   "source": [
    "# filter on todays date\n",
    "fcast[fcast.ds == pd.to_datetime('today').strftime(\"%Y-%m-%d\")]"
   ]
  },
  {
   "cell_type": "code",
   "execution_count": 6,
   "id": "broadband-insured",
   "metadata": {
    "ExecuteTime": {
     "end_time": "2021-02-07T20:17:03.652889Z",
     "start_time": "2021-02-07T20:17:03.584930Z"
    }
   },
   "outputs": [
    {
     "data": {
      "text/html": [
       "<div>\n",
       "<style scoped>\n",
       "    .dataframe tbody tr th:only-of-type {\n",
       "        vertical-align: middle;\n",
       "    }\n",
       "\n",
       "    .dataframe tbody tr th {\n",
       "        vertical-align: top;\n",
       "    }\n",
       "\n",
       "    .dataframe thead th {\n",
       "        text-align: right;\n",
       "    }\n",
       "</style>\n",
       "<table border=\"1\" class=\"dataframe\">\n",
       "  <thead>\n",
       "    <tr style=\"text-align: right;\">\n",
       "      <th></th>\n",
       "      <th>Date</th>\n",
       "      <th>Open</th>\n",
       "      <th>High</th>\n",
       "      <th>Low</th>\n",
       "      <th>Close</th>\n",
       "      <th>Volume</th>\n",
       "      <th>Currency</th>\n",
       "      <th>Exchange</th>\n",
       "    </tr>\n",
       "  </thead>\n",
       "  <tbody>\n",
       "    <tr>\n",
       "      <th>0</th>\n",
       "      <td>2019-05-22</td>\n",
       "      <td>30.75</td>\n",
       "      <td>30.75</td>\n",
       "      <td>30.75</td>\n",
       "      <td>30.59</td>\n",
       "      <td>20000</td>\n",
       "      <td>GBP</td>\n",
       "      <td>London</td>\n",
       "    </tr>\n",
       "    <tr>\n",
       "      <th>1</th>\n",
       "      <td>2019-05-23</td>\n",
       "      <td>30.12</td>\n",
       "      <td>30.12</td>\n",
       "      <td>30.12</td>\n",
       "      <td>30.12</td>\n",
       "      <td>600</td>\n",
       "      <td>GBP</td>\n",
       "      <td>London</td>\n",
       "    </tr>\n",
       "    <tr>\n",
       "      <th>2</th>\n",
       "      <td>2019-06-02</td>\n",
       "      <td>29.89</td>\n",
       "      <td>29.89</td>\n",
       "      <td>29.89</td>\n",
       "      <td>29.89</td>\n",
       "      <td>0</td>\n",
       "      <td>GBP</td>\n",
       "      <td>London</td>\n",
       "    </tr>\n",
       "    <tr>\n",
       "      <th>3</th>\n",
       "      <td>2019-06-05</td>\n",
       "      <td>30.18</td>\n",
       "      <td>30.18</td>\n",
       "      <td>30.18</td>\n",
       "      <td>30.09</td>\n",
       "      <td>20000</td>\n",
       "      <td>GBP</td>\n",
       "      <td>London</td>\n",
       "    </tr>\n",
       "    <tr>\n",
       "      <th>4</th>\n",
       "      <td>2019-06-07</td>\n",
       "      <td>30.57</td>\n",
       "      <td>30.57</td>\n",
       "      <td>30.57</td>\n",
       "      <td>30.57</td>\n",
       "      <td>0</td>\n",
       "      <td>GBP</td>\n",
       "      <td>London</td>\n",
       "    </tr>\n",
       "    <tr>\n",
       "      <th>5</th>\n",
       "      <td>2019-06-15</td>\n",
       "      <td>30.66</td>\n",
       "      <td>30.66</td>\n",
       "      <td>30.66</td>\n",
       "      <td>30.66</td>\n",
       "      <td>0</td>\n",
       "      <td>GBP</td>\n",
       "      <td>London</td>\n",
       "    </tr>\n",
       "    <tr>\n",
       "      <th>6</th>\n",
       "      <td>2019-06-16</td>\n",
       "      <td>30.66</td>\n",
       "      <td>30.66</td>\n",
       "      <td>30.66</td>\n",
       "      <td>30.66</td>\n",
       "      <td>0</td>\n",
       "      <td>GBP</td>\n",
       "      <td>London</td>\n",
       "    </tr>\n",
       "    <tr>\n",
       "      <th>7</th>\n",
       "      <td>2019-06-18</td>\n",
       "      <td>30.88</td>\n",
       "      <td>30.88</td>\n",
       "      <td>30.88</td>\n",
       "      <td>31.14</td>\n",
       "      <td>20000</td>\n",
       "      <td>GBP</td>\n",
       "      <td>London</td>\n",
       "    </tr>\n",
       "    <tr>\n",
       "      <th>8</th>\n",
       "      <td>2019-06-19</td>\n",
       "      <td>30.99</td>\n",
       "      <td>30.99</td>\n",
       "      <td>30.99</td>\n",
       "      <td>30.88</td>\n",
       "      <td>1670</td>\n",
       "      <td>GBP</td>\n",
       "      <td>London</td>\n",
       "    </tr>\n",
       "    <tr>\n",
       "      <th>9</th>\n",
       "      <td>2019-06-20</td>\n",
       "      <td>31.16</td>\n",
       "      <td>31.16</td>\n",
       "      <td>31.02</td>\n",
       "      <td>31.04</td>\n",
       "      <td>454</td>\n",
       "      <td>GBP</td>\n",
       "      <td>London</td>\n",
       "    </tr>\n",
       "    <tr>\n",
       "      <th>10</th>\n",
       "      <td>2019-06-22</td>\n",
       "      <td>30.82</td>\n",
       "      <td>30.82</td>\n",
       "      <td>30.82</td>\n",
       "      <td>30.82</td>\n",
       "      <td>0</td>\n",
       "      <td>GBP</td>\n",
       "      <td>London</td>\n",
       "    </tr>\n",
       "    <tr>\n",
       "      <th>11</th>\n",
       "      <td>2019-06-23</td>\n",
       "      <td>30.82</td>\n",
       "      <td>30.82</td>\n",
       "      <td>30.82</td>\n",
       "      <td>30.82</td>\n",
       "      <td>0</td>\n",
       "      <td>GBP</td>\n",
       "      <td>London</td>\n",
       "    </tr>\n",
       "    <tr>\n",
       "      <th>12</th>\n",
       "      <td>2019-06-24</td>\n",
       "      <td>30.98</td>\n",
       "      <td>31.00</td>\n",
       "      <td>30.98</td>\n",
       "      <td>30.95</td>\n",
       "      <td>516</td>\n",
       "      <td>GBP</td>\n",
       "      <td>London</td>\n",
       "    </tr>\n",
       "    <tr>\n",
       "      <th>13</th>\n",
       "      <td>2019-06-25</td>\n",
       "      <td>30.88</td>\n",
       "      <td>31.11</td>\n",
       "      <td>30.88</td>\n",
       "      <td>31.01</td>\n",
       "      <td>1699</td>\n",
       "      <td>GBP</td>\n",
       "      <td>London</td>\n",
       "    </tr>\n",
       "    <tr>\n",
       "      <th>14</th>\n",
       "      <td>2019-06-27</td>\n",
       "      <td>31.01</td>\n",
       "      <td>31.01</td>\n",
       "      <td>30.97</td>\n",
       "      <td>30.93</td>\n",
       "      <td>390</td>\n",
       "      <td>GBP</td>\n",
       "      <td>London</td>\n",
       "    </tr>\n",
       "    <tr>\n",
       "      <th>15</th>\n",
       "      <td>2019-06-28</td>\n",
       "      <td>30.93</td>\n",
       "      <td>31.00</td>\n",
       "      <td>30.93</td>\n",
       "      <td>31.04</td>\n",
       "      <td>1645</td>\n",
       "      <td>GBP</td>\n",
       "      <td>London</td>\n",
       "    </tr>\n",
       "    <tr>\n",
       "      <th>16</th>\n",
       "      <td>2019-07-01</td>\n",
       "      <td>31.44</td>\n",
       "      <td>31.44</td>\n",
       "      <td>31.43</td>\n",
       "      <td>31.34</td>\n",
       "      <td>400</td>\n",
       "      <td>GBP</td>\n",
       "      <td>London</td>\n",
       "    </tr>\n",
       "    <tr>\n",
       "      <th>17</th>\n",
       "      <td>2019-07-06</td>\n",
       "      <td>31.55</td>\n",
       "      <td>31.55</td>\n",
       "      <td>31.55</td>\n",
       "      <td>31.55</td>\n",
       "      <td>0</td>\n",
       "      <td>GBP</td>\n",
       "      <td>London</td>\n",
       "    </tr>\n",
       "    <tr>\n",
       "      <th>18</th>\n",
       "      <td>2019-07-07</td>\n",
       "      <td>31.55</td>\n",
       "      <td>31.55</td>\n",
       "      <td>31.55</td>\n",
       "      <td>31.55</td>\n",
       "      <td>0</td>\n",
       "      <td>GBP</td>\n",
       "      <td>London</td>\n",
       "    </tr>\n",
       "    <tr>\n",
       "      <th>19</th>\n",
       "      <td>2019-07-11</td>\n",
       "      <td>31.59</td>\n",
       "      <td>31.59</td>\n",
       "      <td>31.42</td>\n",
       "      <td>31.37</td>\n",
       "      <td>2484</td>\n",
       "      <td>GBP</td>\n",
       "      <td>London</td>\n",
       "    </tr>\n",
       "  </tbody>\n",
       "</table>\n",
       "</div>"
      ],
      "text/plain": [
       "          Date   Open   High    Low  Close  Volume Currency Exchange\n",
       "0   2019-05-22  30.75  30.75  30.75  30.59   20000      GBP   London\n",
       "1   2019-05-23  30.12  30.12  30.12  30.12     600      GBP   London\n",
       "2   2019-06-02  29.89  29.89  29.89  29.89       0      GBP   London\n",
       "3   2019-06-05  30.18  30.18  30.18  30.09   20000      GBP   London\n",
       "4   2019-06-07  30.57  30.57  30.57  30.57       0      GBP   London\n",
       "5   2019-06-15  30.66  30.66  30.66  30.66       0      GBP   London\n",
       "6   2019-06-16  30.66  30.66  30.66  30.66       0      GBP   London\n",
       "7   2019-06-18  30.88  30.88  30.88  31.14   20000      GBP   London\n",
       "8   2019-06-19  30.99  30.99  30.99  30.88    1670      GBP   London\n",
       "9   2019-06-20  31.16  31.16  31.02  31.04     454      GBP   London\n",
       "10  2019-06-22  30.82  30.82  30.82  30.82       0      GBP   London\n",
       "11  2019-06-23  30.82  30.82  30.82  30.82       0      GBP   London\n",
       "12  2019-06-24  30.98  31.00  30.98  30.95     516      GBP   London\n",
       "13  2019-06-25  30.88  31.11  30.88  31.01    1699      GBP   London\n",
       "14  2019-06-27  31.01  31.01  30.97  30.93     390      GBP   London\n",
       "15  2019-06-28  30.93  31.00  30.93  31.04    1645      GBP   London\n",
       "16  2019-07-01  31.44  31.44  31.43  31.34     400      GBP   London\n",
       "17  2019-07-06  31.55  31.55  31.55  31.55       0      GBP   London\n",
       "18  2019-07-07  31.55  31.55  31.55  31.55       0      GBP   London\n",
       "19  2019-07-11  31.59  31.59  31.42  31.37    2484      GBP   London"
      ]
     },
     "execution_count": 6,
     "metadata": {},
     "output_type": "execute_result"
    }
   ],
   "source": [
    "# extract typical historical etf data\n",
    "etf = etfs['etf_VUKG_IE00BFMXYP42']()\n",
    "etf.head(20)"
   ]
  },
  {
   "cell_type": "code",
   "execution_count": 41,
   "id": "canadian-orleans",
   "metadata": {
    "ExecuteTime": {
     "end_time": "2021-02-07T20:48:03.887380Z",
     "start_time": "2021-02-07T20:48:03.866393Z"
    }
   },
   "outputs": [],
   "source": [
    "# convert Date column to date format\n",
    "etf['Date'] = pd.to_datetime(etf.Date)"
   ]
  },
  {
   "cell_type": "code",
   "execution_count": 44,
   "id": "involved-today",
   "metadata": {
    "ExecuteTime": {
     "end_time": "2021-02-07T20:48:20.587858Z",
     "start_time": "2021-02-07T20:48:20.570869Z"
    }
   },
   "outputs": [],
   "source": [
    "# get min and max of dates\n",
    "mn, mx = min(etf.Date), max(etf.Date)"
   ]
  },
  {
   "cell_type": "code",
   "execution_count": 45,
   "id": "overall-lawrence",
   "metadata": {
    "ExecuteTime": {
     "end_time": "2021-02-07T20:48:21.050570Z",
     "start_time": "2021-02-07T20:48:21.036580Z"
    }
   },
   "outputs": [
    {
     "data": {
      "text/plain": [
       "1.6904109589041096"
      ]
     },
     "execution_count": 45,
     "metadata": {},
     "output_type": "execute_result"
    }
   ],
   "source": [
    "# calculate age of data (in years)\n",
    "(mx - mn).days / 365"
   ]
  },
  {
   "cell_type": "code",
   "execution_count": 48,
   "id": "dangerous-trinidad",
   "metadata": {
    "ExecuteTime": {
     "end_time": "2021-02-07T20:49:09.186206Z",
     "start_time": "2021-02-07T20:49:09.164221Z"
    }
   },
   "outputs": [
    {
     "data": {
      "text/plain": [
       "0      2019\n",
       "1      2019\n",
       "2      2019\n",
       "3      2019\n",
       "4      2019\n",
       "       ... \n",
       "395    2021\n",
       "396    2021\n",
       "397    2021\n",
       "398    2021\n",
       "399    2021\n",
       "Name: Year, Length: 400, dtype: int64"
      ]
     },
     "execution_count": 48,
     "metadata": {},
     "output_type": "execute_result"
    }
   ],
   "source": [
    "# create year column\n",
    "etf['Year'] = etf.Date.dt.year\n",
    "etf.Year"
   ]
  },
  {
   "cell_type": "code",
   "execution_count": 49,
   "id": "tamil-focus",
   "metadata": {
    "ExecuteTime": {
     "end_time": "2021-02-07T20:50:10.077988Z",
     "start_time": "2021-02-07T20:50:10.066995Z"
    }
   },
   "outputs": [],
   "source": [
    "# group data by years\n",
    "grouped = etf.groupby('Year')"
   ]
  },
  {
   "cell_type": "code",
   "execution_count": 61,
   "id": "pending-spray",
   "metadata": {
    "ExecuteTime": {
     "end_time": "2021-02-07T20:57:18.013105Z",
     "start_time": "2021-02-07T20:57:17.992117Z"
    }
   },
   "outputs": [],
   "source": [
    "# extract min and max per year\n",
    "mn, mx = grouped.Close.min(), grouped.Close.max()"
   ]
  },
  {
   "cell_type": "code",
   "execution_count": 73,
   "id": "unique-gender",
   "metadata": {
    "ExecuteTime": {
     "end_time": "2021-02-07T20:59:10.722856Z",
     "start_time": "2021-02-07T20:59:10.701868Z"
    }
   },
   "outputs": [
    {
     "data": {
      "text/plain": [
       "0.09781512605042006"
      ]
     },
     "execution_count": 73,
     "metadata": {},
     "output_type": "execute_result"
    }
   ],
   "source": [
    "# calculate annual median rate of return\n",
    "median((mx - mn) / mn)"
   ]
  },
  {
   "cell_type": "code",
   "execution_count": null,
   "id": "brutal-carry",
   "metadata": {},
   "outputs": [],
   "source": []
  }
 ],
 "metadata": {
  "kernelspec": {
   "display_name": "Investing",
   "language": "python",
   "name": "python3"
  },
  "language_info": {
   "codemirror_mode": {
    "name": "ipython",
    "version": 3
   },
   "file_extension": ".py",
   "mimetype": "text/x-python",
   "name": "python",
   "nbconvert_exporter": "python",
   "pygments_lexer": "ipython3",
   "version": "3.8.6"
  },
  "toc": {
   "base_numbering": 1,
   "nav_menu": {},
   "number_sections": true,
   "sideBar": true,
   "skip_h1_title": false,
   "title_cell": "Table of Contents",
   "title_sidebar": "Contents",
   "toc_cell": false,
   "toc_position": {},
   "toc_section_display": true,
   "toc_window_display": false
  }
 },
 "nbformat": 4,
 "nbformat_minor": 5
}
