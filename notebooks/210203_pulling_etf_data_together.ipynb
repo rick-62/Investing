{
 "cells": [
  {
   "cell_type": "markdown",
   "id": "confused-lunch",
   "metadata": {},
   "source": [
    "# Pulling ETF data together"
   ]
  },
  {
   "cell_type": "code",
   "execution_count": 2,
   "id": "theoretical-shade",
   "metadata": {
    "ExecuteTime": {
     "end_time": "2021-02-03T19:54:03.167321Z",
     "start_time": "2021-02-03T19:54:03.150333Z"
    }
   },
   "outputs": [],
   "source": [
    "import pandas as pd\n",
    "\n",
    "import warnings\n",
    "warnings.filterwarnings('ignore')"
   ]
  },
  {
   "cell_type": "code",
   "execution_count": 3,
   "id": "otherwise-destination",
   "metadata": {
    "ExecuteTime": {
     "end_time": "2021-02-03T19:55:11.858764Z",
     "start_time": "2021-02-03T19:55:11.539964Z"
    }
   },
   "outputs": [
    {
     "name": "stdout",
     "output_type": "stream",
     "text": [
      "2021-02-03 19:55:11,596 - kedro.io.data_catalog - INFO - Loading data from `etf_forecasts` (PartitionedDataSet)...\n"
     ]
    }
   ],
   "source": [
    "# lazy load etf forecasts\n",
    "forecasts = context.catalog.load('etf_forecasts')"
   ]
  },
  {
   "cell_type": "code",
   "execution_count": 4,
   "id": "deluxe-killer",
   "metadata": {
    "ExecuteTime": {
     "end_time": "2021-02-03T19:55:52.273696Z",
     "start_time": "2021-02-03T19:55:52.236718Z"
    }
   },
   "outputs": [],
   "source": [
    "# load specific random etf, which we know data exists for\n",
    "fcast = forecasts['etf_VUKG_IE00BFMXYP42']()"
   ]
  },
  {
   "cell_type": "code",
   "execution_count": 13,
   "id": "controlling-channels",
   "metadata": {
    "ExecuteTime": {
     "end_time": "2021-02-03T19:58:05.490509Z",
     "start_time": "2021-02-03T19:58:05.443538Z"
    }
   },
   "outputs": [
    {
     "data": {
      "text/html": [
       "<div>\n",
       "<style scoped>\n",
       "    .dataframe tbody tr th:only-of-type {\n",
       "        vertical-align: middle;\n",
       "    }\n",
       "\n",
       "    .dataframe tbody tr th {\n",
       "        vertical-align: top;\n",
       "    }\n",
       "\n",
       "    .dataframe thead th {\n",
       "        text-align: right;\n",
       "    }\n",
       "</style>\n",
       "<table border=\"1\" class=\"dataframe\">\n",
       "  <thead>\n",
       "    <tr style=\"text-align: right;\">\n",
       "      <th></th>\n",
       "      <th>ds</th>\n",
       "      <th>trend</th>\n",
       "      <th>yhat_lower</th>\n",
       "      <th>yhat_upper</th>\n",
       "      <th>trend_lower</th>\n",
       "      <th>trend_upper</th>\n",
       "      <th>additive_terms</th>\n",
       "      <th>additive_terms_lower</th>\n",
       "      <th>additive_terms_upper</th>\n",
       "      <th>weekly</th>\n",
       "      <th>weekly_lower</th>\n",
       "      <th>weekly_upper</th>\n",
       "      <th>multiplicative_terms</th>\n",
       "      <th>multiplicative_terms_lower</th>\n",
       "      <th>multiplicative_terms_upper</th>\n",
       "      <th>yhat</th>\n",
       "    </tr>\n",
       "  </thead>\n",
       "  <tbody>\n",
       "    <tr>\n",
       "      <th>405</th>\n",
       "      <td>2021-02-03</td>\n",
       "      <td>30.296369</td>\n",
       "      <td>29.193687</td>\n",
       "      <td>31.288277</td>\n",
       "      <td>30.296369</td>\n",
       "      <td>30.307866</td>\n",
       "      <td>-0.039503</td>\n",
       "      <td>-0.039503</td>\n",
       "      <td>-0.039503</td>\n",
       "      <td>-0.039503</td>\n",
       "      <td>-0.039503</td>\n",
       "      <td>-0.039503</td>\n",
       "      <td>0.0</td>\n",
       "      <td>0.0</td>\n",
       "      <td>0.0</td>\n",
       "      <td>30.256866</td>\n",
       "    </tr>\n",
       "  </tbody>\n",
       "</table>\n",
       "</div>"
      ],
      "text/plain": [
       "             ds      trend  yhat_lower  yhat_upper  trend_lower  trend_upper  \\\n",
       "405  2021-02-03  30.296369   29.193687   31.288277    30.296369    30.307866   \n",
       "\n",
       "     additive_terms  additive_terms_lower  additive_terms_upper    weekly  \\\n",
       "405       -0.039503             -0.039503             -0.039503 -0.039503   \n",
       "\n",
       "     weekly_lower  weekly_upper  multiplicative_terms  \\\n",
       "405     -0.039503     -0.039503                   0.0   \n",
       "\n",
       "     multiplicative_terms_lower  multiplicative_terms_upper       yhat  \n",
       "405                         0.0                         0.0  30.256866  "
      ]
     },
     "execution_count": 13,
     "metadata": {},
     "output_type": "execute_result"
    }
   ],
   "source": [
    "# filter on todays date\n",
    "fcast[fcast.ds == pd.to_datetime('today').strftime(\"%Y-%m-%d\")]"
   ]
  }
 ],
 "metadata": {
  "kernelspec": {
   "display_name": "Investing",
   "language": "python",
   "name": "python3"
  },
  "language_info": {
   "codemirror_mode": {
    "name": "ipython",
    "version": 3
   },
   "file_extension": ".py",
   "mimetype": "text/x-python",
   "name": "python",
   "nbconvert_exporter": "python",
   "pygments_lexer": "ipython3",
   "version": "3.8.6"
  },
  "toc": {
   "base_numbering": 1,
   "nav_menu": {},
   "number_sections": true,
   "sideBar": true,
   "skip_h1_title": false,
   "title_cell": "Table of Contents",
   "title_sidebar": "Contents",
   "toc_cell": false,
   "toc_position": {},
   "toc_section_display": true,
   "toc_window_display": false
  }
 },
 "nbformat": 4,
 "nbformat_minor": 5
}
