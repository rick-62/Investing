{
 "cells": [
  {
   "cell_type": "code",
   "execution_count": 4,
   "id": "trying-detroit",
   "metadata": {
    "ExecuteTime": {
     "end_time": "2021-01-20T21:49:29.629509Z",
     "start_time": "2021-01-20T21:49:29.617518Z"
    }
   },
   "outputs": [],
   "source": [
    "import investpy"
   ]
  },
  {
   "cell_type": "code",
   "execution_count": 100,
   "id": "former-calculator",
   "metadata": {
    "ExecuteTime": {
     "end_time": "2021-01-21T20:27:50.139074Z",
     "start_time": "2021-01-21T20:27:50.126083Z"
    }
   },
   "outputs": [],
   "source": [
    "import matplotlib.pyplot as plt\n",
    "\n",
    "import warnings\n",
    "warnings.filterwarnings('ignore')"
   ]
  },
  {
   "cell_type": "markdown",
   "id": "technological-discovery",
   "metadata": {},
   "source": [
    "# Stocks"
   ]
  },
  {
   "cell_type": "markdown",
   "id": "cross-nerve",
   "metadata": {},
   "source": [
    "## Stocks lists\n",
    "The stock lists come from a pre-made CSV provided with the Python package. The CSV actually contains more information and provides the ids to use when the data is scraped from investing.com. As this means the stock list is pre-determined, this also means the data is only updated with the package. "
   ]
  },
  {
   "cell_type": "markdown",
   "id": "fatty-methodology",
   "metadata": {},
   "source": [
    "Data can be retrieved as:\n",
    "1. A list of symbols\n",
    "2. A dataframe, including symbols, names, isin etc\n",
    "3. A dictionary alternative of the dataframe"
   ]
  },
  {
   "cell_type": "code",
   "execution_count": 68,
   "id": "qualified-blame",
   "metadata": {
    "ExecuteTime": {
     "end_time": "2021-01-21T19:46:05.709156Z",
     "start_time": "2021-01-21T19:46:05.468180Z"
    }
   },
   "outputs": [
    {
     "data": {
      "text/plain": [
       "['TS', 'APBR', 'GGAL', 'TXAR', 'PAMP', 'TECO2', 'BPAT', 'ALUA', 'BBAR', 'BMA']"
      ]
     },
     "execution_count": 68,
     "metadata": {},
     "output_type": "execute_result"
    }
   ],
   "source": [
    "# Retrieve all the available stocks as a Python list\n",
    "stocks = investpy.get_stocks_list()\n",
    "stocks[:10]"
   ]
  },
  {
   "cell_type": "code",
   "execution_count": 70,
   "id": "acting-slovak",
   "metadata": {
    "ExecuteTime": {
     "end_time": "2021-01-21T19:46:57.251936Z",
     "start_time": "2021-01-21T19:46:56.965457Z"
    }
   },
   "outputs": [
    {
     "data": {
      "text/html": [
       "<div>\n",
       "<style scoped>\n",
       "    .dataframe tbody tr th:only-of-type {\n",
       "        vertical-align: middle;\n",
       "    }\n",
       "\n",
       "    .dataframe tbody tr th {\n",
       "        vertical-align: top;\n",
       "    }\n",
       "\n",
       "    .dataframe thead th {\n",
       "        text-align: right;\n",
       "    }\n",
       "</style>\n",
       "<table border=\"1\" class=\"dataframe\">\n",
       "  <thead>\n",
       "    <tr style=\"text-align: right;\">\n",
       "      <th></th>\n",
       "      <th>country</th>\n",
       "      <th>name</th>\n",
       "      <th>full_name</th>\n",
       "      <th>isin</th>\n",
       "      <th>currency</th>\n",
       "      <th>symbol</th>\n",
       "    </tr>\n",
       "  </thead>\n",
       "  <tbody>\n",
       "    <tr>\n",
       "      <th>0</th>\n",
       "      <td>argentina</td>\n",
       "      <td>Tenaris</td>\n",
       "      <td>Tenaris</td>\n",
       "      <td>LU0156801721</td>\n",
       "      <td>ARS</td>\n",
       "      <td>TS</td>\n",
       "    </tr>\n",
       "    <tr>\n",
       "      <th>1</th>\n",
       "      <td>argentina</td>\n",
       "      <td>PETROBRAS ON</td>\n",
       "      <td>Petroleo Brasileiro - Petrobras</td>\n",
       "      <td>BRPETRACNOR9</td>\n",
       "      <td>ARS</td>\n",
       "      <td>APBR</td>\n",
       "    </tr>\n",
       "    <tr>\n",
       "      <th>2</th>\n",
       "      <td>argentina</td>\n",
       "      <td>Grupo Financiero Galicia</td>\n",
       "      <td>Grupo Financiero Galicia B</td>\n",
       "      <td>ARP495251018</td>\n",
       "      <td>ARS</td>\n",
       "      <td>GGAL</td>\n",
       "    </tr>\n",
       "    <tr>\n",
       "      <th>3</th>\n",
       "      <td>argentina</td>\n",
       "      <td>Ternium Argentina</td>\n",
       "      <td>Ternium Argentina SA</td>\n",
       "      <td>ARSIDE010029</td>\n",
       "      <td>ARS</td>\n",
       "      <td>TXAR</td>\n",
       "    </tr>\n",
       "    <tr>\n",
       "      <th>4</th>\n",
       "      <td>argentina</td>\n",
       "      <td>Pampa Energia</td>\n",
       "      <td>Pampa Energia SA</td>\n",
       "      <td>ARP432631215</td>\n",
       "      <td>ARS</td>\n",
       "      <td>PAMP</td>\n",
       "    </tr>\n",
       "    <tr>\n",
       "      <th>5</th>\n",
       "      <td>argentina</td>\n",
       "      <td>Telecom Argentina</td>\n",
       "      <td>Telecom Argentina</td>\n",
       "      <td>ARP9028N1016</td>\n",
       "      <td>ARS</td>\n",
       "      <td>TECO2</td>\n",
       "    </tr>\n",
       "    <tr>\n",
       "      <th>6</th>\n",
       "      <td>argentina</td>\n",
       "      <td>Banco Patagonia</td>\n",
       "      <td>Banco Patagonia</td>\n",
       "      <td>ARMERI013163</td>\n",
       "      <td>ARS</td>\n",
       "      <td>BPAT</td>\n",
       "    </tr>\n",
       "    <tr>\n",
       "      <th>7</th>\n",
       "      <td>argentina</td>\n",
       "      <td>Aluar</td>\n",
       "      <td>Aluar Aluminio Argentino</td>\n",
       "      <td>ARALUA010258</td>\n",
       "      <td>ARS</td>\n",
       "      <td>ALUA</td>\n",
       "    </tr>\n",
       "    <tr>\n",
       "      <th>8</th>\n",
       "      <td>argentina</td>\n",
       "      <td>BBVA Banco Frances</td>\n",
       "      <td>BBVA Banco Frances SA</td>\n",
       "      <td>ARP125991090</td>\n",
       "      <td>ARS</td>\n",
       "      <td>BBAR</td>\n",
       "    </tr>\n",
       "    <tr>\n",
       "      <th>9</th>\n",
       "      <td>argentina</td>\n",
       "      <td>Banco Macro</td>\n",
       "      <td>Banco Macro</td>\n",
       "      <td>ARBANS010010</td>\n",
       "      <td>ARS</td>\n",
       "      <td>BMA</td>\n",
       "    </tr>\n",
       "  </tbody>\n",
       "</table>\n",
       "</div>"
      ],
      "text/plain": [
       "     country                      name                        full_name  \\\n",
       "0  argentina                   Tenaris                          Tenaris   \n",
       "1  argentina              PETROBRAS ON  Petroleo Brasileiro - Petrobras   \n",
       "2  argentina  Grupo Financiero Galicia       Grupo Financiero Galicia B   \n",
       "3  argentina         Ternium Argentina             Ternium Argentina SA   \n",
       "4  argentina             Pampa Energia                 Pampa Energia SA   \n",
       "5  argentina         Telecom Argentina                Telecom Argentina   \n",
       "6  argentina           Banco Patagonia                  Banco Patagonia   \n",
       "7  argentina                     Aluar         Aluar Aluminio Argentino   \n",
       "8  argentina        BBVA Banco Frances            BBVA Banco Frances SA   \n",
       "9  argentina               Banco Macro                      Banco Macro   \n",
       "\n",
       "           isin currency symbol  \n",
       "0  LU0156801721      ARS     TS  \n",
       "1  BRPETRACNOR9      ARS   APBR  \n",
       "2  ARP495251018      ARS   GGAL  \n",
       "3  ARSIDE010029      ARS   TXAR  \n",
       "4  ARP432631215      ARS   PAMP  \n",
       "5  ARP9028N1016      ARS  TECO2  \n",
       "6  ARMERI013163      ARS   BPAT  \n",
       "7  ARALUA010258      ARS   ALUA  \n",
       "8  ARP125991090      ARS   BBAR  \n",
       "9  ARBANS010010      ARS    BMA  "
      ]
     },
     "execution_count": 70,
     "metadata": {},
     "output_type": "execute_result"
    }
   ],
   "source": [
    "# Retrieve data frame of stocks\n",
    "stocks_df = investpy.get_stocks()\n",
    "stocks_df.head(10)"
   ]
  },
  {
   "cell_type": "code",
   "execution_count": 75,
   "id": "tender-enclosure",
   "metadata": {
    "ExecuteTime": {
     "end_time": "2021-01-21T19:48:35.048550Z",
     "start_time": "2021-01-21T19:48:34.077271Z"
    }
   },
   "outputs": [
    {
     "data": {
      "text/plain": [
       "[{'country': 'argentina',\n",
       "  'name': 'Tenaris',\n",
       "  'full_name': 'Tenaris',\n",
       "  'isin': 'LU0156801721',\n",
       "  'currency': 'ARS',\n",
       "  'symbol': 'TS'},\n",
       " {'country': 'argentina',\n",
       "  'name': 'PETROBRAS ON',\n",
       "  'full_name': 'Petroleo Brasileiro - Petrobras',\n",
       "  'isin': 'BRPETRACNOR9',\n",
       "  'currency': 'ARS',\n",
       "  'symbol': 'APBR'},\n",
       " {'country': 'argentina',\n",
       "  'name': 'Grupo Financiero Galicia',\n",
       "  'full_name': 'Grupo Financiero Galicia B',\n",
       "  'isin': 'ARP495251018',\n",
       "  'currency': 'ARS',\n",
       "  'symbol': 'GGAL'}]"
      ]
     },
     "execution_count": 75,
     "metadata": {},
     "output_type": "execute_result"
    }
   ],
   "source": [
    "# Retrieve stocks as dictionary\n",
    "stocks_dct = investpy.get_stocks_dict()\n",
    "stocks_dct[:3]"
   ]
  },
  {
   "cell_type": "markdown",
   "id": "industrial-kidney",
   "metadata": {},
   "source": [
    "## Stocks countries\n",
    "A list of stock countries can also be extracted. This data is hard-coded in a separate Python script (within Utils)"
   ]
  },
  {
   "cell_type": "code",
   "execution_count": 77,
   "id": "municipal-extreme",
   "metadata": {
    "ExecuteTime": {
     "end_time": "2021-01-21T19:49:31.056549Z",
     "start_time": "2021-01-21T19:49:31.045555Z"
    }
   },
   "outputs": [
    {
     "data": {
      "text/plain": [
       "['argentina',\n",
       " 'brazil',\n",
       " 'canada',\n",
       " 'chile',\n",
       " 'colombia',\n",
       " 'costa rica',\n",
       " 'jamaica',\n",
       " 'mexico',\n",
       " 'peru',\n",
       " 'united states']"
      ]
     },
     "execution_count": 77,
     "metadata": {},
     "output_type": "execute_result"
    }
   ],
   "source": [
    "# Retrieve list of available stock countries\n",
    "stock_countries = investpy.get_stock_countries()\n",
    "stock_countries[:10]"
   ]
  },
  {
   "cell_type": "markdown",
   "id": "distinct-parcel",
   "metadata": {},
   "source": [
    "Retrieval of data proceeds by checking the lists within the library rather than pinging investing.com to find out whether or not the stock actually exists. If the stock is not available within the library it will throw an error. The downside to this is the lack of ability to get "
   ]
  },
  {
   "cell_type": "markdown",
   "id": "illegal-albuquerque",
   "metadata": {},
   "source": [
    "## Historical stock data\n",
    "Stock data here will not contain ETFs or funds. In order to search for stock data the stock symbol and country are mandatory requirements.\n",
    "\n",
    "The following data is available: **Date, Open, High, Low, Close, Volume, Currency**\n",
    "\n",
    "Data does not go back as far as the stock inception. In the case of Next, Google has the price go as far back as 1988. In this case the data only goes back to 2009."
   ]
  },
  {
   "cell_type": "code",
   "execution_count": 79,
   "id": "impressive-plymouth",
   "metadata": {
    "ExecuteTime": {
     "end_time": "2021-01-21T20:04:29.627516Z",
     "start_time": "2021-01-21T20:04:29.052755Z"
    },
    "scrolled": true
   },
   "outputs": [
    {
     "data": {
      "text/html": [
       "<div>\n",
       "<style scoped>\n",
       "    .dataframe tbody tr th:only-of-type {\n",
       "        vertical-align: middle;\n",
       "    }\n",
       "\n",
       "    .dataframe tbody tr th {\n",
       "        vertical-align: top;\n",
       "    }\n",
       "\n",
       "    .dataframe thead th {\n",
       "        text-align: right;\n",
       "    }\n",
       "</style>\n",
       "<table border=\"1\" class=\"dataframe\">\n",
       "  <thead>\n",
       "    <tr style=\"text-align: right;\">\n",
       "      <th></th>\n",
       "      <th>Open</th>\n",
       "      <th>High</th>\n",
       "      <th>Low</th>\n",
       "      <th>Close</th>\n",
       "      <th>Volume</th>\n",
       "      <th>Currency</th>\n",
       "    </tr>\n",
       "    <tr>\n",
       "      <th>Date</th>\n",
       "      <th></th>\n",
       "      <th></th>\n",
       "      <th></th>\n",
       "      <th></th>\n",
       "      <th></th>\n",
       "      <th></th>\n",
       "    </tr>\n",
       "  </thead>\n",
       "  <tbody>\n",
       "    <tr>\n",
       "      <th>2020-12-21</th>\n",
       "      <td>6606.0</td>\n",
       "      <td>6610.0</td>\n",
       "      <td>6388.0</td>\n",
       "      <td>6594.0</td>\n",
       "      <td>243937</td>\n",
       "      <td>GBP</td>\n",
       "    </tr>\n",
       "    <tr>\n",
       "      <th>2020-12-22</th>\n",
       "      <td>6586.0</td>\n",
       "      <td>6721.1</td>\n",
       "      <td>6556.0</td>\n",
       "      <td>6678.0</td>\n",
       "      <td>118118</td>\n",
       "      <td>GBP</td>\n",
       "    </tr>\n",
       "    <tr>\n",
       "      <th>2020-12-23</th>\n",
       "      <td>6622.0</td>\n",
       "      <td>6934.0</td>\n",
       "      <td>6616.0</td>\n",
       "      <td>6934.0</td>\n",
       "      <td>271421</td>\n",
       "      <td>GBP</td>\n",
       "    </tr>\n",
       "    <tr>\n",
       "      <th>2020-12-24</th>\n",
       "      <td>6972.0</td>\n",
       "      <td>7130.0</td>\n",
       "      <td>6928.0</td>\n",
       "      <td>6928.0</td>\n",
       "      <td>246408</td>\n",
       "      <td>GBP</td>\n",
       "    </tr>\n",
       "    <tr>\n",
       "      <th>2020-12-29</th>\n",
       "      <td>7000.0</td>\n",
       "      <td>7236.0</td>\n",
       "      <td>6992.0</td>\n",
       "      <td>7234.0</td>\n",
       "      <td>370280</td>\n",
       "      <td>GBP</td>\n",
       "    </tr>\n",
       "    <tr>\n",
       "      <th>2020-12-30</th>\n",
       "      <td>7202.0</td>\n",
       "      <td>7254.0</td>\n",
       "      <td>7146.5</td>\n",
       "      <td>7164.0</td>\n",
       "      <td>215976</td>\n",
       "      <td>GBP</td>\n",
       "    </tr>\n",
       "    <tr>\n",
       "      <th>2020-12-31</th>\n",
       "      <td>7072.0</td>\n",
       "      <td>7222.0</td>\n",
       "      <td>7050.0</td>\n",
       "      <td>7086.0</td>\n",
       "      <td>246185</td>\n",
       "      <td>GBP</td>\n",
       "    </tr>\n",
       "    <tr>\n",
       "      <th>2021-01-04</th>\n",
       "      <td>7254.0</td>\n",
       "      <td>7254.0</td>\n",
       "      <td>6902.4</td>\n",
       "      <td>6912.0</td>\n",
       "      <td>326573</td>\n",
       "      <td>GBP</td>\n",
       "    </tr>\n",
       "    <tr>\n",
       "      <th>2021-01-05</th>\n",
       "      <td>7324.0</td>\n",
       "      <td>7572.0</td>\n",
       "      <td>7259.4</td>\n",
       "      <td>7468.0</td>\n",
       "      <td>526445</td>\n",
       "      <td>GBP</td>\n",
       "    </tr>\n",
       "    <tr>\n",
       "      <th>2021-01-06</th>\n",
       "      <td>7524.0</td>\n",
       "      <td>7730.0</td>\n",
       "      <td>7370.0</td>\n",
       "      <td>7682.0</td>\n",
       "      <td>701593</td>\n",
       "      <td>GBP</td>\n",
       "    </tr>\n",
       "    <tr>\n",
       "      <th>2021-01-07</th>\n",
       "      <td>7800.0</td>\n",
       "      <td>7800.0</td>\n",
       "      <td>7592.0</td>\n",
       "      <td>7694.0</td>\n",
       "      <td>382967</td>\n",
       "      <td>GBP</td>\n",
       "    </tr>\n",
       "    <tr>\n",
       "      <th>2021-01-08</th>\n",
       "      <td>7678.0</td>\n",
       "      <td>7756.0</td>\n",
       "      <td>7542.0</td>\n",
       "      <td>7684.0</td>\n",
       "      <td>349380</td>\n",
       "      <td>GBP</td>\n",
       "    </tr>\n",
       "    <tr>\n",
       "      <th>2021-01-11</th>\n",
       "      <td>7646.0</td>\n",
       "      <td>7720.0</td>\n",
       "      <td>7530.0</td>\n",
       "      <td>7604.0</td>\n",
       "      <td>373653</td>\n",
       "      <td>GBP</td>\n",
       "    </tr>\n",
       "    <tr>\n",
       "      <th>2021-01-12</th>\n",
       "      <td>7630.0</td>\n",
       "      <td>7752.0</td>\n",
       "      <td>7568.0</td>\n",
       "      <td>7670.0</td>\n",
       "      <td>289161</td>\n",
       "      <td>GBP</td>\n",
       "    </tr>\n",
       "    <tr>\n",
       "      <th>2021-01-13</th>\n",
       "      <td>7708.0</td>\n",
       "      <td>7934.0</td>\n",
       "      <td>7670.0</td>\n",
       "      <td>7880.0</td>\n",
       "      <td>553744</td>\n",
       "      <td>GBP</td>\n",
       "    </tr>\n",
       "    <tr>\n",
       "      <th>2021-01-14</th>\n",
       "      <td>7888.0</td>\n",
       "      <td>8022.0</td>\n",
       "      <td>7656.0</td>\n",
       "      <td>7960.0</td>\n",
       "      <td>543507</td>\n",
       "      <td>GBP</td>\n",
       "    </tr>\n",
       "    <tr>\n",
       "      <th>2021-01-15</th>\n",
       "      <td>7982.0</td>\n",
       "      <td>8076.0</td>\n",
       "      <td>7924.0</td>\n",
       "      <td>8018.0</td>\n",
       "      <td>727542</td>\n",
       "      <td>GBP</td>\n",
       "    </tr>\n",
       "    <tr>\n",
       "      <th>2021-01-18</th>\n",
       "      <td>8034.0</td>\n",
       "      <td>8142.0</td>\n",
       "      <td>7984.0</td>\n",
       "      <td>8100.0</td>\n",
       "      <td>283784</td>\n",
       "      <td>GBP</td>\n",
       "    </tr>\n",
       "    <tr>\n",
       "      <th>2021-01-19</th>\n",
       "      <td>8140.0</td>\n",
       "      <td>8140.0</td>\n",
       "      <td>7828.0</td>\n",
       "      <td>7984.0</td>\n",
       "      <td>391887</td>\n",
       "      <td>GBP</td>\n",
       "    </tr>\n",
       "    <tr>\n",
       "      <th>2021-01-20</th>\n",
       "      <td>7954.0</td>\n",
       "      <td>8112.0</td>\n",
       "      <td>7946.0</td>\n",
       "      <td>8112.0</td>\n",
       "      <td>320333</td>\n",
       "      <td>GBP</td>\n",
       "    </tr>\n",
       "    <tr>\n",
       "      <th>2021-01-21</th>\n",
       "      <td>8142.0</td>\n",
       "      <td>8180.0</td>\n",
       "      <td>8026.0</td>\n",
       "      <td>8158.0</td>\n",
       "      <td>302966</td>\n",
       "      <td>GBP</td>\n",
       "    </tr>\n",
       "  </tbody>\n",
       "</table>\n",
       "</div>"
      ],
      "text/plain": [
       "              Open    High     Low   Close  Volume Currency\n",
       "Date                                                       \n",
       "2020-12-21  6606.0  6610.0  6388.0  6594.0  243937      GBP\n",
       "2020-12-22  6586.0  6721.1  6556.0  6678.0  118118      GBP\n",
       "2020-12-23  6622.0  6934.0  6616.0  6934.0  271421      GBP\n",
       "2020-12-24  6972.0  7130.0  6928.0  6928.0  246408      GBP\n",
       "2020-12-29  7000.0  7236.0  6992.0  7234.0  370280      GBP\n",
       "2020-12-30  7202.0  7254.0  7146.5  7164.0  215976      GBP\n",
       "2020-12-31  7072.0  7222.0  7050.0  7086.0  246185      GBP\n",
       "2021-01-04  7254.0  7254.0  6902.4  6912.0  326573      GBP\n",
       "2021-01-05  7324.0  7572.0  7259.4  7468.0  526445      GBP\n",
       "2021-01-06  7524.0  7730.0  7370.0  7682.0  701593      GBP\n",
       "2021-01-07  7800.0  7800.0  7592.0  7694.0  382967      GBP\n",
       "2021-01-08  7678.0  7756.0  7542.0  7684.0  349380      GBP\n",
       "2021-01-11  7646.0  7720.0  7530.0  7604.0  373653      GBP\n",
       "2021-01-12  7630.0  7752.0  7568.0  7670.0  289161      GBP\n",
       "2021-01-13  7708.0  7934.0  7670.0  7880.0  553744      GBP\n",
       "2021-01-14  7888.0  8022.0  7656.0  7960.0  543507      GBP\n",
       "2021-01-15  7982.0  8076.0  7924.0  8018.0  727542      GBP\n",
       "2021-01-18  8034.0  8142.0  7984.0  8100.0  283784      GBP\n",
       "2021-01-19  8140.0  8140.0  7828.0  7984.0  391887      GBP\n",
       "2021-01-20  7954.0  8112.0  7946.0  8112.0  320333      GBP\n",
       "2021-01-21  8142.0  8180.0  8026.0  8158.0  302966      GBP"
      ]
     },
     "execution_count": 79,
     "metadata": {},
     "output_type": "execute_result"
    }
   ],
   "source": [
    "# Retrieve the recent historical data (past month) of a stock as a pandas.DataFrame on ascending date order\n",
    "df = investpy.get_stock_recent_data(stock='NXT', country='United Kingdom', as_json=False, order='ascending')\n",
    "df"
   ]
  },
  {
   "cell_type": "code",
   "execution_count": 81,
   "id": "saved-genesis",
   "metadata": {
    "ExecuteTime": {
     "end_time": "2021-01-21T20:09:13.191951Z",
     "start_time": "2021-01-21T20:09:11.121385Z"
    }
   },
   "outputs": [],
   "source": [
    "# Retrieve historical data given the date range\n",
    "df = investpy.get_stock_historical_data(\n",
    "    'NXT', country='United Kingdom', \n",
    "    from_date='01/01/1990', to_date='21/01/2020', \n",
    "    as_json=False, order='ascending'\n",
    ")"
   ]
  },
  {
   "cell_type": "code",
   "execution_count": 101,
   "id": "unnecessary-investing",
   "metadata": {
    "ExecuteTime": {
     "end_time": "2021-01-21T20:27:53.806317Z",
     "start_time": "2021-01-21T20:27:53.284975Z"
    }
   },
   "outputs": [
    {
     "data": {
      "text/plain": [
       "<AxesSubplot:xlabel='Date'>"
      ]
     },
     "execution_count": 101,
     "metadata": {},
     "output_type": "execute_result"
    },
    {
     "data": {
      "image/png": "[encoded data removed]",
      "text/plain": [
       "<Figure size 1080x360 with 1 Axes>"
      ]
     },
     "metadata": {
      "needs_background": "light"
     },
     "output_type": "display_data"
    }
   ],
   "source": [
    "# Plot data based on historical data\n",
    "plt.figure(figsize=(15, 5))\n",
    "df.Close.plot()"
   ]
  },
  {
   "cell_type": "code",
   "execution_count": 102,
   "id": "designed-voltage",
   "metadata": {
    "ExecuteTime": {
     "end_time": "2021-01-21T20:27:55.247971Z",
     "start_time": "2021-01-21T20:27:55.200001Z"
    },
    "scrolled": true
   },
   "outputs": [
    {
     "data": {
      "text/html": [
       "<div>\n",
       "<style scoped>\n",
       "    .dataframe tbody tr th:only-of-type {\n",
       "        vertical-align: middle;\n",
       "    }\n",
       "\n",
       "    .dataframe tbody tr th {\n",
       "        vertical-align: top;\n",
       "    }\n",
       "\n",
       "    .dataframe thead th {\n",
       "        text-align: right;\n",
       "    }\n",
       "</style>\n",
       "<table border=\"1\" class=\"dataframe\">\n",
       "  <thead>\n",
       "    <tr style=\"text-align: right;\">\n",
       "      <th></th>\n",
       "      <th>Open</th>\n",
       "      <th>High</th>\n",
       "      <th>Low</th>\n",
       "      <th>Close</th>\n",
       "      <th>Volume</th>\n",
       "      <th>Currency</th>\n",
       "    </tr>\n",
       "    <tr>\n",
       "      <th>Date</th>\n",
       "      <th></th>\n",
       "      <th></th>\n",
       "      <th></th>\n",
       "      <th></th>\n",
       "      <th></th>\n",
       "      <th></th>\n",
       "    </tr>\n",
       "  </thead>\n",
       "  <tbody>\n",
       "    <tr>\n",
       "      <th>2009-07-22</th>\n",
       "      <td>16.2</td>\n",
       "      <td>16.8</td>\n",
       "      <td>16.1</td>\n",
       "      <td>16.7</td>\n",
       "      <td>0</td>\n",
       "      <td>GBP</td>\n",
       "    </tr>\n",
       "    <tr>\n",
       "      <th>2009-08-28</th>\n",
       "      <td>16.5</td>\n",
       "      <td>16.6</td>\n",
       "      <td>16.3</td>\n",
       "      <td>16.5</td>\n",
       "      <td>0</td>\n",
       "      <td>GBP</td>\n",
       "    </tr>\n",
       "    <tr>\n",
       "      <th>2009-08-31</th>\n",
       "      <td>16.5</td>\n",
       "      <td>16.5</td>\n",
       "      <td>16.5</td>\n",
       "      <td>16.5</td>\n",
       "      <td>0</td>\n",
       "      <td>GBP</td>\n",
       "    </tr>\n",
       "    <tr>\n",
       "      <th>2009-09-01</th>\n",
       "      <td>16.5</td>\n",
       "      <td>16.5</td>\n",
       "      <td>16.0</td>\n",
       "      <td>16.2</td>\n",
       "      <td>0</td>\n",
       "      <td>GBP</td>\n",
       "    </tr>\n",
       "    <tr>\n",
       "      <th>2009-09-02</th>\n",
       "      <td>16.5</td>\n",
       "      <td>16.5</td>\n",
       "      <td>16.1</td>\n",
       "      <td>16.5</td>\n",
       "      <td>0</td>\n",
       "      <td>GBP</td>\n",
       "    </tr>\n",
       "    <tr>\n",
       "      <th>2009-09-03</th>\n",
       "      <td>16.5</td>\n",
       "      <td>16.6</td>\n",
       "      <td>16.3</td>\n",
       "      <td>16.4</td>\n",
       "      <td>0</td>\n",
       "      <td>GBP</td>\n",
       "    </tr>\n",
       "    <tr>\n",
       "      <th>2009-09-04</th>\n",
       "      <td>16.4</td>\n",
       "      <td>16.6</td>\n",
       "      <td>16.2</td>\n",
       "      <td>16.5</td>\n",
       "      <td>0</td>\n",
       "      <td>GBP</td>\n",
       "    </tr>\n",
       "    <tr>\n",
       "      <th>2009-09-08</th>\n",
       "      <td>17.3</td>\n",
       "      <td>17.6</td>\n",
       "      <td>17.1</td>\n",
       "      <td>17.4</td>\n",
       "      <td>0</td>\n",
       "      <td>GBP</td>\n",
       "    </tr>\n",
       "    <tr>\n",
       "      <th>2009-09-09</th>\n",
       "      <td>17.5</td>\n",
       "      <td>17.5</td>\n",
       "      <td>17.3</td>\n",
       "      <td>17.5</td>\n",
       "      <td>0</td>\n",
       "      <td>GBP</td>\n",
       "    </tr>\n",
       "    <tr>\n",
       "      <th>2009-09-10</th>\n",
       "      <td>17.5</td>\n",
       "      <td>17.5</td>\n",
       "      <td>16.6</td>\n",
       "      <td>16.7</td>\n",
       "      <td>0</td>\n",
       "      <td>GBP</td>\n",
       "    </tr>\n",
       "    <tr>\n",
       "      <th>2009-09-11</th>\n",
       "      <td>17.0</td>\n",
       "      <td>17.1</td>\n",
       "      <td>16.8</td>\n",
       "      <td>17.1</td>\n",
       "      <td>0</td>\n",
       "      <td>GBP</td>\n",
       "    </tr>\n",
       "    <tr>\n",
       "      <th>2009-09-14</th>\n",
       "      <td>17.0</td>\n",
       "      <td>17.2</td>\n",
       "      <td>16.9</td>\n",
       "      <td>17.2</td>\n",
       "      <td>0</td>\n",
       "      <td>GBP</td>\n",
       "    </tr>\n",
       "    <tr>\n",
       "      <th>2009-09-15</th>\n",
       "      <td>17.3</td>\n",
       "      <td>17.4</td>\n",
       "      <td>16.7</td>\n",
       "      <td>17.0</td>\n",
       "      <td>0</td>\n",
       "      <td>GBP</td>\n",
       "    </tr>\n",
       "    <tr>\n",
       "      <th>2009-09-16</th>\n",
       "      <td>17.6</td>\n",
       "      <td>18.3</td>\n",
       "      <td>17.2</td>\n",
       "      <td>18.2</td>\n",
       "      <td>0</td>\n",
       "      <td>GBP</td>\n",
       "    </tr>\n",
       "    <tr>\n",
       "      <th>2009-09-17</th>\n",
       "      <td>18.3</td>\n",
       "      <td>18.3</td>\n",
       "      <td>18.0</td>\n",
       "      <td>18.1</td>\n",
       "      <td>0</td>\n",
       "      <td>GBP</td>\n",
       "    </tr>\n",
       "    <tr>\n",
       "      <th>2009-09-23</th>\n",
       "      <td>18.5</td>\n",
       "      <td>18.8</td>\n",
       "      <td>18.4</td>\n",
       "      <td>18.4</td>\n",
       "      <td>0</td>\n",
       "      <td>GBP</td>\n",
       "    </tr>\n",
       "    <tr>\n",
       "      <th>2009-09-24</th>\n",
       "      <td>18.4</td>\n",
       "      <td>18.4</td>\n",
       "      <td>18.0</td>\n",
       "      <td>18.1</td>\n",
       "      <td>0</td>\n",
       "      <td>GBP</td>\n",
       "    </tr>\n",
       "    <tr>\n",
       "      <th>2009-09-25</th>\n",
       "      <td>18.1</td>\n",
       "      <td>18.4</td>\n",
       "      <td>17.8</td>\n",
       "      <td>18.2</td>\n",
       "      <td>0</td>\n",
       "      <td>GBP</td>\n",
       "    </tr>\n",
       "    <tr>\n",
       "      <th>2009-09-28</th>\n",
       "      <td>18.1</td>\n",
       "      <td>18.3</td>\n",
       "      <td>17.8</td>\n",
       "      <td>18.1</td>\n",
       "      <td>0</td>\n",
       "      <td>GBP</td>\n",
       "    </tr>\n",
       "    <tr>\n",
       "      <th>2009-09-29</th>\n",
       "      <td>18.2</td>\n",
       "      <td>18.6</td>\n",
       "      <td>17.9</td>\n",
       "      <td>18.5</td>\n",
       "      <td>0</td>\n",
       "      <td>GBP</td>\n",
       "    </tr>\n",
       "    <tr>\n",
       "      <th>2009-09-30</th>\n",
       "      <td>18.5</td>\n",
       "      <td>18.5</td>\n",
       "      <td>17.8</td>\n",
       "      <td>17.8</td>\n",
       "      <td>0</td>\n",
       "      <td>GBP</td>\n",
       "    </tr>\n",
       "  </tbody>\n",
       "</table>\n",
       "</div>"
      ],
      "text/plain": [
       "            Open  High   Low  Close  Volume Currency\n",
       "Date                                                \n",
       "2009-07-22  16.2  16.8  16.1   16.7       0      GBP\n",
       "2009-08-28  16.5  16.6  16.3   16.5       0      GBP\n",
       "2009-08-31  16.5  16.5  16.5   16.5       0      GBP\n",
       "2009-09-01  16.5  16.5  16.0   16.2       0      GBP\n",
       "2009-09-02  16.5  16.5  16.1   16.5       0      GBP\n",
       "2009-09-03  16.5  16.6  16.3   16.4       0      GBP\n",
       "2009-09-04  16.4  16.6  16.2   16.5       0      GBP\n",
       "2009-09-08  17.3  17.6  17.1   17.4       0      GBP\n",
       "2009-09-09  17.5  17.5  17.3   17.5       0      GBP\n",
       "2009-09-10  17.5  17.5  16.6   16.7       0      GBP\n",
       "2009-09-11  17.0  17.1  16.8   17.1       0      GBP\n",
       "2009-09-14  17.0  17.2  16.9   17.2       0      GBP\n",
       "2009-09-15  17.3  17.4  16.7   17.0       0      GBP\n",
       "2009-09-16  17.6  18.3  17.2   18.2       0      GBP\n",
       "2009-09-17  18.3  18.3  18.0   18.1       0      GBP\n",
       "2009-09-23  18.5  18.8  18.4   18.4       0      GBP\n",
       "2009-09-24  18.4  18.4  18.0   18.1       0      GBP\n",
       "2009-09-25  18.1  18.4  17.8   18.2       0      GBP\n",
       "2009-09-28  18.1  18.3  17.8   18.1       0      GBP\n",
       "2009-09-29  18.2  18.6  17.9   18.5       0      GBP\n",
       "2009-09-30  18.5  18.5  17.8   17.8       0      GBP"
      ]
     },
     "execution_count": 102,
     "metadata": {},
     "output_type": "execute_result"
    }
   ],
   "source": [
    "# A handful of prices which are evidentally incorrect, late 2009\n",
    "df[df.Close < 1000]"
   ]
  },
  {
   "cell_type": "markdown",
   "id": "round-progress",
   "metadata": {},
   "source": [
    "## Stock dividends\n",
    "It is also possible to extract the dividend payments for a stock (excludes ETFs). \n",
    "- Date: Ex-dividend date*\n",
    "- Dividend: Amount of dividend in terms of stock price*\n",
    "- Type: How the dividend is paid (monthly, quarterly, semi_annual, annual, trailing_twelve_months)\n",
    "- Payment Date: Date the dividend is actually paid\n",
    "- Yield: Percentage of the dividend amount as percentage of stock price*\n"
   ]
  },
  {
   "cell_type": "code",
   "execution_count": 107,
   "id": "historical-calcium",
   "metadata": {
    "ExecuteTime": {
     "end_time": "2021-01-21T20:35:44.967653Z",
     "start_time": "2021-01-21T20:35:43.366551Z"
    }
   },
   "outputs": [
    {
     "data": {
      "text/html": [
       "<div>\n",
       "<style scoped>\n",
       "    .dataframe tbody tr th:only-of-type {\n",
       "        vertical-align: middle;\n",
       "    }\n",
       "\n",
       "    .dataframe tbody tr th {\n",
       "        vertical-align: top;\n",
       "    }\n",
       "\n",
       "    .dataframe thead th {\n",
       "        text-align: right;\n",
       "    }\n",
       "</style>\n",
       "<table border=\"1\" class=\"dataframe\">\n",
       "  <thead>\n",
       "    <tr style=\"text-align: right;\">\n",
       "      <th></th>\n",
       "      <th>Date</th>\n",
       "      <th>Dividend</th>\n",
       "      <th>Type</th>\n",
       "      <th>Payment Date</th>\n",
       "      <th>Yield</th>\n",
       "    </tr>\n",
       "  </thead>\n",
       "  <tbody>\n",
       "    <tr>\n",
       "      <th>0</th>\n",
       "      <td>2019-12-05</td>\n",
       "      <td>57.500</td>\n",
       "      <td>trailing_twelve_months</td>\n",
       "      <td>2020-01-02</td>\n",
       "      <td>0.94%</td>\n",
       "    </tr>\n",
       "    <tr>\n",
       "      <th>1</th>\n",
       "      <td>2019-07-04</td>\n",
       "      <td>165.000</td>\n",
       "      <td>trailing_twelve_months</td>\n",
       "      <td>2019-08-01</td>\n",
       "      <td>2.69%</td>\n",
       "    </tr>\n",
       "    <tr>\n",
       "      <th>2</th>\n",
       "      <td>2018-12-06</td>\n",
       "      <td>160.000</td>\n",
       "      <td>trailing_twelve_months</td>\n",
       "      <td>2019-01-02</td>\n",
       "      <td>3.01%</td>\n",
       "    </tr>\n",
       "    <tr>\n",
       "      <th>3</th>\n",
       "      <td>2018-07-05</td>\n",
       "      <td>158.000</td>\n",
       "      <td>trailing_twelve_months</td>\n",
       "      <td>2018-08-01</td>\n",
       "      <td>3.04%</td>\n",
       "    </tr>\n",
       "    <tr>\n",
       "      <th>4</th>\n",
       "      <td>2018-01-04</td>\n",
       "      <td>158.000</td>\n",
       "      <td>trailing_twelve_months</td>\n",
       "      <td>2018-01-25</td>\n",
       "      <td>3.41%</td>\n",
       "    </tr>\n",
       "    <tr>\n",
       "      <th>5</th>\n",
       "      <td>2017-12-07</td>\n",
       "      <td>158.000</td>\n",
       "      <td>trailing_twelve_months</td>\n",
       "      <td>2018-01-02</td>\n",
       "      <td>3.48%</td>\n",
       "    </tr>\n",
       "    <tr>\n",
       "      <th>6</th>\n",
       "      <td>2017-10-05</td>\n",
       "      <td>158.000</td>\n",
       "      <td>trailing_twelve_months</td>\n",
       "      <td>2017-11-01</td>\n",
       "      <td>3.24%</td>\n",
       "    </tr>\n",
       "    <tr>\n",
       "      <th>7</th>\n",
       "      <td>2017-07-06</td>\n",
       "      <td>158.000</td>\n",
       "      <td>trailing_twelve_months</td>\n",
       "      <td>2017-08-01</td>\n",
       "      <td>3.98%</td>\n",
       "    </tr>\n",
       "    <tr>\n",
       "      <th>8</th>\n",
       "      <td>2017-04-06</td>\n",
       "      <td>158.000</td>\n",
       "      <td>trailing_twelve_months</td>\n",
       "      <td>2017-05-02</td>\n",
       "      <td>3.70%</td>\n",
       "    </tr>\n",
       "    <tr>\n",
       "      <th>9</th>\n",
       "      <td>2016-12-08</td>\n",
       "      <td>158.000</td>\n",
       "      <td>trailing_twelve_months</td>\n",
       "      <td>2017-01-03</td>\n",
       "      <td>4.09%</td>\n",
       "    </tr>\n",
       "    <tr>\n",
       "      <th>10</th>\n",
       "      <td>2016-07-07</td>\n",
       "      <td>163.890</td>\n",
       "      <td>trailing_twelve_months</td>\n",
       "      <td>2016-08-01</td>\n",
       "      <td>3.13%</td>\n",
       "    </tr>\n",
       "    <tr>\n",
       "      <th>11</th>\n",
       "      <td>2016-01-14</td>\n",
       "      <td>153.000</td>\n",
       "      <td>trailing_twelve_months</td>\n",
       "      <td>2016-02-01</td>\n",
       "      <td>2.32%</td>\n",
       "    </tr>\n",
       "    <tr>\n",
       "      <th>12</th>\n",
       "      <td>2015-12-10</td>\n",
       "      <td>153.000</td>\n",
       "      <td>trailing_twelve_months</td>\n",
       "      <td>2016-01-04</td>\n",
       "      <td>2.10%</td>\n",
       "    </tr>\n",
       "    <tr>\n",
       "      <th>13</th>\n",
       "      <td>2015-10-08</td>\n",
       "      <td>151.812</td>\n",
       "      <td>trailing_twelve_months</td>\n",
       "      <td>2015-11-02</td>\n",
       "      <td>-</td>\n",
       "    </tr>\n",
       "  </tbody>\n",
       "</table>\n",
       "</div>"
      ],
      "text/plain": [
       "         Date  Dividend                    Type Payment Date  Yield\n",
       "0  2019-12-05    57.500  trailing_twelve_months   2020-01-02  0.94%\n",
       "1  2019-07-04   165.000  trailing_twelve_months   2019-08-01  2.69%\n",
       "2  2018-12-06   160.000  trailing_twelve_months   2019-01-02  3.01%\n",
       "3  2018-07-05   158.000  trailing_twelve_months   2018-08-01  3.04%\n",
       "4  2018-01-04   158.000  trailing_twelve_months   2018-01-25  3.41%\n",
       "5  2017-12-07   158.000  trailing_twelve_months   2018-01-02  3.48%\n",
       "6  2017-10-05   158.000  trailing_twelve_months   2017-11-01  3.24%\n",
       "7  2017-07-06   158.000  trailing_twelve_months   2017-08-01  3.98%\n",
       "8  2017-04-06   158.000  trailing_twelve_months   2017-05-02  3.70%\n",
       "9  2016-12-08   158.000  trailing_twelve_months   2017-01-03  4.09%\n",
       "10 2016-07-07   163.890  trailing_twelve_months   2016-08-01  3.13%\n",
       "11 2016-01-14   153.000  trailing_twelve_months   2016-02-01  2.32%\n",
       "12 2015-12-10   153.000  trailing_twelve_months   2016-01-04  2.10%\n",
       "13 2015-10-08   151.812  trailing_twelve_months   2015-11-02      -"
      ]
     },
     "execution_count": 107,
     "metadata": {},
     "output_type": "execute_result"
    }
   ],
   "source": [
    "stock_dividends = investpy.get_stock_dividends('NXT', 'United Kingdom')\n",
    "stock_dividends"
   ]
  },
  {
   "cell_type": "markdown",
   "id": "geographic-quarter",
   "metadata": {},
   "source": [
    "## Stock information"
   ]
  },
  {
   "cell_type": "code",
   "execution_count": 106,
   "id": "electrical-valley",
   "metadata": {
    "ExecuteTime": {
     "end_time": "2021-01-21T20:32:50.090035Z",
     "start_time": "2021-01-21T20:32:49.148214Z"
    }
   },
   "outputs": [
    {
     "data": {
      "text/plain": [
       "{'url': 'https://www.investing.com/equities/next-company-profile',\n",
       " 'desc': \"NEXT plc is a United Kingdom-based retailer offering clothing, footwear, accessories, beauty and home products. The Company’s segments include NEXT Online, NEXT Retail, NEXT Finance, NEXT International Retail, NEXT Sourcing and other. NEXT Online is its online business for selling clothing and homeware in the United Kingdom and Eire. NEXT Retail is a chain of over 500 stores in the United Kingdom and Eire. NEXT Finance provides consumer credit for NEXT customers to purchase products online and in its stores through nextpay and next3step. next3step is a credit account, which allows customers to spread the cost of orders over three months in three equal payments, without incurring an interest charge. NEXT Sourcing designs and sources NEXT branded products. The NEXT International Retail segment comprises franchise and wholly owned stores overseas. The Company's franchise partners operate approximately 199 stores in over 32 countries.\"}"
      ]
     },
     "execution_count": 106,
     "metadata": {},
     "output_type": "execute_result"
    }
   ],
   "source": [
    "# Retrieve company profile\n",
    "company_profile = investpy.get_stock_company_profile(stock='nxt', country='United Kingdom', language='english')\n",
    "company_profile"
   ]
  },
  {
   "cell_type": "code",
   "execution_count": 109,
   "id": "average-arabic",
   "metadata": {
    "ExecuteTime": {
     "end_time": "2021-01-21T20:45:38.890631Z",
     "start_time": "2021-01-21T20:45:37.975568Z"
    }
   },
   "outputs": [
    {
     "data": {
      "text/plain": [
       "{'Stock Symbol': 'NXT',\n",
       " 'Prev. Close': 8112.0,\n",
       " 'Todays Range': '8,026 - 8,180',\n",
       " 'Revenue': 3540000000.0,\n",
       " 'Open': 8142.0,\n",
       " '52 wk Range': '3,311 - 8,180',\n",
       " 'EPS': 2.57,\n",
       " 'Volume': 302966.0,\n",
       " 'Market Cap': 10850000000.0,\n",
       " 'Dividend (Yield)': 'N/A (N/A)',\n",
       " 'Average Vol. (3m)': 381437.0,\n",
       " 'P/E Ratio': 31.57,\n",
       " 'Beta': 1.4,\n",
       " '1-Year Change': '16.05%',\n",
       " 'Shares Outstanding': 132949276.0,\n",
       " 'Next Earnings Date': '01/04/2021'}"
      ]
     },
     "execution_count": 109,
     "metadata": {},
     "output_type": "execute_result"
    }
   ],
   "source": [
    "# Retrieve current pertinent stock information, as dataframe or json\n",
    "stock_info = investpy.get_stock_information('NXT', 'United Kingdom', as_json=True)\n",
    "stock_info"
   ]
  },
  {
   "cell_type": "code",
   "execution_count": 115,
   "id": "outdoor-citation",
   "metadata": {
    "ExecuteTime": {
     "end_time": "2021-01-21T21:01:51.054343Z",
     "start_time": "2021-01-21T21:01:51.039353Z"
    }
   },
   "outputs": [],
   "source": [
    "# Retrieve financial summary for stock (error: invalid literal for int() with base 10)\n",
    "# summary type: `income_statement`, `cash_flow_statement` and `balance_sheet`\n",
    "# period: `annual` and `quarterly`\n",
    "\n",
    "# income_statement = investpy.get_stock_financial_summary(\n",
    "#     'NXT', 'United Kingdom', summary_type='income_statement', period='annual'\n",
    "# )\n",
    "\n",
    "# cash_flow_statement = investpy.get_stock_financial_summary(\n",
    "#     'NXT', 'United Kingdom', summary_type='cash_flow_statement', period='annual'\n",
    "# )\n",
    "\n",
    "# balance_sheet = cash_flow_statement = investpy.get_stock_financial_summary(\n",
    "#     'NXT', 'United Kingdom', summary_type='balance_sheet', period='annual'\n",
    "# )\n"
   ]
  },
  {
   "cell_type": "markdown",
   "id": "superb-directory",
   "metadata": {},
   "source": [
    "## Stocks overview\n",
    "This function will review up to 1000 stocks from a country simultaneously, providing the current stock prices and turnover - it's unclear the meaning of turnover in this context, as it seems to be indicating turnover of shares volume which have attributed to the change on the most recent day. "
   ]
  },
  {
   "cell_type": "code",
   "execution_count": 110,
   "id": "portable-russian",
   "metadata": {
    "ExecuteTime": {
     "end_time": "2021-01-21T20:49:30.066234Z",
     "start_time": "2021-01-21T20:49:24.991689Z"
    }
   },
   "outputs": [
    {
     "data": {
      "text/html": [
       "<div>\n",
       "<style scoped>\n",
       "    .dataframe tbody tr th:only-of-type {\n",
       "        vertical-align: middle;\n",
       "    }\n",
       "\n",
       "    .dataframe tbody tr th {\n",
       "        vertical-align: top;\n",
       "    }\n",
       "\n",
       "    .dataframe thead th {\n",
       "        text-align: right;\n",
       "    }\n",
       "</style>\n",
       "<table border=\"1\" class=\"dataframe\">\n",
       "  <thead>\n",
       "    <tr style=\"text-align: right;\">\n",
       "      <th></th>\n",
       "      <th>country</th>\n",
       "      <th>name</th>\n",
       "      <th>symbol</th>\n",
       "      <th>last</th>\n",
       "      <th>high</th>\n",
       "      <th>low</th>\n",
       "      <th>change</th>\n",
       "      <th>change_percentage</th>\n",
       "      <th>turnover</th>\n",
       "      <th>currency</th>\n",
       "    </tr>\n",
       "  </thead>\n",
       "  <tbody>\n",
       "    <tr>\n",
       "      <th>0</th>\n",
       "      <td>united kingdom</td>\n",
       "      <td>British American Tobacco</td>\n",
       "      <td>BATS</td>\n",
       "      <td>2748.00</td>\n",
       "      <td>2791.0</td>\n",
       "      <td>2740.50</td>\n",
       "      <td>+0.5</td>\n",
       "      <td>+0.02%</td>\n",
       "      <td>2260000</td>\n",
       "      <td>GBP</td>\n",
       "    </tr>\n",
       "    <tr>\n",
       "      <th>1</th>\n",
       "      <td>united kingdom</td>\n",
       "      <td>HSBC</td>\n",
       "      <td>HSBA</td>\n",
       "      <td>413.60</td>\n",
       "      <td>421.1</td>\n",
       "      <td>412.25</td>\n",
       "      <td>+5.60</td>\n",
       "      <td>+1.37%</td>\n",
       "      <td>20520000</td>\n",
       "      <td>GBP</td>\n",
       "    </tr>\n",
       "    <tr>\n",
       "      <th>2</th>\n",
       "      <td>united kingdom</td>\n",
       "      <td>Barclays</td>\n",
       "      <td>BARC</td>\n",
       "      <td>144.80</td>\n",
       "      <td>147.3</td>\n",
       "      <td>143.96</td>\n",
       "      <td>-1.52</td>\n",
       "      <td>-1.04%</td>\n",
       "      <td>20670000</td>\n",
       "      <td>GBP</td>\n",
       "    </tr>\n",
       "    <tr>\n",
       "      <th>3</th>\n",
       "      <td>united kingdom</td>\n",
       "      <td>InterContinental</td>\n",
       "      <td>IHG</td>\n",
       "      <td>4825.00</td>\n",
       "      <td>4896.0</td>\n",
       "      <td>4808.00</td>\n",
       "      <td>-1.0</td>\n",
       "      <td>-0.02%</td>\n",
       "      <td>275700</td>\n",
       "      <td>GBP</td>\n",
       "    </tr>\n",
       "    <tr>\n",
       "      <th>4</th>\n",
       "      <td>united kingdom</td>\n",
       "      <td>BP</td>\n",
       "      <td>BP</td>\n",
       "      <td>293.35</td>\n",
       "      <td>303.1</td>\n",
       "      <td>292.55</td>\n",
       "      <td>-9.50</td>\n",
       "      <td>-3.14%</td>\n",
       "      <td>39360000</td>\n",
       "      <td>GBP</td>\n",
       "    </tr>\n",
       "  </tbody>\n",
       "</table>\n",
       "</div>"
      ],
      "text/plain": [
       "          country                      name symbol     last    high      low  \\\n",
       "0  united kingdom  British American Tobacco   BATS  2748.00  2791.0  2740.50   \n",
       "1  united kingdom                      HSBC   HSBA   413.60   421.1   412.25   \n",
       "2  united kingdom                  Barclays   BARC   144.80   147.3   143.96   \n",
       "3  united kingdom          InterContinental    IHG  4825.00  4896.0  4808.00   \n",
       "4  united kingdom                        BP     BP   293.35   303.1   292.55   \n",
       "\n",
       "  change change_percentage  turnover currency  \n",
       "0   +0.5            +0.02%   2260000      GBP  \n",
       "1  +5.60            +1.37%  20520000      GBP  \n",
       "2  -1.52            -1.04%  20670000      GBP  \n",
       "3   -1.0            -0.02%    275700      GBP  \n",
       "4  -9.50            -3.14%  39360000      GBP  "
      ]
     },
     "execution_count": 110,
     "metadata": {},
     "output_type": "execute_result"
    }
   ],
   "source": [
    "stocks_overview = investpy.get_stocks_overview('United Kingdom', n_results=5)\n",
    "stocks_overview"
   ]
  },
  {
   "cell_type": "markdown",
   "id": "formal-samuel",
   "metadata": {},
   "source": [
    "# ETFs"
   ]
  },
  {
   "cell_type": "markdown",
   "id": "sacred-typing",
   "metadata": {},
   "source": [
    "## List of ETFs\n",
    "Like stocks, the list of ETFs is stored in a CSV with the library, and it not acquired from investing.com or elsewhere."
   ]
  },
  {
   "cell_type": "code",
   "execution_count": 125,
   "id": "after-bulgaria",
   "metadata": {
    "ExecuteTime": {
     "end_time": "2021-01-22T22:07:06.601196Z",
     "start_time": "2021-01-22T22:07:06.466283Z"
    }
   },
   "outputs": [
    {
     "data": {
      "text/html": [
       "<div>\n",
       "<style scoped>\n",
       "    .dataframe tbody tr th:only-of-type {\n",
       "        vertical-align: middle;\n",
       "    }\n",
       "\n",
       "    .dataframe tbody tr th {\n",
       "        vertical-align: top;\n",
       "    }\n",
       "\n",
       "    .dataframe thead th {\n",
       "        text-align: right;\n",
       "    }\n",
       "</style>\n",
       "<table border=\"1\" class=\"dataframe\">\n",
       "  <thead>\n",
       "    <tr style=\"text-align: right;\">\n",
       "      <th></th>\n",
       "      <th>country</th>\n",
       "      <th>name</th>\n",
       "      <th>full_name</th>\n",
       "      <th>symbol</th>\n",
       "      <th>isin</th>\n",
       "      <th>asset_class</th>\n",
       "      <th>currency</th>\n",
       "      <th>stock_exchange</th>\n",
       "      <th>def_stock_exchange</th>\n",
       "    </tr>\n",
       "  </thead>\n",
       "  <tbody>\n",
       "    <tr>\n",
       "      <th>8090</th>\n",
       "      <td>united kingdom</td>\n",
       "      <td>Amundi ETF S&amp;P 500 UCITS</td>\n",
       "      <td>Amundi ETF S&amp;P 500 UCITS</td>\n",
       "      <td>500U</td>\n",
       "      <td>LU1681049018</td>\n",
       "      <td>equity</td>\n",
       "      <td>USD</td>\n",
       "      <td>London</td>\n",
       "      <td>False</td>\n",
       "    </tr>\n",
       "    <tr>\n",
       "      <th>8091</th>\n",
       "      <td>united kingdom</td>\n",
       "      <td>Amundi MSCI Europe Banks UCITS</td>\n",
       "      <td>Amundi MSCI Europe Banks UCITS</td>\n",
       "      <td>CB5</td>\n",
       "      <td>FR0010688176</td>\n",
       "      <td>equity</td>\n",
       "      <td>GBP</td>\n",
       "      <td>London</td>\n",
       "      <td>False</td>\n",
       "    </tr>\n",
       "    <tr>\n",
       "      <th>8092</th>\n",
       "      <td>united kingdom</td>\n",
       "      <td>Amundi DAX UCITS</td>\n",
       "      <td>Amundi MSCI Germany UCITS</td>\n",
       "      <td>CG1</td>\n",
       "      <td>FR0010655712</td>\n",
       "      <td>equity</td>\n",
       "      <td>GBP</td>\n",
       "      <td>London</td>\n",
       "      <td>False</td>\n",
       "    </tr>\n",
       "    <tr>\n",
       "      <th>8093</th>\n",
       "      <td>united kingdom</td>\n",
       "      <td>Amundi ETF MSCI Spain UCITS</td>\n",
       "      <td>Amundi ETF MSCI Spain UCITS</td>\n",
       "      <td>CS1</td>\n",
       "      <td>FR0010655746</td>\n",
       "      <td>equity</td>\n",
       "      <td>GBP</td>\n",
       "      <td>London</td>\n",
       "      <td>False</td>\n",
       "    </tr>\n",
       "    <tr>\n",
       "      <th>8094</th>\n",
       "      <td>united kingdom</td>\n",
       "      <td>Amundi MSCI Brazil UCITS</td>\n",
       "      <td>Amundi MSCI Brazil UCITS</td>\n",
       "      <td>BRZ</td>\n",
       "      <td>FR0010821793</td>\n",
       "      <td>equity</td>\n",
       "      <td>USD</td>\n",
       "      <td>London</td>\n",
       "      <td>False</td>\n",
       "    </tr>\n",
       "  </tbody>\n",
       "</table>\n",
       "</div>"
      ],
      "text/plain": [
       "             country                            name  \\\n",
       "8090  united kingdom        Amundi ETF S&P 500 UCITS   \n",
       "8091  united kingdom  Amundi MSCI Europe Banks UCITS   \n",
       "8092  united kingdom                Amundi DAX UCITS   \n",
       "8093  united kingdom     Amundi ETF MSCI Spain UCITS   \n",
       "8094  united kingdom        Amundi MSCI Brazil UCITS   \n",
       "\n",
       "                           full_name symbol          isin asset_class  \\\n",
       "8090        Amundi ETF S&P 500 UCITS   500U  LU1681049018      equity   \n",
       "8091  Amundi MSCI Europe Banks UCITS    CB5  FR0010688176      equity   \n",
       "8092       Amundi MSCI Germany UCITS    CG1  FR0010655712      equity   \n",
       "8093     Amundi ETF MSCI Spain UCITS    CS1  FR0010655746      equity   \n",
       "8094        Amundi MSCI Brazil UCITS    BRZ  FR0010821793      equity   \n",
       "\n",
       "     currency stock_exchange  def_stock_exchange  \n",
       "8090      USD         London               False  \n",
       "8091      GBP         London               False  \n",
       "8092      GBP         London               False  \n",
       "8093      GBP         London               False  \n",
       "8094      USD         London               False  "
      ]
     },
     "execution_count": 125,
     "metadata": {},
     "output_type": "execute_result"
    }
   ],
   "source": [
    "# Retrieve a table of all the available ETFs\n",
    "etfs_df = investpy.get_etfs()\n",
    "etfs_df[etfs_df.country == 'united kingdom'].head()"
   ]
  },
  {
   "cell_type": "code",
   "execution_count": 119,
   "id": "defensive-commons",
   "metadata": {
    "ExecuteTime": {
     "end_time": "2021-01-22T22:01:10.287273Z",
     "start_time": "2021-01-22T22:01:10.160355Z"
    }
   },
   "outputs": [
    {
     "data": {
      "text/plain": [
       "['Australian High Interest Cash',\n",
       " 'VanEck Vectors MSCI International Sustainable Equi',\n",
       " 'BetaShares Australian Equities Strong Bear Hedge',\n",
       " 'BetaShares Gold Bullion',\n",
       " 'Vanguard Australian Shares',\n",
       " 'Betashares Active Australian Hybrids',\n",
       " 'Montgomery Global Equities Fund',\n",
       " 'iShares S&P/ASX Dividend Opportunities',\n",
       " 'VanEck Vectors FTSE Global Infrastructure',\n",
       " 'WCM Quality Global Growth']"
      ]
     },
     "execution_count": 119,
     "metadata": {},
     "output_type": "execute_result"
    }
   ],
   "source": [
    "# Retrieve a list of all the avilable ETFs\n",
    "etfs_list = investpy.get_etfs_list()\n",
    "etfs_list[:10]"
   ]
  },
  {
   "cell_type": "code",
   "execution_count": 122,
   "id": "legislative-fifth",
   "metadata": {
    "ExecuteTime": {
     "end_time": "2021-01-22T22:03:11.472733Z",
     "start_time": "2021-01-22T22:03:11.122259Z"
    },
    "scrolled": true
   },
   "outputs": [
    {
     "data": {
      "text/plain": [
       "[{'country': 'australia',\n",
       "  'name': 'Australian High Interest Cash',\n",
       "  'full_name': 'Australian High Interest Cash',\n",
       "  'symbol': 'AAA',\n",
       "  'isin': 'AU000000AAA3',\n",
       "  'asset_class': 'other',\n",
       "  'currency': 'AUD',\n",
       "  'stock_exchange': 'Sydney',\n",
       "  'def_stock_exchange': True},\n",
       " {'country': 'australia',\n",
       "  'name': 'VanEck Vectors MSCI International Sustainable Equi',\n",
       "  'full_name': 'VanEck Vectors MSCI International Sustainable Equity',\n",
       "  'symbol': 'ESGI',\n",
       "  'isin': 'AU0000001356',\n",
       "  'asset_class': 'equity',\n",
       "  'currency': 'AUD',\n",
       "  'stock_exchange': 'Sydney',\n",
       "  'def_stock_exchange': True}]"
      ]
     },
     "execution_count": 122,
     "metadata": {},
     "output_type": "execute_result"
    }
   ],
   "source": [
    "# Retrive a list of ETFs in json format (alternative to df)\n",
    "etfs_dct = investpy.get_etfs_dict()\n",
    "etfs_dct[:2]"
   ]
  },
  {
   "cell_type": "code",
   "execution_count": 123,
   "id": "specific-plaintiff",
   "metadata": {
    "ExecuteTime": {
     "end_time": "2021-01-22T22:04:01.490217Z",
     "start_time": "2021-01-22T22:04:01.467232Z"
    }
   },
   "outputs": [
    {
     "data": {
      "text/plain": [
       "['australia',\n",
       " 'austria',\n",
       " 'belgium',\n",
       " 'brazil',\n",
       " 'bulgaria',\n",
       " 'canada',\n",
       " 'china',\n",
       " 'colombia',\n",
       " 'denmark',\n",
       " 'egypt']"
      ]
     },
     "execution_count": 123,
     "metadata": {},
     "output_type": "execute_result"
    }
   ],
   "source": [
    "# Retrive list of ETF countries\n",
    "etf_countries = investpy.get_etf_countries()\n",
    "etf_countries[:10]"
   ]
  },
  {
   "cell_type": "markdown",
   "id": "regulation-method",
   "metadata": {},
   "source": [
    "## Historical ETF data\n",
    "Annoyingly the functions require the name of the ETF, not the symbol, in order to request the data."
   ]
  },
  {
   "cell_type": "code",
   "execution_count": 131,
   "id": "german-vault",
   "metadata": {
    "ExecuteTime": {
     "end_time": "2021-01-22T22:10:51.673295Z",
     "start_time": "2021-01-22T22:10:51.662302Z"
    }
   },
   "outputs": [],
   "source": [
    "# Retrive the name of the ISF ETF\n",
    "ISF = next(\n",
    "    dct['name'] for dct in etfs_dct \n",
    "    if (dct['symbol'] == 'ISF') and (dct['country'] == 'united kingdom')\n",
    ")"
   ]
  },
  {
   "cell_type": "code",
   "execution_count": 134,
   "id": "enclosed-dealer",
   "metadata": {
    "ExecuteTime": {
     "end_time": "2021-01-22T22:18:39.835214Z",
     "start_time": "2021-01-22T22:18:39.282304Z"
    }
   },
   "outputs": [
    {
     "data": {
      "text/html": [
       "<div>\n",
       "<style scoped>\n",
       "    .dataframe tbody tr th:only-of-type {\n",
       "        vertical-align: middle;\n",
       "    }\n",
       "\n",
       "    .dataframe tbody tr th {\n",
       "        vertical-align: top;\n",
       "    }\n",
       "\n",
       "    .dataframe thead th {\n",
       "        text-align: right;\n",
       "    }\n",
       "</style>\n",
       "<table border=\"1\" class=\"dataframe\">\n",
       "  <thead>\n",
       "    <tr style=\"text-align: right;\">\n",
       "      <th></th>\n",
       "      <th>Open</th>\n",
       "      <th>High</th>\n",
       "      <th>Low</th>\n",
       "      <th>Close</th>\n",
       "      <th>Volume</th>\n",
       "      <th>Currency</th>\n",
       "      <th>Exchange</th>\n",
       "    </tr>\n",
       "    <tr>\n",
       "      <th>Date</th>\n",
       "      <th></th>\n",
       "      <th></th>\n",
       "      <th></th>\n",
       "      <th></th>\n",
       "      <th></th>\n",
       "      <th></th>\n",
       "      <th></th>\n",
       "    </tr>\n",
       "  </thead>\n",
       "  <tbody>\n",
       "    <tr>\n",
       "      <th>2021-01-11</th>\n",
       "      <td>675.6</td>\n",
       "      <td>676.90</td>\n",
       "      <td>666.49</td>\n",
       "      <td>669.1</td>\n",
       "      <td>7046766</td>\n",
       "      <td>GBP</td>\n",
       "      <td>London</td>\n",
       "    </tr>\n",
       "    <tr>\n",
       "      <th>2021-01-12</th>\n",
       "      <td>671.4</td>\n",
       "      <td>671.40</td>\n",
       "      <td>663.40</td>\n",
       "      <td>665.3</td>\n",
       "      <td>7197690</td>\n",
       "      <td>GBP</td>\n",
       "      <td>London</td>\n",
       "    </tr>\n",
       "    <tr>\n",
       "      <th>2021-01-13</th>\n",
       "      <td>665.8</td>\n",
       "      <td>667.00</td>\n",
       "      <td>663.20</td>\n",
       "      <td>664.1</td>\n",
       "      <td>6419740</td>\n",
       "      <td>GBP</td>\n",
       "      <td>London</td>\n",
       "    </tr>\n",
       "    <tr>\n",
       "      <th>2021-01-14</th>\n",
       "      <td>664.8</td>\n",
       "      <td>670.00</td>\n",
       "      <td>663.48</td>\n",
       "      <td>670.0</td>\n",
       "      <td>6095381</td>\n",
       "      <td>GBP</td>\n",
       "      <td>London</td>\n",
       "    </tr>\n",
       "    <tr>\n",
       "      <th>2021-01-15</th>\n",
       "      <td>667.5</td>\n",
       "      <td>668.10</td>\n",
       "      <td>657.50</td>\n",
       "      <td>663.0</td>\n",
       "      <td>8758665</td>\n",
       "      <td>GBP</td>\n",
       "      <td>London</td>\n",
       "    </tr>\n",
       "    <tr>\n",
       "      <th>2021-01-18</th>\n",
       "      <td>661.3</td>\n",
       "      <td>664.00</td>\n",
       "      <td>660.70</td>\n",
       "      <td>661.7</td>\n",
       "      <td>5699837</td>\n",
       "      <td>GBP</td>\n",
       "      <td>London</td>\n",
       "    </tr>\n",
       "    <tr>\n",
       "      <th>2021-01-19</th>\n",
       "      <td>665.4</td>\n",
       "      <td>666.50</td>\n",
       "      <td>659.40</td>\n",
       "      <td>661.1</td>\n",
       "      <td>4618993</td>\n",
       "      <td>GBP</td>\n",
       "      <td>London</td>\n",
       "    </tr>\n",
       "    <tr>\n",
       "      <th>2021-01-20</th>\n",
       "      <td>662.0</td>\n",
       "      <td>665.00</td>\n",
       "      <td>659.40</td>\n",
       "      <td>664.2</td>\n",
       "      <td>7115075</td>\n",
       "      <td>GBP</td>\n",
       "      <td>London</td>\n",
       "    </tr>\n",
       "    <tr>\n",
       "      <th>2021-01-21</th>\n",
       "      <td>667.3</td>\n",
       "      <td>667.54</td>\n",
       "      <td>661.50</td>\n",
       "      <td>661.5</td>\n",
       "      <td>5863569</td>\n",
       "      <td>GBP</td>\n",
       "      <td>London</td>\n",
       "    </tr>\n",
       "    <tr>\n",
       "      <th>2021-01-22</th>\n",
       "      <td>660.0</td>\n",
       "      <td>660.40</td>\n",
       "      <td>655.14</td>\n",
       "      <td>659.0</td>\n",
       "      <td>6170250</td>\n",
       "      <td>GBP</td>\n",
       "      <td>London</td>\n",
       "    </tr>\n",
       "  </tbody>\n",
       "</table>\n",
       "</div>"
      ],
      "text/plain": [
       "             Open    High     Low  Close   Volume Currency Exchange\n",
       "Date                                                               \n",
       "2021-01-11  675.6  676.90  666.49  669.1  7046766      GBP   London\n",
       "2021-01-12  671.4  671.40  663.40  665.3  7197690      GBP   London\n",
       "2021-01-13  665.8  667.00  663.20  664.1  6419740      GBP   London\n",
       "2021-01-14  664.8  670.00  663.48  670.0  6095381      GBP   London\n",
       "2021-01-15  667.5  668.10  657.50  663.0  8758665      GBP   London\n",
       "2021-01-18  661.3  664.00  660.70  661.7  5699837      GBP   London\n",
       "2021-01-19  665.4  666.50  659.40  661.1  4618993      GBP   London\n",
       "2021-01-20  662.0  665.00  659.40  664.2  7115075      GBP   London\n",
       "2021-01-21  667.3  667.54  661.50  661.5  5863569      GBP   London\n",
       "2021-01-22  660.0  660.40  655.14  659.0  6170250      GBP   London"
      ]
     },
     "execution_count": 134,
     "metadata": {},
     "output_type": "execute_result"
    }
   ],
   "source": [
    "# Retrieve the latest month of historic data, for ISF\n",
    "isf_recent = investpy.get_etf_recent_data(ISF, 'United Kingdom')\n",
    "isf_recent.tail(10)"
   ]
  },
  {
   "cell_type": "code",
   "execution_count": 141,
   "id": "stupid-directory",
   "metadata": {
    "ExecuteTime": {
     "end_time": "2021-01-22T22:24:20.929989Z",
     "start_time": "2021-01-22T22:24:17.612693Z"
    }
   },
   "outputs": [],
   "source": [
    "# Retrieve all historic data, for ISF\n",
    "isf_historic = investpy.get_etf_historical_data(\n",
    "    ISF, 'United Kingdom', \n",
    "    from_date='01/01/1990', to_date='22/01/2021', \n",
    "    as_json=False, order='ascending'\n",
    ")"
   ]
  },
  {
   "cell_type": "code",
   "execution_count": 142,
   "id": "stable-locking",
   "metadata": {
    "ExecuteTime": {
     "end_time": "2021-01-22T22:24:21.687482Z",
     "start_time": "2021-01-22T22:24:21.158873Z"
    }
   },
   "outputs": [
    {
     "data": {
      "text/plain": [
       "<AxesSubplot:xlabel='Date'>"
      ]
     },
     "execution_count": 142,
     "metadata": {},
     "output_type": "execute_result"
    },
    {
     "data": {
      "image/png": "[encoded data removed]",
      "text/plain": [
       "<Figure size 1080x360 with 1 Axes>"
      ]
     },
     "metadata": {
      "needs_background": "light"
     },
     "output_type": "display_data"
    }
   ],
   "source": [
    "# Plot data based on historical data\n",
    "plt.figure(figsize=(15, 5))\n",
    "isf_historic.Close.plot()"
   ]
  },
  {
   "cell_type": "code",
   "execution_count": 144,
   "id": "hollywood-registrar",
   "metadata": {
    "ExecuteTime": {
     "end_time": "2021-01-22T22:26:02.524002Z",
     "start_time": "2021-01-22T22:26:02.487026Z"
    }
   },
   "outputs": [
    {
     "data": {
      "text/html": [
       "<div>\n",
       "<style scoped>\n",
       "    .dataframe tbody tr th:only-of-type {\n",
       "        vertical-align: middle;\n",
       "    }\n",
       "\n",
       "    .dataframe tbody tr th {\n",
       "        vertical-align: top;\n",
       "    }\n",
       "\n",
       "    .dataframe thead th {\n",
       "        text-align: right;\n",
       "    }\n",
       "</style>\n",
       "<table border=\"1\" class=\"dataframe\">\n",
       "  <thead>\n",
       "    <tr style=\"text-align: right;\">\n",
       "      <th></th>\n",
       "      <th>Open</th>\n",
       "      <th>High</th>\n",
       "      <th>Low</th>\n",
       "      <th>Close</th>\n",
       "      <th>Volume</th>\n",
       "      <th>Currency</th>\n",
       "      <th>Exchange</th>\n",
       "    </tr>\n",
       "    <tr>\n",
       "      <th>Date</th>\n",
       "      <th></th>\n",
       "      <th></th>\n",
       "      <th></th>\n",
       "      <th></th>\n",
       "      <th></th>\n",
       "      <th></th>\n",
       "      <th></th>\n",
       "    </tr>\n",
       "  </thead>\n",
       "  <tbody>\n",
       "    <tr>\n",
       "      <th>2021-01-18</th>\n",
       "      <td>661.3</td>\n",
       "      <td>664.00</td>\n",
       "      <td>660.70</td>\n",
       "      <td>661.7</td>\n",
       "      <td>5699837</td>\n",
       "      <td>GBP</td>\n",
       "      <td>London</td>\n",
       "    </tr>\n",
       "    <tr>\n",
       "      <th>2021-01-19</th>\n",
       "      <td>665.4</td>\n",
       "      <td>666.50</td>\n",
       "      <td>659.40</td>\n",
       "      <td>661.1</td>\n",
       "      <td>4618993</td>\n",
       "      <td>GBP</td>\n",
       "      <td>London</td>\n",
       "    </tr>\n",
       "    <tr>\n",
       "      <th>2021-01-20</th>\n",
       "      <td>662.0</td>\n",
       "      <td>665.00</td>\n",
       "      <td>659.40</td>\n",
       "      <td>664.2</td>\n",
       "      <td>7115075</td>\n",
       "      <td>GBP</td>\n",
       "      <td>London</td>\n",
       "    </tr>\n",
       "    <tr>\n",
       "      <th>2021-01-21</th>\n",
       "      <td>667.3</td>\n",
       "      <td>667.54</td>\n",
       "      <td>661.50</td>\n",
       "      <td>661.5</td>\n",
       "      <td>5863569</td>\n",
       "      <td>GBP</td>\n",
       "      <td>London</td>\n",
       "    </tr>\n",
       "    <tr>\n",
       "      <th>2021-01-22</th>\n",
       "      <td>660.0</td>\n",
       "      <td>660.40</td>\n",
       "      <td>655.14</td>\n",
       "      <td>659.0</td>\n",
       "      <td>6170250</td>\n",
       "      <td>GBP</td>\n",
       "      <td>London</td>\n",
       "    </tr>\n",
       "  </tbody>\n",
       "</table>\n",
       "</div>"
      ],
      "text/plain": [
       "             Open    High     Low  Close   Volume Currency Exchange\n",
       "Date                                                               \n",
       "2021-01-18  661.3  664.00  660.70  661.7  5699837      GBP   London\n",
       "2021-01-19  665.4  666.50  659.40  661.1  4618993      GBP   London\n",
       "2021-01-20  662.0  665.00  659.40  664.2  7115075      GBP   London\n",
       "2021-01-21  667.3  667.54  661.50  661.5  5863569      GBP   London\n",
       "2021-01-22  660.0  660.40  655.14  659.0  6170250      GBP   London"
      ]
     },
     "execution_count": 144,
     "metadata": {},
     "output_type": "execute_result"
    }
   ],
   "source": [
    "# Confirm data matches recent\n",
    "isf_historic.tail()"
   ]
  },
  {
   "cell_type": "markdown",
   "id": "complete-chrome",
   "metadata": {},
   "source": [
    "## ETF information"
   ]
  },
  {
   "cell_type": "code",
   "execution_count": 146,
   "id": "vital-kelly",
   "metadata": {
    "ExecuteTime": {
     "end_time": "2021-01-22T22:27:51.874345Z",
     "start_time": "2021-01-22T22:27:50.950666Z"
    }
   },
   "outputs": [
    {
     "data": {
      "text/plain": [
       "{'ETF Name': 'iShares Core FTSE 100 UCITS',\n",
       " 'Prev. Close': 661.5,\n",
       " 'Todays Range': '655.3 - 660.4',\n",
       " 'ROI (TTM)': None,\n",
       " 'Open': 660.0,\n",
       " '52 wk Range': '482.25 - 753.65',\n",
       " 'Dividends (TTM)': 19.79,\n",
       " 'Volume': 6170250.0,\n",
       " 'Market Cap': 5630000000.0,\n",
       " 'Dividend Yield': '2.98%',\n",
       " 'Average Vol. (3m)': 9167686.0,\n",
       " 'Total Assets': 41260000000.0,\n",
       " 'Beta': 1.01,\n",
       " '1-Year Change': '- 11.37%',\n",
       " 'Shares Outstanding': 809522777.0,\n",
       " 'Asset Class': 'Equity'}"
      ]
     },
     "execution_count": 146,
     "metadata": {},
     "output_type": "execute_result"
    }
   ],
   "source": [
    "# Retrieve fundamental financial information\n",
    "isf_fundamentals = investpy.get_etf_information(ISF, 'United Kingdom', as_json=True)\n",
    "isf_fundamentals"
   ]
  },
  {
   "cell_type": "markdown",
   "id": "later-coordinate",
   "metadata": {},
   "source": [
    "# Indices"
   ]
  },
  {
   "cell_type": "markdown",
   "id": "productive-wheat",
   "metadata": {},
   "source": [
    "## List of indices"
   ]
  },
  {
   "cell_type": "code",
   "execution_count": 148,
   "id": "systematic-lucas",
   "metadata": {
    "ExecuteTime": {
     "end_time": "2021-01-22T22:36:35.705394Z",
     "start_time": "2021-01-22T22:36:35.594464Z"
    }
   },
   "outputs": [
    {
     "data": {
      "text/html": [
       "<div>\n",
       "<style scoped>\n",
       "    .dataframe tbody tr th:only-of-type {\n",
       "        vertical-align: middle;\n",
       "    }\n",
       "\n",
       "    .dataframe tbody tr th {\n",
       "        vertical-align: top;\n",
       "    }\n",
       "\n",
       "    .dataframe thead th {\n",
       "        text-align: right;\n",
       "    }\n",
       "</style>\n",
       "<table border=\"1\" class=\"dataframe\">\n",
       "  <thead>\n",
       "    <tr style=\"text-align: right;\">\n",
       "      <th></th>\n",
       "      <th>country</th>\n",
       "      <th>name</th>\n",
       "      <th>full_name</th>\n",
       "      <th>symbol</th>\n",
       "      <th>currency</th>\n",
       "      <th>class</th>\n",
       "      <th>market</th>\n",
       "    </tr>\n",
       "  </thead>\n",
       "  <tbody>\n",
       "    <tr>\n",
       "      <th>4611</th>\n",
       "      <td>united kingdom</td>\n",
       "      <td>FTSE 100 Minimum Variance</td>\n",
       "      <td>FTSE 100 Minimum Variance</td>\n",
       "      <td>FTUKXMV</td>\n",
       "      <td>GBP</td>\n",
       "      <td>other_indices</td>\n",
       "      <td>global_indices</td>\n",
       "    </tr>\n",
       "    <tr>\n",
       "      <th>4612</th>\n",
       "      <td>united kingdom</td>\n",
       "      <td>Stoxx UK 50 Risk 20% RV EUR</td>\n",
       "      <td>Stoxx UK 50 Risk 20% RV EUR</td>\n",
       "      <td>SUKR20EG</td>\n",
       "      <td>EUR</td>\n",
       "      <td>other_indices</td>\n",
       "      <td>global_indices</td>\n",
       "    </tr>\n",
       "    <tr>\n",
       "      <th>4613</th>\n",
       "      <td>united kingdom</td>\n",
       "      <td>Stoxx UK 50 Risk 20% RV USD</td>\n",
       "      <td>Stoxx UK 50 Risk 20% RV USD</td>\n",
       "      <td>SUKR20DG</td>\n",
       "      <td>USD</td>\n",
       "      <td>other_indices</td>\n",
       "      <td>global_indices</td>\n",
       "    </tr>\n",
       "    <tr>\n",
       "      <th>4614</th>\n",
       "      <td>united kingdom</td>\n",
       "      <td>Stoxx UK 50 Risk 15% RV EUR</td>\n",
       "      <td>Stoxx UK 50 Risk 15% RV EUR</td>\n",
       "      <td>SUKR15EG</td>\n",
       "      <td>EUR</td>\n",
       "      <td>other_indices</td>\n",
       "      <td>global_indices</td>\n",
       "    </tr>\n",
       "    <tr>\n",
       "      <th>4615</th>\n",
       "      <td>united kingdom</td>\n",
       "      <td>Stoxx UK 50 Risk 15% RV USD</td>\n",
       "      <td>Stoxx UK 50 Risk 15% RV USD</td>\n",
       "      <td>SUKR15DG</td>\n",
       "      <td>USD</td>\n",
       "      <td>other_indices</td>\n",
       "      <td>global_indices</td>\n",
       "    </tr>\n",
       "    <tr>\n",
       "      <th>...</th>\n",
       "      <td>...</td>\n",
       "      <td>...</td>\n",
       "      <td>...</td>\n",
       "      <td>...</td>\n",
       "      <td>...</td>\n",
       "      <td>...</td>\n",
       "      <td>...</td>\n",
       "    </tr>\n",
       "    <tr>\n",
       "      <th>4874</th>\n",
       "      <td>united kingdom</td>\n",
       "      <td>FTSE 350 Telecom</td>\n",
       "      <td>FTSE 350 Telecommunications</td>\n",
       "      <td>FTUB6500</td>\n",
       "      <td>GBP</td>\n",
       "      <td>other_indices</td>\n",
       "      <td>world_indices</td>\n",
       "    </tr>\n",
       "    <tr>\n",
       "      <th>4875</th>\n",
       "      <td>united kingdom</td>\n",
       "      <td>FTSE 350 Life Insurance</td>\n",
       "      <td>FTSE 350 Life Insurance</td>\n",
       "      <td>FTNMX8570</td>\n",
       "      <td>GBP</td>\n",
       "      <td>primary_sectors</td>\n",
       "      <td>world_indices</td>\n",
       "    </tr>\n",
       "    <tr>\n",
       "      <th>4876</th>\n",
       "      <td>united kingdom</td>\n",
       "      <td>FTSE 350 Industrial Transportation</td>\n",
       "      <td>FTSE 350 Industrial Transportation</td>\n",
       "      <td>FTNMX2770</td>\n",
       "      <td>GBP</td>\n",
       "      <td>primary_sectors</td>\n",
       "      <td>world_indices</td>\n",
       "    </tr>\n",
       "    <tr>\n",
       "      <th>4877</th>\n",
       "      <td>united kingdom</td>\n",
       "      <td>FTSE 350 Retail</td>\n",
       "      <td>FTSE 350 Retail</td>\n",
       "      <td>FTUB5300</td>\n",
       "      <td>GBP</td>\n",
       "      <td>other_indices</td>\n",
       "      <td>world_indices</td>\n",
       "    </tr>\n",
       "    <tr>\n",
       "      <th>4878</th>\n",
       "      <td>united kingdom</td>\n",
       "      <td>FTSE 350 Industrial Engineering</td>\n",
       "      <td>FTSE 350 Industrial Engineering</td>\n",
       "      <td>FTNMX2750</td>\n",
       "      <td>GBP</td>\n",
       "      <td>primary_sectors</td>\n",
       "      <td>world_indices</td>\n",
       "    </tr>\n",
       "  </tbody>\n",
       "</table>\n",
       "<p>268 rows × 7 columns</p>\n",
       "</div>"
      ],
      "text/plain": [
       "             country                                name  \\\n",
       "4611  united kingdom           FTSE 100 Minimum Variance   \n",
       "4612  united kingdom         Stoxx UK 50 Risk 20% RV EUR   \n",
       "4613  united kingdom         Stoxx UK 50 Risk 20% RV USD   \n",
       "4614  united kingdom         Stoxx UK 50 Risk 15% RV EUR   \n",
       "4615  united kingdom         Stoxx UK 50 Risk 15% RV USD   \n",
       "...              ...                                 ...   \n",
       "4874  united kingdom                    FTSE 350 Telecom   \n",
       "4875  united kingdom             FTSE 350 Life Insurance   \n",
       "4876  united kingdom  FTSE 350 Industrial Transportation   \n",
       "4877  united kingdom                     FTSE 350 Retail   \n",
       "4878  united kingdom     FTSE 350 Industrial Engineering   \n",
       "\n",
       "                               full_name     symbol currency            class  \\\n",
       "4611           FTSE 100 Minimum Variance    FTUKXMV      GBP    other_indices   \n",
       "4612         Stoxx UK 50 Risk 20% RV EUR   SUKR20EG      EUR    other_indices   \n",
       "4613         Stoxx UK 50 Risk 20% RV USD   SUKR20DG      USD    other_indices   \n",
       "4614         Stoxx UK 50 Risk 15% RV EUR   SUKR15EG      EUR    other_indices   \n",
       "4615         Stoxx UK 50 Risk 15% RV USD   SUKR15DG      USD    other_indices   \n",
       "...                                  ...        ...      ...              ...   \n",
       "4874         FTSE 350 Telecommunications   FTUB6500      GBP    other_indices   \n",
       "4875             FTSE 350 Life Insurance  FTNMX8570      GBP  primary_sectors   \n",
       "4876  FTSE 350 Industrial Transportation  FTNMX2770      GBP  primary_sectors   \n",
       "4877                     FTSE 350 Retail   FTUB5300      GBP    other_indices   \n",
       "4878     FTSE 350 Industrial Engineering  FTNMX2750      GBP  primary_sectors   \n",
       "\n",
       "              market  \n",
       "4611  global_indices  \n",
       "4612  global_indices  \n",
       "4613  global_indices  \n",
       "4614  global_indices  \n",
       "4615  global_indices  \n",
       "...              ...  \n",
       "4874   world_indices  \n",
       "4875   world_indices  \n",
       "4876   world_indices  \n",
       "4877   world_indices  \n",
       "4878   world_indices  \n",
       "\n",
       "[268 rows x 7 columns]"
      ]
     },
     "execution_count": 148,
     "metadata": {},
     "output_type": "execute_result"
    }
   ],
   "source": [
    "# Retrive table of available indices, from CSV stored with library\n",
    "indices_table = investpy.get_indices()\n",
    "indices_table[indices_table.country == 'united kingdom']"
   ]
  },
  {
   "cell_type": "code",
   "execution_count": 149,
   "id": "heavy-borough",
   "metadata": {
    "ExecuteTime": {
     "end_time": "2021-01-22T22:37:35.131603Z",
     "start_time": "2021-01-22T22:37:35.053652Z"
    }
   },
   "outputs": [
    {
     "data": {
      "text/plain": [
       "['S&P Merval',\n",
       " 'BNY Mellon Argentina ADR TR',\n",
       " 'BNY Mellon Argentina ADR',\n",
       " 'MAE Fixed Income',\n",
       " 'S&P/BYMA Argentina General',\n",
       " 'S&P Merval Argentina',\n",
       " 'S&P/BYMA Utilities',\n",
       " 'S&P/BYMA Real Estate',\n",
       " 'MSCI Argentina',\n",
       " 'S&P/BYMA Industrials']"
      ]
     },
     "execution_count": 149,
     "metadata": {},
     "output_type": "execute_result"
    }
   ],
   "source": [
    "# Retrive list of indices (names, not symbols)\n",
    "indices_list = investpy.get_indices_list()\n",
    "indices_list[:10]"
   ]
  },
  {
   "cell_type": "code",
   "execution_count": 150,
   "id": "authentic-cliff",
   "metadata": {
    "ExecuteTime": {
     "end_time": "2021-01-22T22:38:43.212596Z",
     "start_time": "2021-01-22T22:38:43.018651Z"
    }
   },
   "outputs": [
    {
     "data": {
      "text/plain": [
       "[{'country': 'argentina',\n",
       "  'name': 'S&P Merval',\n",
       "  'full_name': 'S&P Merval',\n",
       "  'symbol': 'MERV',\n",
       "  'currency': 'ARS',\n",
       "  'class': 'major_indices',\n",
       "  'market': 'world_indices'},\n",
       " {'country': 'argentina',\n",
       "  'name': 'BNY Mellon Argentina ADR TR',\n",
       "  'full_name': 'BNY Mellon Argentina ADR Total Return',\n",
       "  'symbol': 'BKART',\n",
       "  'currency': 'USD',\n",
       "  'class': 'additional_indices',\n",
       "  'market': 'global_indices'}]"
      ]
     },
     "execution_count": 150,
     "metadata": {},
     "output_type": "execute_result"
    }
   ],
   "source": [
    "# Retrive indices as dictionary, as alternative to dataframe table\n",
    "indices_dct = investpy.get_indices_dict()\n",
    "indices_dct[:2]"
   ]
  },
  {
   "cell_type": "code",
   "execution_count": 151,
   "id": "improved-three",
   "metadata": {
    "ExecuteTime": {
     "end_time": "2021-01-22T22:39:32.348111Z",
     "start_time": "2021-01-22T22:39:32.335121Z"
    }
   },
   "outputs": [
    {
     "data": {
      "text/plain": [
       "['argentina',\n",
       " 'australia',\n",
       " 'austria',\n",
       " 'bahrain',\n",
       " 'bangladesh',\n",
       " 'belgium',\n",
       " 'bosnia',\n",
       " 'botswana',\n",
       " 'brazil',\n",
       " 'bulgaria']"
      ]
     },
     "execution_count": 151,
     "metadata": {},
     "output_type": "execute_result"
    }
   ],
   "source": [
    "# Retrive list of valid countries for indices\n",
    "indices_countries = investpy.get_index_countries()\n",
    "indices_countries[:10]"
   ]
  },
  {
   "cell_type": "markdown",
   "id": "minus-median",
   "metadata": {},
   "source": [
    "## Historic indices data"
   ]
  },
  {
   "cell_type": "code",
   "execution_count": 153,
   "id": "light-contributor",
   "metadata": {
    "ExecuteTime": {
     "end_time": "2021-01-22T22:45:02.498837Z",
     "start_time": "2021-01-22T22:45:02.483847Z"
    }
   },
   "outputs": [],
   "source": [
    "# Extract the name for the FTSE100 index\n",
    "UKX = next(\n",
    "    dct['name'] for dct in indices_dct \n",
    "    if (dct['symbol'] == 'FTSE') and (dct['country'] == 'united kingdom')\n",
    ")"
   ]
  },
  {
   "cell_type": "code",
   "execution_count": 155,
   "id": "protected-clarity",
   "metadata": {
    "ExecuteTime": {
     "end_time": "2021-01-22T22:45:58.055416Z",
     "start_time": "2021-01-22T22:45:57.573729Z"
    }
   },
   "outputs": [
    {
     "data": {
      "text/html": [
       "<div>\n",
       "<style scoped>\n",
       "    .dataframe tbody tr th:only-of-type {\n",
       "        vertical-align: middle;\n",
       "    }\n",
       "\n",
       "    .dataframe tbody tr th {\n",
       "        vertical-align: top;\n",
       "    }\n",
       "\n",
       "    .dataframe thead th {\n",
       "        text-align: right;\n",
       "    }\n",
       "</style>\n",
       "<table border=\"1\" class=\"dataframe\">\n",
       "  <thead>\n",
       "    <tr style=\"text-align: right;\">\n",
       "      <th></th>\n",
       "      <th>Open</th>\n",
       "      <th>High</th>\n",
       "      <th>Low</th>\n",
       "      <th>Close</th>\n",
       "      <th>Volume</th>\n",
       "      <th>Currency</th>\n",
       "    </tr>\n",
       "    <tr>\n",
       "      <th>Date</th>\n",
       "      <th></th>\n",
       "      <th></th>\n",
       "      <th></th>\n",
       "      <th></th>\n",
       "      <th></th>\n",
       "      <th></th>\n",
       "    </tr>\n",
       "  </thead>\n",
       "  <tbody>\n",
       "    <tr>\n",
       "      <th>2021-01-18</th>\n",
       "      <td>6735.71</td>\n",
       "      <td>6741.47</td>\n",
       "      <td>6709.33</td>\n",
       "      <td>6720.65</td>\n",
       "      <td>359827008</td>\n",
       "      <td>GBP</td>\n",
       "    </tr>\n",
       "    <tr>\n",
       "      <th>2021-01-19</th>\n",
       "      <td>6720.65</td>\n",
       "      <td>6770.66</td>\n",
       "      <td>6697.67</td>\n",
       "      <td>6712.95</td>\n",
       "      <td>618145024</td>\n",
       "      <td>GBP</td>\n",
       "    </tr>\n",
       "    <tr>\n",
       "      <th>2021-01-20</th>\n",
       "      <td>6712.95</td>\n",
       "      <td>6751.81</td>\n",
       "      <td>6697.46</td>\n",
       "      <td>6740.39</td>\n",
       "      <td>687500032</td>\n",
       "      <td>GBP</td>\n",
       "    </tr>\n",
       "    <tr>\n",
       "      <th>2021-01-21</th>\n",
       "      <td>6740.39</td>\n",
       "      <td>6776.92</td>\n",
       "      <td>6715.42</td>\n",
       "      <td>6715.42</td>\n",
       "      <td>612553984</td>\n",
       "      <td>GBP</td>\n",
       "    </tr>\n",
       "    <tr>\n",
       "      <th>2021-01-22</th>\n",
       "      <td>6715.42</td>\n",
       "      <td>6715.66</td>\n",
       "      <td>6651.71</td>\n",
       "      <td>6695.07</td>\n",
       "      <td>693955008</td>\n",
       "      <td>GBP</td>\n",
       "    </tr>\n",
       "  </tbody>\n",
       "</table>\n",
       "</div>"
      ],
      "text/plain": [
       "               Open     High      Low    Close     Volume Currency\n",
       "Date                                                              \n",
       "2021-01-18  6735.71  6741.47  6709.33  6720.65  359827008      GBP\n",
       "2021-01-19  6720.65  6770.66  6697.67  6712.95  618145024      GBP\n",
       "2021-01-20  6712.95  6751.81  6697.46  6740.39  687500032      GBP\n",
       "2021-01-21  6740.39  6776.92  6715.42  6715.42  612553984      GBP\n",
       "2021-01-22  6715.42  6715.66  6651.71  6695.07  693955008      GBP"
      ]
     },
     "execution_count": 155,
     "metadata": {},
     "output_type": "execute_result"
    }
   ],
   "source": [
    "# Retrive recent FTSE 100 index data\n",
    "ftse100_recent = investpy.get_index_recent_data(UKX, 'United Kingdom')\n",
    "ftse100_recent.tail()"
   ]
  },
  {
   "cell_type": "code",
   "execution_count": 157,
   "id": "organizational-wireless",
   "metadata": {
    "ExecuteTime": {
     "end_time": "2021-01-22T22:49:38.670474Z",
     "start_time": "2021-01-22T22:49:35.473028Z"
    }
   },
   "outputs": [],
   "source": [
    "# Retrive historic FTSE 100 index data\n",
    "ftse100_historic = investpy.get_index_historical_data(\n",
    "    UKX, 'United Kingdom', \n",
    "    from_date='01/01/1990', to_date='22/01/2021', \n",
    "    as_json=False, order='ascending'\n",
    ")"
   ]
  },
  {
   "cell_type": "code",
   "execution_count": 158,
   "id": "looking-chester",
   "metadata": {
    "ExecuteTime": {
     "end_time": "2021-01-22T22:50:34.488148Z",
     "start_time": "2021-01-22T22:50:34.016459Z"
    }
   },
   "outputs": [
    {
     "data": {
      "text/plain": [
       "<AxesSubplot:xlabel='Date'>"
      ]
     },
     "execution_count": 158,
     "metadata": {},
     "output_type": "execute_result"
    },
    {
     "data": {
      "image/png": "[encoded data removed]",
      "text/plain": [
       "<Figure size 1080x360 with 1 Axes>"
      ]
     },
     "metadata": {
      "needs_background": "light"
     },
     "output_type": "display_data"
    }
   ],
   "source": [
    "# Plot data based on historical data\n",
    "plt.figure(figsize=(15, 5))\n",
    "ftse100_historic.Close.plot()"
   ]
  },
  {
   "cell_type": "markdown",
   "id": "wrong-disabled",
   "metadata": {},
   "source": [
    "# Technical\n",
    "The technical functions can be applied to any product type: stock, ETF, index etc. The name used is the name of the product unless it is a stock, in which case the name is the symbol."
   ]
  },
  {
   "cell_type": "markdown",
   "id": "portable-target",
   "metadata": {},
   "source": [
    "## Technical indicators"
   ]
  },
  {
   "cell_type": "code",
   "execution_count": 159,
   "id": "portuguese-nelson",
   "metadata": {
    "ExecuteTime": {
     "end_time": "2021-01-23T10:51:12.864305Z",
     "start_time": "2021-01-23T10:51:12.237842Z"
    }
   },
   "outputs": [
    {
     "data": {
      "text/html": [
       "<div>\n",
       "<style scoped>\n",
       "    .dataframe tbody tr th:only-of-type {\n",
       "        vertical-align: middle;\n",
       "    }\n",
       "\n",
       "    .dataframe tbody tr th {\n",
       "        vertical-align: top;\n",
       "    }\n",
       "\n",
       "    .dataframe thead th {\n",
       "        text-align: right;\n",
       "    }\n",
       "</style>\n",
       "<table border=\"1\" class=\"dataframe\">\n",
       "  <thead>\n",
       "    <tr style=\"text-align: right;\">\n",
       "      <th></th>\n",
       "      <th>technical_indicator</th>\n",
       "      <th>value</th>\n",
       "      <th>signal</th>\n",
       "    </tr>\n",
       "  </thead>\n",
       "  <tbody>\n",
       "    <tr>\n",
       "      <th>0</th>\n",
       "      <td>RSI(14)</td>\n",
       "      <td>53.8240</td>\n",
       "      <td>neutral</td>\n",
       "    </tr>\n",
       "    <tr>\n",
       "      <th>1</th>\n",
       "      <td>STOCH(9,6)</td>\n",
       "      <td>33.8990</td>\n",
       "      <td>sell</td>\n",
       "    </tr>\n",
       "    <tr>\n",
       "      <th>2</th>\n",
       "      <td>STOCHRSI(14)</td>\n",
       "      <td>0.0000</td>\n",
       "      <td>oversold</td>\n",
       "    </tr>\n",
       "    <tr>\n",
       "      <th>3</th>\n",
       "      <td>MACD(12,26)</td>\n",
       "      <td>5.0900</td>\n",
       "      <td>buy</td>\n",
       "    </tr>\n",
       "    <tr>\n",
       "      <th>4</th>\n",
       "      <td>ADX(14)</td>\n",
       "      <td>24.7080</td>\n",
       "      <td>sell</td>\n",
       "    </tr>\n",
       "    <tr>\n",
       "      <th>5</th>\n",
       "      <td>Williams %R</td>\n",
       "      <td>-56.1570</td>\n",
       "      <td>sell</td>\n",
       "    </tr>\n",
       "    <tr>\n",
       "      <th>6</th>\n",
       "      <td>CCI(14)</td>\n",
       "      <td>-84.2076</td>\n",
       "      <td>sell</td>\n",
       "    </tr>\n",
       "    <tr>\n",
       "      <th>7</th>\n",
       "      <td>ATR(14)</td>\n",
       "      <td>8.4726</td>\n",
       "      <td>less_volatility</td>\n",
       "    </tr>\n",
       "    <tr>\n",
       "      <th>8</th>\n",
       "      <td>Highs/Lows(14)</td>\n",
       "      <td>-1.6099</td>\n",
       "      <td>sell</td>\n",
       "    </tr>\n",
       "    <tr>\n",
       "      <th>9</th>\n",
       "      <td>Ultimate Oscillator</td>\n",
       "      <td>52.0890</td>\n",
       "      <td>buy</td>\n",
       "    </tr>\n",
       "    <tr>\n",
       "      <th>10</th>\n",
       "      <td>ROC</td>\n",
       "      <td>1.8860</td>\n",
       "      <td>buy</td>\n",
       "    </tr>\n",
       "    <tr>\n",
       "      <th>11</th>\n",
       "      <td>Bull/Bear Power(13)</td>\n",
       "      <td>-5.9919</td>\n",
       "      <td>sell</td>\n",
       "    </tr>\n",
       "  </tbody>\n",
       "</table>\n",
       "</div>"
      ],
      "text/plain": [
       "    technical_indicator    value           signal\n",
       "0               RSI(14)  53.8240          neutral\n",
       "1            STOCH(9,6)  33.8990             sell\n",
       "2          STOCHRSI(14)   0.0000         oversold\n",
       "3           MACD(12,26)   5.0900              buy\n",
       "4               ADX(14)  24.7080             sell\n",
       "5           Williams %R -56.1570             sell\n",
       "6               CCI(14) -84.2076             sell\n",
       "7               ATR(14)   8.4726  less_volatility\n",
       "8        Highs/Lows(14)  -1.6099             sell\n",
       "9   Ultimate Oscillator  52.0890              buy\n",
       "10                  ROC   1.8860              buy\n",
       "11  Bull/Bear Power(13)  -5.9919             sell"
      ]
     },
     "execution_count": 159,
     "metadata": {},
     "output_type": "execute_result"
    }
   ],
   "source": [
    "# Retrieve up to date technical indicators for ISF etf\n",
    "isf_tech = investpy.technical_indicators(ISF, 'United Kingdom', 'etf')\n",
    "isf_tech"
   ]
  },
  {
   "cell_type": "code",
   "execution_count": 161,
   "id": "loose-richards",
   "metadata": {
    "ExecuteTime": {
     "end_time": "2021-01-23T10:53:25.665470Z",
     "start_time": "2021-01-23T10:53:24.932355Z"
    }
   },
   "outputs": [
    {
     "data": {
      "text/html": [
       "<div>\n",
       "<style scoped>\n",
       "    .dataframe tbody tr th:only-of-type {\n",
       "        vertical-align: middle;\n",
       "    }\n",
       "\n",
       "    .dataframe tbody tr th {\n",
       "        vertical-align: top;\n",
       "    }\n",
       "\n",
       "    .dataframe thead th {\n",
       "        text-align: right;\n",
       "    }\n",
       "</style>\n",
       "<table border=\"1\" class=\"dataframe\">\n",
       "  <thead>\n",
       "    <tr style=\"text-align: right;\">\n",
       "      <th></th>\n",
       "      <th>technical_indicator</th>\n",
       "      <th>value</th>\n",
       "      <th>signal</th>\n",
       "    </tr>\n",
       "  </thead>\n",
       "  <tbody>\n",
       "    <tr>\n",
       "      <th>0</th>\n",
       "      <td>RSI(14)</td>\n",
       "      <td>62.1160</td>\n",
       "      <td>buy</td>\n",
       "    </tr>\n",
       "    <tr>\n",
       "      <th>1</th>\n",
       "      <td>STOCH(9,6)</td>\n",
       "      <td>93.1190</td>\n",
       "      <td>overbought</td>\n",
       "    </tr>\n",
       "    <tr>\n",
       "      <th>2</th>\n",
       "      <td>STOCHRSI(14)</td>\n",
       "      <td>0.0000</td>\n",
       "      <td>oversold</td>\n",
       "    </tr>\n",
       "    <tr>\n",
       "      <th>3</th>\n",
       "      <td>MACD(12,26)</td>\n",
       "      <td>297.7000</td>\n",
       "      <td>buy</td>\n",
       "    </tr>\n",
       "    <tr>\n",
       "      <th>4</th>\n",
       "      <td>ADX(14)</td>\n",
       "      <td>35.2320</td>\n",
       "      <td>buy</td>\n",
       "    </tr>\n",
       "    <tr>\n",
       "      <th>5</th>\n",
       "      <td>Williams %R</td>\n",
       "      <td>-13.8320</td>\n",
       "      <td>overbought</td>\n",
       "    </tr>\n",
       "    <tr>\n",
       "      <th>6</th>\n",
       "      <td>CCI(14)</td>\n",
       "      <td>-105.3804</td>\n",
       "      <td>sell</td>\n",
       "    </tr>\n",
       "    <tr>\n",
       "      <th>7</th>\n",
       "      <td>ATR(14)</td>\n",
       "      <td>377.7929</td>\n",
       "      <td>high_volatility</td>\n",
       "    </tr>\n",
       "    <tr>\n",
       "      <th>8</th>\n",
       "      <td>Highs/Lows(14)</td>\n",
       "      <td>0.0000</td>\n",
       "      <td>neutral</td>\n",
       "    </tr>\n",
       "    <tr>\n",
       "      <th>9</th>\n",
       "      <td>Ultimate Oscillator</td>\n",
       "      <td>78.7780</td>\n",
       "      <td>overbought</td>\n",
       "    </tr>\n",
       "    <tr>\n",
       "      <th>10</th>\n",
       "      <td>ROC</td>\n",
       "      <td>14.4970</td>\n",
       "      <td>buy</td>\n",
       "    </tr>\n",
       "    <tr>\n",
       "      <th>11</th>\n",
       "      <td>Bull/Bear Power(13)</td>\n",
       "      <td>-1234.8241</td>\n",
       "      <td>sell</td>\n",
       "    </tr>\n",
       "  </tbody>\n",
       "</table>\n",
       "</div>"
      ],
      "text/plain": [
       "    technical_indicator      value           signal\n",
       "0               RSI(14)    62.1160              buy\n",
       "1            STOCH(9,6)    93.1190       overbought\n",
       "2          STOCHRSI(14)     0.0000         oversold\n",
       "3           MACD(12,26)   297.7000              buy\n",
       "4               ADX(14)    35.2320              buy\n",
       "5           Williams %R   -13.8320       overbought\n",
       "6               CCI(14)  -105.3804             sell\n",
       "7               ATR(14)   377.7929  high_volatility\n",
       "8        Highs/Lows(14)     0.0000          neutral\n",
       "9   Ultimate Oscillator    78.7780       overbought\n",
       "10                  ROC    14.4970              buy\n",
       "11  Bull/Bear Power(13) -1234.8241             sell"
      ]
     },
     "execution_count": 161,
     "metadata": {},
     "output_type": "execute_result"
    }
   ],
   "source": [
    "# Retrive up to date technical indicators for NXT stock\n",
    "nxt_tech = investpy.technical_indicators('NXT', 'United Kingdom', 'stock')\n",
    "nxt_tech"
   ]
  },
  {
   "cell_type": "markdown",
   "id": "integral-cancer",
   "metadata": {},
   "source": [
    "## Moving Averages"
   ]
  },
  {
   "cell_type": "code",
   "execution_count": 163,
   "id": "amino-redhead",
   "metadata": {
    "ExecuteTime": {
     "end_time": "2021-01-23T10:57:45.210773Z",
     "start_time": "2021-01-23T10:57:44.664659Z"
    }
   },
   "outputs": [
    {
     "data": {
      "text/html": [
       "<div>\n",
       "<style scoped>\n",
       "    .dataframe tbody tr th:only-of-type {\n",
       "        vertical-align: middle;\n",
       "    }\n",
       "\n",
       "    .dataframe tbody tr th {\n",
       "        vertical-align: top;\n",
       "    }\n",
       "\n",
       "    .dataframe thead th {\n",
       "        text-align: right;\n",
       "    }\n",
       "</style>\n",
       "<table border=\"1\" class=\"dataframe\">\n",
       "  <thead>\n",
       "    <tr style=\"text-align: right;\">\n",
       "      <th></th>\n",
       "      <th>period</th>\n",
       "      <th>sma_value</th>\n",
       "      <th>sma_signal</th>\n",
       "      <th>ema_value</th>\n",
       "      <th>ema_signal</th>\n",
       "    </tr>\n",
       "  </thead>\n",
       "  <tbody>\n",
       "    <tr>\n",
       "      <th>0</th>\n",
       "      <td>5</td>\n",
       "      <td>661.50</td>\n",
       "      <td>sell</td>\n",
       "      <td>661.68</td>\n",
       "      <td>sell</td>\n",
       "    </tr>\n",
       "    <tr>\n",
       "      <th>1</th>\n",
       "      <td>10</td>\n",
       "      <td>663.90</td>\n",
       "      <td>sell</td>\n",
       "      <td>661.36</td>\n",
       "      <td>sell</td>\n",
       "    </tr>\n",
       "    <tr>\n",
       "      <th>2</th>\n",
       "      <td>20</td>\n",
       "      <td>658.76</td>\n",
       "      <td>buy</td>\n",
       "      <td>658.61</td>\n",
       "      <td>buy</td>\n",
       "    </tr>\n",
       "    <tr>\n",
       "      <th>3</th>\n",
       "      <td>50</td>\n",
       "      <td>644.44</td>\n",
       "      <td>buy</td>\n",
       "      <td>642.05</td>\n",
       "      <td>buy</td>\n",
       "    </tr>\n",
       "    <tr>\n",
       "      <th>4</th>\n",
       "      <td>100</td>\n",
       "      <td>612.82</td>\n",
       "      <td>buy</td>\n",
       "      <td>625.57</td>\n",
       "      <td>buy</td>\n",
       "    </tr>\n",
       "    <tr>\n",
       "      <th>5</th>\n",
       "      <td>200</td>\n",
       "      <td>605.03</td>\n",
       "      <td>buy</td>\n",
       "      <td>627.94</td>\n",
       "      <td>buy</td>\n",
       "    </tr>\n",
       "  </tbody>\n",
       "</table>\n",
       "</div>"
      ],
      "text/plain": [
       "  period  sma_value sma_signal  ema_value ema_signal\n",
       "0      5     661.50       sell     661.68       sell\n",
       "1     10     663.90       sell     661.36       sell\n",
       "2     20     658.76        buy     658.61        buy\n",
       "3     50     644.44        buy     642.05        buy\n",
       "4    100     612.82        buy     625.57        buy\n",
       "5    200     605.03        buy     627.94        buy"
      ]
     },
     "execution_count": 163,
     "metadata": {},
     "output_type": "execute_result"
    }
   ],
   "source": [
    "# Retrive moving average data for ISF etf\n",
    "isf_ma = investpy.moving_averages(ISF, 'United Kingdom', 'etf')\n",
    "isf_ma"
   ]
  },
  {
   "cell_type": "markdown",
   "id": "successful-booth",
   "metadata": {},
   "source": [
    "## Pivot points \n",
    "Pivot points are calculated values for pivot, support and resistance lines, which frame the next days trading based on the high, low, close etc of the previous day. There are a few different methods to calculate the pivots points."
   ]
  },
  {
   "cell_type": "code",
   "execution_count": 164,
   "id": "forced-electronics",
   "metadata": {
    "ExecuteTime": {
     "end_time": "2021-01-23T11:32:24.019346Z",
     "start_time": "2021-01-23T11:32:23.434980Z"
    }
   },
   "outputs": [
    {
     "data": {
      "text/html": [
       "<div>\n",
       "<style scoped>\n",
       "    .dataframe tbody tr th:only-of-type {\n",
       "        vertical-align: middle;\n",
       "    }\n",
       "\n",
       "    .dataframe tbody tr th {\n",
       "        vertical-align: top;\n",
       "    }\n",
       "\n",
       "    .dataframe thead th {\n",
       "        text-align: right;\n",
       "    }\n",
       "</style>\n",
       "<table border=\"1\" class=\"dataframe\">\n",
       "  <thead>\n",
       "    <tr style=\"text-align: right;\">\n",
       "      <th></th>\n",
       "      <th>name</th>\n",
       "      <th>s3</th>\n",
       "      <th>s2</th>\n",
       "      <th>s1</th>\n",
       "      <th>pivot_points</th>\n",
       "      <th>r1</th>\n",
       "      <th>r2</th>\n",
       "      <th>r3</th>\n",
       "    </tr>\n",
       "  </thead>\n",
       "  <tbody>\n",
       "    <tr>\n",
       "      <th>0</th>\n",
       "      <td>Classic</td>\n",
       "      <td>653.43</td>\n",
       "      <td>657.47</td>\n",
       "      <td>659.48</td>\n",
       "      <td>663.51</td>\n",
       "      <td>665.52</td>\n",
       "      <td>669.55</td>\n",
       "      <td>671.56</td>\n",
       "    </tr>\n",
       "    <tr>\n",
       "      <th>1</th>\n",
       "      <td>Fibonacci</td>\n",
       "      <td>657.47</td>\n",
       "      <td>659.77</td>\n",
       "      <td>661.20</td>\n",
       "      <td>663.51</td>\n",
       "      <td>665.82</td>\n",
       "      <td>667.25</td>\n",
       "      <td>669.55</td>\n",
       "    </tr>\n",
       "    <tr>\n",
       "      <th>2</th>\n",
       "      <td>Camarilla</td>\n",
       "      <td>659.84</td>\n",
       "      <td>660.39</td>\n",
       "      <td>660.95</td>\n",
       "      <td>663.51</td>\n",
       "      <td>662.05</td>\n",
       "      <td>662.61</td>\n",
       "      <td>663.16</td>\n",
       "    </tr>\n",
       "    <tr>\n",
       "      <th>3</th>\n",
       "      <td>Woodie's</td>\n",
       "      <td>652.43</td>\n",
       "      <td>656.97</td>\n",
       "      <td>658.48</td>\n",
       "      <td>663.01</td>\n",
       "      <td>664.52</td>\n",
       "      <td>669.05</td>\n",
       "      <td>670.56</td>\n",
       "    </tr>\n",
       "    <tr>\n",
       "      <th>4</th>\n",
       "      <td>DeMark's</td>\n",
       "      <td>NaN</td>\n",
       "      <td>NaN</td>\n",
       "      <td>658.48</td>\n",
       "      <td>663.01</td>\n",
       "      <td>664.52</td>\n",
       "      <td>NaN</td>\n",
       "      <td>NaN</td>\n",
       "    </tr>\n",
       "  </tbody>\n",
       "</table>\n",
       "</div>"
      ],
      "text/plain": [
       "        name      s3      s2      s1  pivot_points      r1      r2      r3\n",
       "0    Classic  653.43  657.47  659.48        663.51  665.52  669.55  671.56\n",
       "1  Fibonacci  657.47  659.77  661.20        663.51  665.82  667.25  669.55\n",
       "2  Camarilla  659.84  660.39  660.95        663.51  662.05  662.61  663.16\n",
       "3   Woodie's  652.43  656.97  658.48        663.01  664.52  669.05  670.56\n",
       "4   DeMark's     NaN     NaN  658.48        663.01  664.52     NaN     NaN"
      ]
     },
     "execution_count": 164,
     "metadata": {},
     "output_type": "execute_result"
    }
   ],
   "source": [
    "# Retrieve the pivot points based on previous day trading, for ISF etf\n",
    "isf_pivots = investpy.pivot_points(ISF, 'United Kingdom', 'etf')\n",
    "isf_pivots"
   ]
  },
  {
   "cell_type": "markdown",
   "id": "hundred-possession",
   "metadata": {},
   "source": [
    "# Search\n",
    "This gives us the ability to bypass the static stock lists and directly search investing.com. The best way to do this would be to use the ISIN as the search term, ensuring the exact stock is found. This is useful in situations where the stock is new, as the provided static lists are very thorough. \n",
    "\n",
    "The downside is there are only three methods which can be used on the search results:\n",
    "- Recent\n",
    "- Historic\n",
    "- Summary information"
   ]
  },
  {
   "cell_type": "code",
   "execution_count": 165,
   "id": "lucky-choice",
   "metadata": {
    "ExecuteTime": {
     "end_time": "2021-01-23T11:45:32.759899Z",
     "start_time": "2021-01-23T11:45:32.250214Z"
    }
   },
   "outputs": [],
   "source": [
    "# Search for a quote using investing.com search, in this case using ISIN to search Yellow Cake stock\n",
    "yca_search = investpy.search_quotes('JE00BF50RG45', n_results=1)"
   ]
  },
  {
   "cell_type": "code",
   "execution_count": 168,
   "id": "colonial-makeup",
   "metadata": {
    "ExecuteTime": {
     "end_time": "2021-01-23T11:46:25.688839Z",
     "start_time": "2021-01-23T11:46:25.680772Z"
    }
   },
   "outputs": [],
   "source": [
    "# Assume first result is correct, and extract YCA stock object\n",
    "YCA = yca_search[0]"
   ]
  },
  {
   "cell_type": "code",
   "execution_count": 170,
   "id": "tutorial-joyce",
   "metadata": {
    "ExecuteTime": {
     "end_time": "2021-01-23T11:49:27.175051Z",
     "start_time": "2021-01-23T11:49:25.077804Z"
    }
   },
   "outputs": [],
   "source": [
    "# Retrive all possible information from search result\n",
    "yca_recent = YCA.retrieve_recent_data()\n",
    "yca_historic = YCA.retrieve_historical_data(from_date='01/01/2020', to_date='01/01/2021')\n",
    "yca_info = YCA.retrieve_information()"
   ]
  },
  {
   "cell_type": "code",
   "execution_count": 171,
   "id": "concrete-ribbon",
   "metadata": {
    "ExecuteTime": {
     "end_time": "2021-01-23T11:49:32.280886Z",
     "start_time": "2021-01-23T11:49:32.270894Z"
    }
   },
   "outputs": [
    {
     "data": {
      "text/plain": [
       "{'Prev. Close': 226,\n",
       " 'Todays Range': '217.5 - 228',\n",
       " 'Revenue': 889020,\n",
       " 'Open': 228,\n",
       " '52 wk Range': '136 - 258.1',\n",
       " 'EPS': 0.31,\n",
       " 'Volume': 634109,\n",
       " 'Market Cap': 184930000,\n",
       " 'Dividend (Yield)': 'N/A (N/A)',\n",
       " 'Average Vol. (3m)': 479874,\n",
       " 'P/E Ratio': 7.08,\n",
       " 'Beta': None,\n",
       " '1-Year Change': '12.82%',\n",
       " 'Shares Outstanding': 84059331,\n",
       " 'Next Earnings Date': None}"
      ]
     },
     "execution_count": 171,
     "metadata": {},
     "output_type": "execute_result"
    }
   ],
   "source": [
    "yca_info"
   ]
  },
  {
   "cell_type": "code",
   "execution_count": 172,
   "id": "controlling-dressing",
   "metadata": {
    "ExecuteTime": {
     "end_time": "2021-01-23T11:49:51.411526Z",
     "start_time": "2021-01-23T11:49:50.660631Z"
    }
   },
   "outputs": [
    {
     "data": {
      "text/plain": [
       "<AxesSubplot:xlabel='Date'>"
      ]
     },
     "execution_count": 172,
     "metadata": {},
     "output_type": "execute_result"
    },
    {
     "data": {
      "image/png": "[encoded data removed]",
      "text/plain": [
       "<Figure size 432x288 with 1 Axes>"
      ]
     },
     "metadata": {
      "needs_background": "light"
     },
     "output_type": "display_data"
    }
   ],
   "source": [
    "yca_recent.Close.plot()"
   ]
  },
  {
   "cell_type": "code",
   "execution_count": 173,
   "id": "educational-bhutan",
   "metadata": {
    "ExecuteTime": {
     "end_time": "2021-01-23T11:50:12.084251Z",
     "start_time": "2021-01-23T11:50:11.437963Z"
    }
   },
   "outputs": [
    {
     "data": {
      "text/plain": [
       "<AxesSubplot:xlabel='Date'>"
      ]
     },
     "execution_count": 173,
     "metadata": {},
     "output_type": "execute_result"
    },
    {
     "data": {
      "image/png": "[encoded data removed]",
      "text/plain": [
       "<Figure size 432x288 with 1 Axes>"
      ]
     },
     "metadata": {
      "needs_background": "light"
     },
     "output_type": "display_data"
    }
   ],
   "source": [
    "yca_historic.Close.plot()"
   ]
  },
  {
   "cell_type": "markdown",
   "id": "simple-steam",
   "metadata": {},
   "source": [
    "# News\n",
    "The news feature provides a list of significant financial events throughout the year, providing the country it will impact, the importance and expected impact on market."
   ]
  },
  {
   "cell_type": "code",
   "execution_count": 176,
   "id": "infectious-trash",
   "metadata": {
    "ExecuteTime": {
     "end_time": "2021-01-23T11:53:43.353612Z",
     "start_time": "2021-01-23T11:53:42.563532Z"
    }
   },
   "outputs": [],
   "source": [
    "# Retrieve economic calcendar (given from and to dates)\n",
    "eco_calendar = investpy.economic_calendar(from_date='01/01/2021', to_date='01/02/2021')"
   ]
  },
  {
   "cell_type": "code",
   "execution_count": 178,
   "id": "certain-substitute",
   "metadata": {
    "ExecuteTime": {
     "end_time": "2021-01-23T11:56:19.986189Z",
     "start_time": "2021-01-23T11:56:19.930224Z"
    }
   },
   "outputs": [
    {
     "data": {
      "text/html": [
       "<div>\n",
       "<style scoped>\n",
       "    .dataframe tbody tr th:only-of-type {\n",
       "        vertical-align: middle;\n",
       "    }\n",
       "\n",
       "    .dataframe tbody tr th {\n",
       "        vertical-align: top;\n",
       "    }\n",
       "\n",
       "    .dataframe thead th {\n",
       "        text-align: right;\n",
       "    }\n",
       "</style>\n",
       "<table border=\"1\" class=\"dataframe\">\n",
       "  <thead>\n",
       "    <tr style=\"text-align: right;\">\n",
       "      <th></th>\n",
       "      <th>id</th>\n",
       "      <th>date</th>\n",
       "      <th>time</th>\n",
       "      <th>zone</th>\n",
       "      <th>currency</th>\n",
       "      <th>importance</th>\n",
       "      <th>event</th>\n",
       "      <th>actual</th>\n",
       "      <th>forecast</th>\n",
       "      <th>previous</th>\n",
       "    </tr>\n",
       "  </thead>\n",
       "  <tbody>\n",
       "    <tr>\n",
       "      <th>281</th>\n",
       "      <td>420702</td>\n",
       "      <td>06/01/2021</td>\n",
       "      <td>07:00</td>\n",
       "      <td>norway</td>\n",
       "      <td>NOK</td>\n",
       "      <td>low</td>\n",
       "      <td>Credit Indicator (YoY)  (Nov)</td>\n",
       "      <td>4.7%</td>\n",
       "      <td>None</td>\n",
       "      <td>4.5%</td>\n",
       "    </tr>\n",
       "    <tr>\n",
       "      <th>282</th>\n",
       "      <td>420703</td>\n",
       "      <td>06/01/2021</td>\n",
       "      <td>07:15</td>\n",
       "      <td>south africa</td>\n",
       "      <td>ZAR</td>\n",
       "      <td>low</td>\n",
       "      <td>South Africa Standard Bank PMI  (Dec)</td>\n",
       "      <td>50.2</td>\n",
       "      <td>None</td>\n",
       "      <td>50.3</td>\n",
       "    </tr>\n",
       "    <tr>\n",
       "      <th>283</th>\n",
       "      <td>420704</td>\n",
       "      <td>06/01/2021</td>\n",
       "      <td>07:45</td>\n",
       "      <td>france</td>\n",
       "      <td>EUR</td>\n",
       "      <td>low</td>\n",
       "      <td>French Consumer Confidence  (Dec)</td>\n",
       "      <td>95</td>\n",
       "      <td>91</td>\n",
       "      <td>89</td>\n",
       "    </tr>\n",
       "    <tr>\n",
       "      <th>284</th>\n",
       "      <td>421426</td>\n",
       "      <td>06/01/2021</td>\n",
       "      <td>07:45</td>\n",
       "      <td>france</td>\n",
       "      <td>EUR</td>\n",
       "      <td>low</td>\n",
       "      <td>French CPI (YoY)</td>\n",
       "      <td>0.0%</td>\n",
       "      <td>0.2%</td>\n",
       "      <td>0.2%</td>\n",
       "    </tr>\n",
       "    <tr>\n",
       "      <th>285</th>\n",
       "      <td>421172</td>\n",
       "      <td>06/01/2021</td>\n",
       "      <td>07:45</td>\n",
       "      <td>france</td>\n",
       "      <td>EUR</td>\n",
       "      <td>medium</td>\n",
       "      <td>French CPI (MoM)  (Dec)</td>\n",
       "      <td>0.2%</td>\n",
       "      <td>0.2%</td>\n",
       "      <td>0.2%</td>\n",
       "    </tr>\n",
       "    <tr>\n",
       "      <th>286</th>\n",
       "      <td>421173</td>\n",
       "      <td>06/01/2021</td>\n",
       "      <td>07:45</td>\n",
       "      <td>france</td>\n",
       "      <td>EUR</td>\n",
       "      <td>low</td>\n",
       "      <td>French HICP (YoY)  (Dec)</td>\n",
       "      <td>0.0%</td>\n",
       "      <td>0.2%</td>\n",
       "      <td>0.2%</td>\n",
       "    </tr>\n",
       "    <tr>\n",
       "      <th>287</th>\n",
       "      <td>421174</td>\n",
       "      <td>06/01/2021</td>\n",
       "      <td>07:45</td>\n",
       "      <td>france</td>\n",
       "      <td>EUR</td>\n",
       "      <td>medium</td>\n",
       "      <td>French HICP (MoM)  (Dec)</td>\n",
       "      <td>0.2%</td>\n",
       "      <td>0.2%</td>\n",
       "      <td>0.2%</td>\n",
       "    </tr>\n",
       "    <tr>\n",
       "      <th>288</th>\n",
       "      <td>420705</td>\n",
       "      <td>06/01/2021</td>\n",
       "      <td>08:00</td>\n",
       "      <td>czech republic</td>\n",
       "      <td>CZK</td>\n",
       "      <td>low</td>\n",
       "      <td>Trade Balance NRA  (Nov)</td>\n",
       "      <td>32.2B</td>\n",
       "      <td>29.4B</td>\n",
       "      <td>32.2B</td>\n",
       "    </tr>\n",
       "    <tr>\n",
       "      <th>289</th>\n",
       "      <td>420875</td>\n",
       "      <td>06/01/2021</td>\n",
       "      <td>08:00</td>\n",
       "      <td>hungary</td>\n",
       "      <td>HUF</td>\n",
       "      <td>low</td>\n",
       "      <td>Gross Wages (YoY)  (Oct)</td>\n",
       "      <td>8.8%</td>\n",
       "      <td>None</td>\n",
       "      <td>8.8%</td>\n",
       "    </tr>\n",
       "    <tr>\n",
       "      <th>290</th>\n",
       "      <td>421506</td>\n",
       "      <td>06/01/2021</td>\n",
       "      <td>08:00</td>\n",
       "      <td>hungary</td>\n",
       "      <td>HUF</td>\n",
       "      <td>low</td>\n",
       "      <td>PPI (YoY)  (Nov)</td>\n",
       "      <td>5.5%</td>\n",
       "      <td>None</td>\n",
       "      <td>5.9%</td>\n",
       "    </tr>\n",
       "    <tr>\n",
       "      <th>291</th>\n",
       "      <td>420706</td>\n",
       "      <td>06/01/2021</td>\n",
       "      <td>08:15</td>\n",
       "      <td>spain</td>\n",
       "      <td>EUR</td>\n",
       "      <td>medium</td>\n",
       "      <td>Spanish Services PMI  (Dec)</td>\n",
       "      <td>48.0</td>\n",
       "      <td>45.0</td>\n",
       "      <td>39.5</td>\n",
       "    </tr>\n",
       "    <tr>\n",
       "      <th>292</th>\n",
       "      <td>420707</td>\n",
       "      <td>06/01/2021</td>\n",
       "      <td>08:15</td>\n",
       "      <td>taiwan</td>\n",
       "      <td>TWD</td>\n",
       "      <td>low</td>\n",
       "      <td>FX Reserves USD  (Dec)</td>\n",
       "      <td>529.91B</td>\n",
       "      <td>None</td>\n",
       "      <td>513.40B</td>\n",
       "    </tr>\n",
       "    <tr>\n",
       "      <th>293</th>\n",
       "      <td>420710</td>\n",
       "      <td>06/01/2021</td>\n",
       "      <td>08:45</td>\n",
       "      <td>italy</td>\n",
       "      <td>EUR</td>\n",
       "      <td>low</td>\n",
       "      <td>Italian Composite PMI  (Dec)</td>\n",
       "      <td>43.0</td>\n",
       "      <td>None</td>\n",
       "      <td>42.7</td>\n",
       "    </tr>\n",
       "    <tr>\n",
       "      <th>294</th>\n",
       "      <td>420709</td>\n",
       "      <td>06/01/2021</td>\n",
       "      <td>08:45</td>\n",
       "      <td>italy</td>\n",
       "      <td>EUR</td>\n",
       "      <td>medium</td>\n",
       "      <td>Italian Services PMI  (Dec)</td>\n",
       "      <td>39.7</td>\n",
       "      <td>45.3</td>\n",
       "      <td>39.4</td>\n",
       "    </tr>\n",
       "    <tr>\n",
       "      <th>295</th>\n",
       "      <td>420711</td>\n",
       "      <td>06/01/2021</td>\n",
       "      <td>08:50</td>\n",
       "      <td>france</td>\n",
       "      <td>EUR</td>\n",
       "      <td>low</td>\n",
       "      <td>French Markit Composite PMI  (Dec)</td>\n",
       "      <td>49.5</td>\n",
       "      <td>49.6</td>\n",
       "      <td>40.6</td>\n",
       "    </tr>\n",
       "    <tr>\n",
       "      <th>296</th>\n",
       "      <td>420712</td>\n",
       "      <td>06/01/2021</td>\n",
       "      <td>08:50</td>\n",
       "      <td>france</td>\n",
       "      <td>EUR</td>\n",
       "      <td>medium</td>\n",
       "      <td>French Services PMI  (Dec)</td>\n",
       "      <td>49.1</td>\n",
       "      <td>49.2</td>\n",
       "      <td>38.8</td>\n",
       "    </tr>\n",
       "    <tr>\n",
       "      <th>297</th>\n",
       "      <td>420714</td>\n",
       "      <td>06/01/2021</td>\n",
       "      <td>08:55</td>\n",
       "      <td>germany</td>\n",
       "      <td>EUR</td>\n",
       "      <td>low</td>\n",
       "      <td>German Composite PMI  (Dec)</td>\n",
       "      <td>52.0</td>\n",
       "      <td>52.5</td>\n",
       "      <td>51.7</td>\n",
       "    </tr>\n",
       "    <tr>\n",
       "      <th>298</th>\n",
       "      <td>420713</td>\n",
       "      <td>06/01/2021</td>\n",
       "      <td>08:55</td>\n",
       "      <td>germany</td>\n",
       "      <td>EUR</td>\n",
       "      <td>medium</td>\n",
       "      <td>German Services PMI  (Dec)</td>\n",
       "      <td>47.0</td>\n",
       "      <td>47.7</td>\n",
       "      <td>46.0</td>\n",
       "    </tr>\n",
       "    <tr>\n",
       "      <th>299</th>\n",
       "      <td>421316</td>\n",
       "      <td>06/01/2021</td>\n",
       "      <td>09:00</td>\n",
       "      <td>united kingdom</td>\n",
       "      <td>GBP</td>\n",
       "      <td>low</td>\n",
       "      <td>Car Registration (YoY)  (Dec)</td>\n",
       "      <td>-10.9%</td>\n",
       "      <td>None</td>\n",
       "      <td>-27.4%</td>\n",
       "    </tr>\n",
       "    <tr>\n",
       "      <th>300</th>\n",
       "      <td>421315</td>\n",
       "      <td>06/01/2021</td>\n",
       "      <td>09:00</td>\n",
       "      <td>united kingdom</td>\n",
       "      <td>GBP</td>\n",
       "      <td>low</td>\n",
       "      <td>Car Registration (MoM)  (Dec)</td>\n",
       "      <td>16.6%</td>\n",
       "      <td>None</td>\n",
       "      <td>-19.3%</td>\n",
       "    </tr>\n",
       "  </tbody>\n",
       "</table>\n",
       "</div>"
      ],
      "text/plain": [
       "         id        date   time            zone currency importance  \\\n",
       "281  420702  06/01/2021  07:00          norway      NOK        low   \n",
       "282  420703  06/01/2021  07:15    south africa      ZAR        low   \n",
       "283  420704  06/01/2021  07:45          france      EUR        low   \n",
       "284  421426  06/01/2021  07:45          france      EUR        low   \n",
       "285  421172  06/01/2021  07:45          france      EUR     medium   \n",
       "286  421173  06/01/2021  07:45          france      EUR        low   \n",
       "287  421174  06/01/2021  07:45          france      EUR     medium   \n",
       "288  420705  06/01/2021  08:00  czech republic      CZK        low   \n",
       "289  420875  06/01/2021  08:00         hungary      HUF        low   \n",
       "290  421506  06/01/2021  08:00         hungary      HUF        low   \n",
       "291  420706  06/01/2021  08:15           spain      EUR     medium   \n",
       "292  420707  06/01/2021  08:15          taiwan      TWD        low   \n",
       "293  420710  06/01/2021  08:45           italy      EUR        low   \n",
       "294  420709  06/01/2021  08:45           italy      EUR     medium   \n",
       "295  420711  06/01/2021  08:50          france      EUR        low   \n",
       "296  420712  06/01/2021  08:50          france      EUR     medium   \n",
       "297  420714  06/01/2021  08:55         germany      EUR        low   \n",
       "298  420713  06/01/2021  08:55         germany      EUR     medium   \n",
       "299  421316  06/01/2021  09:00  united kingdom      GBP        low   \n",
       "300  421315  06/01/2021  09:00  united kingdom      GBP        low   \n",
       "\n",
       "                                     event   actual forecast previous  \n",
       "281          Credit Indicator (YoY)  (Nov)     4.7%     None     4.5%  \n",
       "282  South Africa Standard Bank PMI  (Dec)     50.2     None     50.3  \n",
       "283      French Consumer Confidence  (Dec)       95       91       89  \n",
       "284                       French CPI (YoY)     0.0%     0.2%     0.2%  \n",
       "285                French CPI (MoM)  (Dec)     0.2%     0.2%     0.2%  \n",
       "286               French HICP (YoY)  (Dec)     0.0%     0.2%     0.2%  \n",
       "287               French HICP (MoM)  (Dec)     0.2%     0.2%     0.2%  \n",
       "288               Trade Balance NRA  (Nov)    32.2B    29.4B    32.2B  \n",
       "289               Gross Wages (YoY)  (Oct)     8.8%     None     8.8%  \n",
       "290                       PPI (YoY)  (Nov)     5.5%     None     5.9%  \n",
       "291            Spanish Services PMI  (Dec)     48.0     45.0     39.5  \n",
       "292                 FX Reserves USD  (Dec)  529.91B     None  513.40B  \n",
       "293           Italian Composite PMI  (Dec)     43.0     None     42.7  \n",
       "294            Italian Services PMI  (Dec)     39.7     45.3     39.4  \n",
       "295     French Markit Composite PMI  (Dec)     49.5     49.6     40.6  \n",
       "296             French Services PMI  (Dec)     49.1     49.2     38.8  \n",
       "297            German Composite PMI  (Dec)     52.0     52.5     51.7  \n",
       "298             German Services PMI  (Dec)     47.0     47.7     46.0  \n",
       "299          Car Registration (YoY)  (Dec)   -10.9%     None   -27.4%  \n",
       "300          Car Registration (MoM)  (Dec)    16.6%     None   -19.3%  "
      ]
     },
     "execution_count": 178,
     "metadata": {},
     "output_type": "execute_result"
    }
   ],
   "source": [
    "eco_calendar.tail(20)"
   ]
  },
  {
   "cell_type": "code",
   "execution_count": null,
   "id": "moral-finger",
   "metadata": {},
   "outputs": [],
   "source": []
  }
 ],
 "metadata": {
  "kernelspec": {
   "display_name": "Investing",
   "language": "python",
   "name": "python3"
  },
  "language_info": {
   "codemirror_mode": {
    "name": "ipython",
    "version": 3
   },
   "file_extension": ".py",
   "mimetype": "text/x-python",
   "name": "python",
   "nbconvert_exporter": "python",
   "pygments_lexer": "ipython3",
   "version": "3.8.6"
  },
  "toc": {
   "base_numbering": 1,
   "nav_menu": {
    "height": "67px",
    "width": "160px"
   },
   "number_sections": true,
   "sideBar": true,
   "skip_h1_title": false,
   "title_cell": "Table of Contents",
   "title_sidebar": "Contents",
   "toc_cell": false,
   "toc_position": {},
   "toc_section_display": true,
   "toc_window_display": false
  }
 },
 "nbformat": 4,
 "nbformat_minor": 5
}
