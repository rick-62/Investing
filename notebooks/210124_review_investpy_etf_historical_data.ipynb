{
 "cells": [
  {
   "cell_type": "markdown",
   "id": "selected-israel",
   "metadata": {},
   "source": [
    "## Problem\n",
    "investpy offers multiple available exchanges and currencies to select from when downloading historical data from investing.com. The problem occurs when the module selects which exchange and currency to download the data from, and in some instances was incorrect. The data needs verifying the ensure the currency is now correct (verified against the Freetrade list). \n",
    "\n",
    "Workaround has been implemented by swapping the column names _symbol_ and _name_."
   ]
  },
  {
   "cell_type": "code",
   "execution_count": 74,
   "id": "gothic-medium",
   "metadata": {
    "ExecuteTime": {
     "end_time": "2021-01-27T22:06:22.122070Z",
     "start_time": "2021-01-27T22:06:22.114075Z"
    }
   },
   "outputs": [],
   "source": [
    "import investpy\n",
    "import matplotlib.pyplot as plt\n",
    "\n",
    "from collections import Counter\n",
    "\n",
    "import warnings\n",
    "warnings.filterwarnings('ignore')"
   ]
  },
  {
   "cell_type": "code",
   "execution_count": 75,
   "id": "chicken-retail",
   "metadata": {
    "ExecuteTime": {
     "end_time": "2021-01-27T22:06:23.090030Z",
     "start_time": "2021-01-27T22:06:23.004081Z"
    }
   },
   "outputs": [
    {
     "name": "stdout",
     "output_type": "stream",
     "text": [
      "2021-01-27 22:06:23,057 - kedro.io.data_catalog - INFO - Loading data from `etfs` (CSVDataSet)...\n"
     ]
    }
   ],
   "source": [
    "# load available etfs from Primary\n",
    "etfs = context.catalog.load('etfs')"
   ]
  },
  {
   "cell_type": "code",
   "execution_count": 76,
   "id": "gothic-charleston",
   "metadata": {
    "ExecuteTime": {
     "end_time": "2021-01-27T22:06:28.249596Z",
     "start_time": "2021-01-27T22:06:27.847412Z"
    }
   },
   "outputs": [
    {
     "name": "stdout",
     "output_type": "stream",
     "text": [
      "2021-01-27 22:06:27,895 - kedro.io.data_catalog - INFO - Loading data from `etfs_historical` (PartitionedDataSet)...\n"
     ]
    }
   ],
   "source": [
    "# load downloaded etf historic data\n",
    "etfs_hist = context.catalog.load('etfs_historical')"
   ]
  },
  {
   "cell_type": "code",
   "execution_count": 77,
   "id": "unsigned-catering",
   "metadata": {
    "ExecuteTime": {
     "end_time": "2021-01-27T22:06:32.547403Z",
     "start_time": "2021-01-27T22:06:29.718866Z"
    },
    "scrolled": true
   },
   "outputs": [
    {
     "name": "stdout",
     "output_type": "stream",
     "text": [
      "UKRE (iShares MSCI Target UK Real Estate): age=6yrs, currency=GBP, match=True, exchange=London, latest_price=475.2, isin=IE00BRHZ0398\n",
      "S100 (Source FTSE 100 UCITS): age=12yrs, currency=GBP, match=True, exchange=London, latest_price=6009.5, isin=IE00B60SWT88\n",
      "IBTM (iShares $ Treasury Bond 7-10Yr UCITS): age=15yrs, currency=GBP, match=True, exchange=London, latest_price=159.19, isin=IE00B1FZS798\n",
      "VEMT (Vanguard USD EM Government Bond): age=5yrs, currency=GBP, match=True, exchange=London, latest_price=38.22, isin=IE00BZ163L38\n",
      "TRXS (Invesco US Treasury Bond 7-10 Year UCITS GBP Hedge): age=2yrs, currency=GBP, match=True, exchange=London, latest_price=4453.0, isin=IE00BF2FNB90\n",
      "SLXX (iShares Core GBP Corporate Bond UCITS): age=17yrs, currency=GBP, match=True, exchange=London, latest_price=159.55, isin=IE00B00FV011\n",
      "VUCP (Vanguard USD Corp Bd): age=5yrs, currency=GBP, match=True, exchange=London, latest_price=42.38, isin=IE00BZ163K21\n",
      "IHHG (iShares $ High Yield Corp Bond UCITS GBP Hedged (D): age=3yrs, currency=GBP, match=True, exchange=London, latest_price=4.83, isin=IE00BDFJYL11\n",
      "SEMB (iShares J.P. Morgan $ Emerging Markets Bond UCITS): age=7yrs, currency=GBP, match=True, exchange=London, latest_price=8255.0, isin=IE00B2NPKV68\n",
      "INXG (iShares GBP-Linked Gilts UCITS): age=15yrs, currency=GBP, match=True, exchange=London, latest_price=19.93, isin=IE00B1FZSD53\n",
      "VUTY (Vanguard USD Treasury Bd): age=5yrs, currency=GBP, match=True, exchange=London, latest_price=19.27, isin=IE00BZ163M45\n",
      "CU31 (iShares $ Treasury Bond 1-3Yr UCITS Acc): age=7yrs, currency=GBP, match=True, exchange=London, latest_price=8359.0, isin=IE00B3VWN179\n",
      "ERNU (iShares USD Ultrashort Bond UCITS): age=7yrs, currency=GBP, match=True, exchange=London, latest_price=72.76, isin=IE00BCRY6227\n",
      "SEML (iShares Emerging Markets Local Government Bond UCI): age=10yrs, currency=GBP, match=True, exchange=London, latest_price=42.33, isin=IE00B5M4WH52\n",
      "IGLT (iShares Core UK Gilts UCITS): age=15yrs, currency=GBP, match=True, exchange=London, latest_price=14.66, isin=IE00B1FZSB30\n",
      "AGBP (iShares Global Aggregate Bond Hedged Dist): age=4yrs, currency=GBP, match=True, exchange=London, latest_price=5.26, isin=IE00BF540Y54\n",
      "VGOV (Uk Gilt UCITS): age=9yrs, currency=GBP, match=True, exchange=London, latest_price=25.74, isin=IE00B42WWV65\n",
      "ISXF (iShares GBP Corporate Bond ex-Financials UCITS): age=12yrs, currency=GBP, match=True, exchange=London, latest_price=138.68, isin=IE00B4L60H17\n",
      "VUSC (Vanguard USD Corporate 1-3 year Bond UCITS): age=3yrs, currency=GBP, match=True, exchange=London, latest_price=37.92, isin=IE00BDD48R20\n",
      "FLOS (iShares USD Floating Rate Bond Hedged Dis): age=4yrs, currency=GBP, match=True, exchange=London, latest_price=478.98, isin=IE00BF7TPM11\n",
      "SHYU (iShares $ High Yield Corporate Bond UCITS): age=7yrs, currency=GBP, match=True, exchange=London, latest_price=75.22, isin=IE00B4PY7Y77\n",
      "IS15 (iShares GBP Corporate Bond 1-5Yr UCITS): age=10yrs, currency=GBP, match=True, exchange=London, latest_price=107.98, isin=IE00B5L65R35\n",
      "ITPS (iShares $ Tips UCITS): age=15yrs, currency=GBP, match=True, exchange=London, latest_price=178.84, isin=IE00B1FZSC47\n",
      "GHYS (iShares Global High Yield Corp Bond GBP Hedged): age=7yrs, currency=GBP, match=True, exchange=London, latest_price=97.05, isin=IE00B8KQFS66\n",
      "VETY (Vanguard Eurozone Government Bond): age=5yrs, currency=GBP, match=True, exchange=London, latest_price=24.52, isin=IE00BZ163H91\n",
      "IGLS (iShares UK Gilts 0-5Yr UCITS): age=12yrs, currency=GBP, match=True, exchange=London, latest_price=134.46, isin=IE00B4WXJK79\n",
      "VAGP (Vanguard Global Aggregate Bond UCITS GBP Hedged In): age=2yrs, currency=GBP, match=True, exchange=London, latest_price=26.28, isin=IE00BG47KG48\n",
      "ERNS (iShares GBP Ultrashort Bond GBP): age=7yrs, currency=GBP, match=True, exchange=London, latest_price=100.61, isin=IE00BCRY6441\n",
      "TP05 (iShares $ TIPS 0-5 Dist Share Class): age=4yrs, currency=GBP, match=True, exchange=London, latest_price=367.0, isin=IE00BDQYWQ65\n",
      "IBTG (iShares Self-Driving EV and Tech): age=3yrs, currency=GBP, match=True, exchange=London, latest_price=4.99, isin=IE00BDFK1N50\n",
      "IBTL (iShares USD Treasury Bond 20+Yr DE): age=6yrs, currency=GBP, match=True, exchange=London, latest_price=418.63, isin=IE00BSKRJZ44\n",
      "IBTS (iShares $ Treasury Bond 1-3Yr UCITS): age=15yrs, currency=GBP, match=True, exchange=London, latest_price=98.25, isin=IE00B14X4S71\n",
      "SHYG (iShares Euro High Yield Corporate Bond UCITS): age=7yrs, currency=GBP, match=True, exchange=London, latest_price=90.46, isin=IE00B66F4759\n",
      "LQDS (iShares $ Corporate Bond UCITS): age=5yrs, currency=GBP, match=True, exchange=London, latest_price=9515.0, isin=IE0032895942\n",
      "SGLO (iShares Global Government Bond UCITS): age=7yrs, currency=GBP, match=True, exchange=London, latest_price=87.03, isin=IE00B3F81K65\n",
      "SGIL (iShares Global Inflation Linked Government Bond UC): age=7yrs, currency=GBP, match=True, exchange=London, latest_price=134.33, isin=IE00B3B8PX14\n",
      "IUKD (iShares UK Dividend UCITS): age=16yrs, currency=GBP, match=True, exchange=London, latest_price=656.1, isin=IE00B0M63060\n",
      "IUSU (iShares S&P 500 Utilities Sector Acc): age=4yrs, currency=GBP, match=True, exchange=London, latest_price=495.6, isin=IE00B4KBBD01\n",
      "VHYL (Vanguard FTSE All-World High Div Yld): age=8yrs, currency=GBP, match=True, exchange=London, latest_price=41.83, isin=IE00B8GKDB10\n",
      "IKOR (iShares MSCI Korea UCITS Dist): age=16yrs, currency=GBP, match=True, exchange=London, latest_price=4777.5, isin=IE00B0M63391\n",
      "IEEM (iShares MSCI Emerging Markets UCITS Dist): age=16yrs, currency=GBP, match=True, exchange=London, latest_price=3869.3, isin=IE00B0M63177\n",
      "ISJP (iShares MSCI Japan Small Cap UCITS Dist): age=13yrs, currency=GBP, match=True, exchange=London, latest_price=3237.0, isin=IE00B2QWDY88\n",
      "IITU (iShares S&P 500 USD Info Tech): age=6yrs, currency=GBP, match=True, exchange=London, latest_price=1216.25, isin=IE00B3WJKG14\n",
      "ISP6 (iShares S&P SmallCap 600 UCITS): age=13yrs, currency=GBP, match=True, exchange=London, latest_price=5989.5, isin=IE00B2QWCY14\n",
      "VEUR (Vanguard FTSE Developed Europe): age=8yrs, currency=GBP, match=True, exchange=London, latest_price=28.17, isin=IE00B945VV12\n",
      "IHCU (iShares S&P 500 USD Health Care): age=6yrs, currency=GBP, match=True, exchange=London, latest_price=634.38, isin=IE00B43HR379\n",
      "VFEM (Vanguard FTSE Emerging Markets UCITS USD Inc): age=9yrs, currency=GBP, match=True, exchange=London, latest_price=52.81, isin=IE00B3VVMM84\n",
      "SPOL (iShares MSCI Poland UCITS): age=7yrs, currency=GBP, match=True, exchange=London, latest_price=1219.4, isin=IE00B4M7GH52\n",
      "IWFM (iShares MSCI World Momentum Factor UCITS): age=7yrs, currency=GBP, match=True, exchange=London, latest_price=4420.5, isin=IE00BP3QZ825\n",
      "CS51 (iShares Core EURO STOXX 50 UCITS): age=7yrs, currency=GBP, match=True, exchange=London, latest_price=10347.0, isin=IE00B53L3W79\n",
      "RBTX (iShares Automation & Robotics Acc): age=5yrs, currency=GBP, match=True, exchange=London, latest_price=898.63, isin=IE00BYZK4552\n",
      "IDVY (iShares EURO Dividend UCITS): age=16yrs, currency=GBP, match=True, exchange=London, latest_price=1584.2, isin=IE00B0M62S72\n",
      "EMIM (iShares Core MSCI Emerging Markets IMI UCITS): age=7yrs, currency=GBP, match=True, exchange=London, latest_price=2745.0, isin=IE00BKM4GZ66\n",
      "HDLG (PowerShares SP 500 High Dividend FR): age=5yrs, currency=GBP, match=True, exchange=London, latest_price=2206.5, isin=IE00BWTN6Y99\n",
      "VJPN (Vanguard FTSE Japan USD): age=8yrs, currency=GBP, match=True, exchange=London, latest_price=26.37, isin=IE00B95PGT31\n",
      "CPJ1 (iShares Core MSCI Pacific ex Japan UCITS): age=7yrs, currency=GBP, match=True, exchange=London, latest_price=12532.5, isin=IE00B52MJY50\n",
      "INRG (iShares Global Clean Energy UCITS): age=14yrs, currency=GBP, match=True, exchange=London, latest_price=1285.5, isin=IE00B1XNHC34\n",
      "IH2O (iShares Global Water UCITS): age=14yrs, currency=GBP, match=True, exchange=London, latest_price=4128.5, isin=IE00B1TXK627\n",
      "VERX (Vanguard FTSE Dev Europe x UK): age=7yrs, currency=GBP, match=True, exchange=London, latest_price=28.18, isin=IE00BKX55S42\n",
      "VMID (Vanguard FTSE 250): age=7yrs, currency=GBP, match=True, exchange=London, latest_price=31.68, isin=IE00BKX55Q28\n",
      "VUSA (Vanguard S&P 500 UCITS USD Inc): age=9yrs, currency=GBP, match=True, exchange=London, latest_price=52.44, isin=IE00B3XXRP09\n",
      "CSP1 (iShares Core S&P 500 UCITS): age=7yrs, currency=GBP, match=True, exchange=London, latest_price=27907.0, isin=IE00B5BMR087\n",
      "UIFS (iShares S&P 500 USD Financials): age=6yrs, currency=GBP, match=True, exchange=London, latest_price=585.0, isin=IE00B4JNQZ49\n",
      "ITKY (iShares MSCI Turkey UCITS): age=15yrs, currency=GBP, match=True, exchange=London, latest_price=1080.75, isin=IE00B1FZS574\n",
      "VAPX (Vanguard FTSE Developed Asia Pacif): age=8yrs, currency=GBP, match=True, exchange=London, latest_price=22.63, isin=IE00B9F5YL18\n",
      "DRDR (iShares Healthcare Innovation Acc): age=5yrs, currency=GBP, match=True, exchange=London, latest_price=775.5, isin=IE00BYZK4776\n",
      "IUSA (iShares S&P 500 UCITS Dist): age=19yrs, currency=GBP, match=True, exchange=London, latest_price=2757.1, isin=IE0031442068\n",
      "VNRT (Vanguard FTSE North America): age=7yrs, currency=GBP, match=True, exchange=London, latest_price=69.04, isin=IE00BKX55R35\n",
      "IUKP (iShares UK Property UCITS): age=14yrs, currency=GBP, match=True, exchange=London, latest_price=538.9, isin=IE00B1TXLS18\n",
      "SPGP (iShares S&P Gold Producers UCITS): age=7yrs, currency=GBP, match=True, exchange=London, latest_price=1096.0, isin=IE00B6R52036\n"
     ]
    },
    {
     "name": "stdout",
     "output_type": "stream",
     "text": [
      "ISF (iShares Core FTSE 100 UCITS): age=21yrs, currency=GBP, match=True, exchange=London, latest_price=646.6, isin=IE0005042456\n",
      "IEER (iShares MSCI Eastern Europe Capped UCITS): age=16yrs, currency=GBP, match=True, exchange=London, latest_price=1704.0, isin=IE00B0M63953\n",
      "MIDD (iShares FTSE 250 UCITS): age=17yrs, currency=GBP, match=True, exchange=London, latest_price=1921.0, isin=IE00B00FV128\n",
      "VEVE (Vanguard FTSE Dev World): age=7yrs, currency=GBP, match=True, exchange=London, latest_price=58.17, isin=IE00BKX55T58\n",
      "IWDP (iShares Developed Markets Property Yield UCITS): age=15yrs, currency=GBP, match=True, exchange=London, latest_price=1808.8, isin=IE00B1FZS350\n",
      "VGER (Vanguard DAX UCITS): age=3yrs, currency=GBP, match=True, exchange=London, latest_price=22.56, isin=IE00BG143G97\n",
      "VUKE (Vanguard FTSE 100 UCITS GBP Inc): age=9yrs, currency=GBP, match=True, exchange=London, latest_price=28.99, isin=IE00B810Q511\n",
      "VWRL (Vanguard FTSE All-World UCITS USD Inc): age=9yrs, currency=GBP, match=True, exchange=London, latest_price=78.77, isin=IE00B3RBWM25\n",
      "EQQQ (PowerShares EQQQ Nasdaq-100 UCITS): age=16yrs, currency=GBP, match=True, exchange=London, latest_price=23733.0, isin=IE0032077012\n",
      "VVAL (Vanguard Global Value Factor): age=6yrs, currency=GBP, match=True, exchange=London, latest_price=26.23, isin=IE00BYYR0B57\n",
      "VUAG (Vanguard S&P 500 UCITS Acc): age=2yrs, currency=GBP, match=True, exchange=London, latest_price=50.12, isin=IE00BFMXXD54\n",
      "IWFV (iShares MSCI World Value Factor UCITS): age=7yrs, currency=GBP, match=True, exchange=London, latest_price=2377.5, isin=IE00BP3QZB59\n",
      "SUJA (iShares MSCI Japan SRI Acc Share Class): age=4yrs, currency=GBP, match=True, exchange=London, latest_price=540.75, isin=IE00BYX8XC17\n",
      "SJPA (iShares Core MSCI Japan IMI UCITS): age=7yrs, currency=GBP, match=True, exchange=London, latest_price=3763.0, isin=IE00B4L5YX21\n",
      "SWDA (iShares Core MSCI World UCITS): age=7yrs, currency=GBP, match=True, exchange=London, latest_price=5395.0, isin=IE00B4L5Y983\n",
      "MVUS (iShares Edge S&P 500 Min Vol): age=7yrs, currency=GBP, match=True, exchange=London, latest_price=4942.5, isin=IE00B6SPMN59\n",
      "ISWD (iShares MSCI World Islamic UCITS): age=14yrs, currency=GBP, match=True, exchange=London, latest_price=2771.0, isin=IE00B27YCN58\n",
      "CUKS (iShares MSCI UK Small Cap UCITS): age=11yrs, currency=GBP, match=True, exchange=London, latest_price=22372.5, isin=IE00B3VWLG82\n",
      "IGWD (iShares MSCI World GBP Hedged UCITS): age=11yrs, currency=GBP, match=True, exchange=London, latest_price=6745.0, isin=IE00B42YS929\n",
      "IESG (iShares Dow Jones Europe Sustainability Screened): age=7yrs, currency=GBP, match=True, exchange=London, latest_price=4553.0, isin=IE00B52VJ196\n",
      "WOOD (iShares Global Timber & Forestry UCITS): age=14yrs, currency=GBP, match=True, exchange=London, latest_price=2105.75, isin=IE00B27YCF74\n",
      "IJPN (iShares MSCI Japan UCITS Dist): age=17yrs, currency=GBP, match=True, exchange=London, latest_price=1259.5, isin=IE00B02KXH56\n",
      "IGSG (iShares Dow Jones Global Sustainability Screened U): age=10yrs, currency=GBP, match=True, exchange=London, latest_price=3831.0, isin=IE00B57X3V84\n",
      "EUE (iShares EURO STOXX 50 UCITS Dist): age=20yrs, currency=GBP, match=True, exchange=London, latest_price=3166.0, isin=IE0008471009\n",
      "IUSF (iShares Edge MSCI USA Size Factor UCITS ETF USD (A): age=4yrs, currency=GBP, match=True, exchange=London, latest_price=621.75, isin=IE00BD1F4K20\n",
      "MINV (iShares Edge MSCI World Min Vol): age=7yrs, currency=GBP, match=True, exchange=London, latest_price=3932.0, isin=IE00B8FHGS14\n",
      "CNX1 (iShares Nasdaq 100 UCITS): age=7yrs, currency=GBP, match=True, exchange=London, latest_price=54656.5, isin=IE00B53SZB19\n",
      "CUS1 (iShares MSCI USA Small Cap UCITS): age=7yrs, currency=GBP, match=True, exchange=London, latest_price=32965.5, isin=IE00B3VWM098\n",
      "IPRP (iShares European Property Yield UCITS): age=16yrs, currency=GBP, match=True, exchange=London, latest_price=3487.0, isin=IE00B0M63284\n",
      "IWDG (iShares Core MSCI World UCITS GBP Hedged (Dist)): age=4yrs, currency=GBP, match=True, exchange=London, latest_price=674.5, isin=IE00BD45YS76\n",
      "SPOG (iShares S&P Commodity Producers Oil and Gas UCITS): age=7yrs, currency=GBP, match=True, exchange=London, latest_price=851.88, isin=IE00B6R51Z18\n",
      "ICSU (iShares S&P 500 Consumer Staples Sector Acc): age=4yrs, currency=GBP, match=True, exchange=London, latest_price=479.0, isin=IE00B40B8R38\n",
      "ISUS (iShares MSCI USA Islamic UCITS): age=14yrs, currency=GBP, match=True, exchange=London, latest_price=3674.0, isin=IE00B296QM64\n",
      "IEUX (iShares MSCI Europe ex-UK UCITS): age=15yrs, currency=GBP, match=True, exchange=London, latest_price=3067.8, isin=IE00B14X4N27\n",
      "CSUK (iShares MSCI UK UCITS): age=11yrs, currency=GBP, match=True, exchange=London, latest_price=10078.0, isin=IE00B539F030\n",
      "IPRV (iShares Listed Private Equity UCITS): age=14yrs, currency=GBP, match=True, exchange=London, latest_price=1759.75, isin=IE00B1TXHL60\n",
      "INAA (iShares MSCI North America UCITS): age=15yrs, currency=GBP, match=True, exchange=London, latest_price=5258.5, isin=IE00B14X4M10\n",
      "IWVG (iShares Edge MSCI World Value Factor UCITS ETF USD): age=3yrs, currency=GBP, match=True, exchange=London, latest_price=3.42, isin=IE00BFYTYS33\n",
      "CEU1 (iShares Core MSCI EMU Acc): age=7yrs, currency=GBP, match=True, exchange=London, latest_price=10974.0, isin=IE00B53QG562\n",
      "ITWN (iShares MSCI Taiwan UCITS): age=16yrs, currency=GBP, match=True, exchange=London, latest_price=5522.5, isin=IE00B0M63623\n",
      "IASH (iShares MSCI China A UCITS USD): age=6yrs, currency=GBP, match=True, exchange=London, latest_price=482.35, isin=IE00BQT3WG13\n",
      "IJPH (iShares MSCI Japan GBP Hedged UCITS): age=9yrs, currency=GBP, match=True, exchange=London, latest_price=66.62, isin=IE00B7XYN974\n",
      "IAPD (iShares Asia Pacific Dividend UCITS): age=15yrs, currency=GBP, match=True, exchange=London, latest_price=1759.0, isin=IE00B14X4T88\n",
      "VMOM (Vanguard Global Momentum Factor): age=6yrs, currency=GBP, match=True, exchange=London, latest_price=34.31, isin=IE00BYYR0935\n",
      "INFR (iShares Global Infrastructure UCITS): age=15yrs, currency=GBP, match=True, exchange=London, latest_price=2155.0, isin=IE00B1FZS467\n",
      "IASP (iShares Asia Property Yield UCITS): age=15yrs, currency=GBP, match=True, exchange=London, latest_price=1925.5, isin=IE00B1FZS244\n",
      "VUKG (Vanguard FTSE 100 UCITS GBP Acc): age=2yrs, currency=GBP, match=True, exchange=London, latest_price=28.99, isin=IE00BFMXYP42\n",
      "WMVG (iShares Edge MSCI World Min Volatility UCITS ETF G): age=2yrs, currency=GBP, match=True, exchange=London, latest_price=5.57, isin=IE00BGPP8L80\n",
      "IBZL (iShares MSCI Brazil UCITS Dist): age=16yrs, currency=GBP, match=True, exchange=London, latest_price=1997.5, isin=IE00B0M63516\n",
      "IGUS (iShares S&P 500 GBP Hedged UCITS): age=11yrs, currency=GBP, match=True, exchange=London, latest_price=8626.5, isin=IE00B3Y8X563\n",
      "CUKX (iShares FTSE 100 UCITS Acc): age=11yrs, currency=GBP, match=True, exchange=London, latest_price=11097.0, isin=IE00B53HP851\n",
      "SMEA (iShares MSCI Europe UCITS Acc): age=7yrs, currency=GBP, match=True, exchange=London, latest_price=4867.5, isin=IE00B4K48X80\n",
      "LTAM (iShares MSCI Emerging Markets Latin America UCITS): age=14yrs, currency=GBP, match=True, exchange=London, latest_price=1093.5, isin=IE00B27YCK28\n",
      "IMSU (iShares S&P 500 Materials Sector Acc): age=4yrs, currency=GBP, match=True, exchange=London, latest_price=533.13, isin=IE00B4MKCJ84\n",
      "SEDY (iShares Emerging Markets Dividend UCITS): age=7yrs, currency=GBP, match=True, exchange=London, latest_price=1486.0, isin=IE00B652H904\n",
      "IFFF (iShares MSCI AC Far East ex-Japan UCITS): age=16yrs, currency=GBP, match=True, exchange=London, latest_price=5530.0, isin=IE00B0M63730\n",
      "IWFQ (iShares MSCI World Quality Factor UCITS): age=7yrs, currency=GBP, match=True, exchange=London, latest_price=3457.0, isin=IE00BP3QZ601\n",
      "IMEU (iShares MSCI Europe UCITS Dist): age=14yrs, currency=GBP, match=True, exchange=London, latest_price=2184.5, isin=IE00B1YZSC51\n",
      "FXC (iShares China Large Cap UCITS): age=17yrs, currency=GBP, match=True, exchange=London, latest_price=10629.5, isin=IE00B02KXK85\n",
      "IWRD (iShares MSCI World UCITS Dist): age=16yrs, currency=GBP, match=True, exchange=London, latest_price=4209.0, isin=IE00B0M62Q58\n",
      "SEMA (iShares MSCI Emerging Markets UCITS Acc): age=7yrs, currency=GBP, match=True, exchange=London, latest_price=3284.5, isin=IE00B4L5YC18\n",
      "IUSP (iShares US Property Yield UCITS): age=15yrs, currency=GBP, match=True, exchange=London, latest_price=1957.5, isin=IE00B1FZSF77\n",
      "EUXS (iShares MSCI Europe Ex UK GBP): age=6yrs, currency=GBP, match=True, exchange=London, latest_price=557.75, isin=IE00BVDPJP67\n",
      "SSLN (iShares Physical Silver): age=6yrs, currency=GBP, match=True, exchange=London, latest_price=1774.0, isin=IE00B4NCWG09\n",
      "SGLN (iShares Physical Gold): age=6yrs, currency=GBP, match=True, exchange=London, latest_price=2636.0, isin=IE00B4ND3602\n",
      "SPLT (iShares Physical Platinum): age=5yrs, currency=GBP, match=True, exchange=London, latest_price=1130.25, isin=IE00B4LHWP62\n",
      "PHSP (ETFS Physical Silver): age=5yrs, currency=GBP, match=True, exchange=London, latest_price=1723.45, isin=JE00B1VS3333\n",
      "HUKX (HSBC FTSE 100 UCITS): age=12yrs, currency=GBP, match=True, exchange=London, latest_price=6574.5, isin=IE00B42TW061\n",
      "HMCX (HSBC FTSE 250 UCITS): age=11yrs, currency=GBP, match=True, exchange=London, latest_price=1920.8, isin=IE00B64PTF05\n"
     ]
    },
    {
     "name": "stdout",
     "output_type": "stream",
     "text": [
      "XUKX (db x-trackers FTSE 100 UCITS DR Income): age=14yrs, currency=GBP, match=True, exchange=London, latest_price=664.85, isin=LU0292097234\n",
      "XXSC (db x-trackers MSCI Europe Small Cap UCITS DR 1C): age=13yrs, currency=GBP, match=True, exchange=London, latest_price=4519.5, isin=LU0322253906\n",
      "TIPH (Lyxor US TIPS DR Monthly Hedged D-GBP): age=4yrs, currency=GBP, match=True, exchange=London, latest_price=113.28, isin=LU1452600601\n",
      "GLTS (SPDR Barclays Capital 1-5 Year Gilt): age=9yrs, currency=GBP, match=True, exchange=London, latest_price=51.88, isin=IE00B6YX5K17\n",
      "STHS (PIMCO Short-Term High Yield Corporate Bond Source): age=5yrs, currency=GBP, match=True, exchange=London, latest_price=9.55, isin=IE00BYXVWC37\n",
      "UKCO (SSgA SPDR Barclays Cap Sterling Corporate Bond): age=9yrs, currency=GBP, match=True, exchange=London, latest_price=66.9, isin=IE00B4694Z11\n",
      "XGIG (db x-trackers II iBoxx Global Inflation-Linked UCI): age=9yrs, currency=GBP, match=True, exchange=London, latest_price=2792.0, isin=LU0641007264\n",
      "GILS (Lyxor UCITS Iboxx GBP Gilts): age=7yrs, currency=GBP, match=True, exchange=London, latest_price=14910.0, isin=LU1407892592\n",
      "XGSG (db x-trackers II Global Sovereign GBP UCITS): age=9yrs, currency=GBP, match=True, exchange=London, latest_price=2907.5, isin=LU0641006290\n",
      "GILI (Lyxor UCITS iBoxx GBP Gilt Inflation Linked DR): age=7yrs, currency=GBP, match=True, exchange=London, latest_price=20863.5, isin=LU1407893301\n",
      "UKDV (SPDR S&P UK Dividend Aristocrats): age=9yrs, currency=GBP, match=True, exchange=London, latest_price=10.4, isin=IE00B6S2Z822\n",
      "UKSR (UBS Irl plc MSCI UK IMI Socially Resp A-dis): age=6yrs, currency=GBP, match=True, exchange=London, latest_price=1556.5, isin=IE00BMP3HN93\n",
      "ISPY (Solutions Ise Cyber Security Go): age=6yrs, currency=GBP, match=True, exchange=London, latest_price=1876.25, isin=IE00BYPLS672\n",
      "HMCH (HSBC MSCI China UCITS): age=10yrs, currency=GBP, match=True, exchange=London, latest_price=882.0, isin=IE00B44T3H88\n",
      "USDV (SSgA SPDR S&P US Dividend Aristocrats): age=10yrs, currency=GBP, match=True, exchange=London, latest_price=43.67, isin=IE00B6YX5D40\n",
      "GBDV (SPDR S&P Global Dividend Aristocrats UCITS): age=8yrs, currency=GBP, match=True, exchange=London, latest_price=23.34, isin=IE00B9CQXS71\n",
      "XRSG (db x-trackers Russell 2000 UCITS GB): age=6yrs, currency=GBP, match=True, exchange=London, latest_price=21955.5, isin=IE00BJZ2DD79\n",
      "FTAL (SPDR FTSE UK All Share): age=9yrs, currency=GBP, match=True, exchange=London, latest_price=49.77, isin=IE00B7452L46\n",
      "ROBG (ROBO-STOX Global Robotics and Automation GO UCITS): age=5yrs, currency=GBP, match=True, exchange=London, latest_price=1937.25, isin=IE00BMW3QX54\n",
      "AIAG (L&G Artificial Intelligence UCITS): age=2yrs, currency=GBP, match=True, exchange=London, latest_price=1323.9, isin=IE00BK5BCD43\n",
      "XCX6 (db x-trackers MSCI China UCITS DR 1C): age=11yrs, currency=GBP, match=True, exchange=London, latest_price=1962.25, isin=LU0514695690\n",
      "XSX6 (db x-trackers STOXX Europe 600 UCITS DR 1C): age=12yrs, currency=GBP, match=True, exchange=London, latest_price=7931.0, isin=LU0328475792\n",
      "BATG (ETFS Battery Value Chain GO UCITS): age=3yrs, currency=GBP, match=True, exchange=London, latest_price=1253.4, isin=IE00BF0M2Z96\n",
      "HMXJ (HSBC MSCI Pacific ex Japan UCITS): age=11yrs, currency=GBP, match=True, exchange=London, latest_price=1091.5, isin=IE00B5SG8Z57\n",
      "HMWO (HSBC MSCI World UCITS): age=11yrs, currency=GBP, match=True, exchange=London, latest_price=1981.0, isin=IE00B4X9L533\n",
      "AUCP (ETFX DAXGlobal Gold Mining GO UCITS): age=6yrs, currency=GBP, match=True, exchange=London, latest_price=2546.0, isin=IE00B3CNHG25\n",
      "HMEF (HSBC MSCI Emerging Markets UCITS): age=10yrs, currency=GBP, match=True, exchange=London, latest_price=1007.0, isin=IE00B5SSQT16\n",
      "UINC (First Trust US Equity Income Class A): age=5yrs, currency=GBP, match=True, exchange=London, latest_price=1879.25, isin=IE00BZBW4Z27\n",
      "EUDV (SSgA SPDR S&P Euro Dividend Aristocrats): age=9yrs, currency=GBP, match=True, exchange=London, latest_price=18.56, isin=IE00B5M1WJ87\n",
      "ESGB (VanEck Vectors Video Gaming and eSports UCITS): age=2yrs, currency=GBP, match=True, exchange=London, latest_price=33.2, isin=IE00BYWQWR46\n",
      "FUSI (Fidelity US Quality Income Inc): age=4yrs, currency=GBP, match=True, exchange=London, latest_price=557.13, isin=IE00BYXVGX24\n",
      "XUFB (Xtrackers MSCI USA Banks UCITS ETF 1D): age=3yrs, currency=GBP, match=True, exchange=London, latest_price=1414.2, isin=IE00BDVPTJ63\n",
      "HTRY (HSBC MSCI Turkey UCITS): age=11yrs, currency=GBP, match=True, exchange=London, latest_price=161.1, isin=IE00B5BRQB73\n",
      "HSPX (HSBC S&P 500 UCITS): age=11yrs, currency=GBP, match=True, exchange=London, latest_price=2784.4, isin=IE00B5KQNG97\n",
      "XUKS (db x-trackers FTSE 100 Short Daily UCITS): age=13yrs, currency=GBP, match=True, exchange=London, latest_price=369.2, isin=LU0328473581\n",
      "XSPS (db x-trackers S&P 500 Inverse Daily UCITS 1C): age=13yrs, currency=GBP, match=True, exchange=London, latest_price=699.0, isin=LU0322251520\n",
      "XMRC (db x-trackers MSCI Russia Capped UCITS 1C): age=13yrs, currency=GBP, match=True, exchange=London, latest_price=2448.8, isin=LU0322252502\n",
      "XDJP (db x-trackers Nikkei 225 UCITS DR): age=6yrs, currency=GBP, match=True, exchange=London, latest_price=2070.5, isin=LU0839027447\n",
      "XGLS (DB Physical Gold GBP Hedged): age=10yrs, currency=GBP, match=True, exchange=London, latest_price=1005.5, isin=GB00B68FL050\n",
      "CRBL (Lyxor UCITS Commodities Thomson Reuters/Corecommod): age=9yrs, currency=GBP, match=True, exchange=London, latest_price=1214.5, isin=LU1829218749\n"
     ]
    }
   ],
   "source": [
    "# loop through each etf in list of available etfs and read in the historical price data\n",
    "\n",
    "summary = {}\n",
    "match = []\n",
    "for i, row in etfs.iterrows():\n",
    "    filename = f\"etf_{row.symbol_ft}_{row['isin']}\"\n",
    "    df = etfs_hist[filename]()\n",
    "    first_row = df.iloc[0]\n",
    "    years = 2021 - int(first_row['Date'][:4])\n",
    "    currency = first_row['Currency']\n",
    "    currency_match = currency == row['currency']\n",
    "    exchange = first_row['Exchange']\n",
    "    last_row = df.iloc[-1]\n",
    "    latest_price = last_row['Close']\n",
    "    match.append(currency_match)\n",
    "    print(f\"{row.symbol_ft} ({row.symbol}): age={years}yrs, currency={currency}, match={currency_match}, exchange={exchange}, latest_price={latest_price}, isin={row['isin']}\")"
   ]
  },
  {
   "cell_type": "code",
   "execution_count": 78,
   "id": "treated-original",
   "metadata": {
    "ExecuteTime": {
     "end_time": "2021-01-27T22:06:33.363923Z",
     "start_time": "2021-01-27T22:06:33.352929Z"
    }
   },
   "outputs": [
    {
     "data": {
      "text/plain": [
       "Counter({True: 179})"
      ]
     },
     "execution_count": 78,
     "metadata": {},
     "output_type": "execute_result"
    }
   ],
   "source": [
    "# get value counts for where currencies match or not\n",
    "Counter(match)"
   ]
  },
  {
   "cell_type": "markdown",
   "id": "innocent-router",
   "metadata": {},
   "source": [
    "List of incorrect historic data, with wrong currency:\n",
    "- IBTM\n",
    "- VUCP\n",
    "- SEMB\n",
    "- CU31\n",
    "- ERNU\n",
    "- etc\n",
    "\n",
    "Other observations:\n",
    "- Sometimes the price is in GBP and sometimes its in pence"
   ]
  },
  {
   "cell_type": "markdown",
   "id": "religious-paraguay",
   "metadata": {
    "ExecuteTime": {
     "end_time": "2021-01-27T20:38:45.602309Z",
     "start_time": "2021-01-27T20:38:45.544345Z"
    }
   },
   "source": [
    "## Implement a workaround\n",
    "Reviewing a handful of incorrect currencies, it looks as though is the symbol column name is changed to _name_ in the standing data, this might trick it into selecting the correct currency.\n",
    "\n",
    "etf.csv was edited accordingly. _name_ and _symbol_ column names swapped."
   ]
  },
  {
   "cell_type": "code",
   "execution_count": 61,
   "id": "premier-moderator",
   "metadata": {
    "ExecuteTime": {
     "end_time": "2021-01-27T21:28:54.485824Z",
     "start_time": "2021-01-27T21:28:54.289350Z"
    }
   },
   "outputs": [
    {
     "data": {
      "text/html": [
       "<div>\n",
       "<style scoped>\n",
       "    .dataframe tbody tr th:only-of-type {\n",
       "        vertical-align: middle;\n",
       "    }\n",
       "\n",
       "    .dataframe tbody tr th {\n",
       "        vertical-align: top;\n",
       "    }\n",
       "\n",
       "    .dataframe thead th {\n",
       "        text-align: right;\n",
       "    }\n",
       "</style>\n",
       "<table border=\"1\" class=\"dataframe\">\n",
       "  <thead>\n",
       "    <tr style=\"text-align: right;\">\n",
       "      <th></th>\n",
       "      <th>country</th>\n",
       "      <th>symbol</th>\n",
       "      <th>full_name</th>\n",
       "      <th>name</th>\n",
       "      <th>isin</th>\n",
       "      <th>asset_class</th>\n",
       "      <th>currency</th>\n",
       "      <th>stock_exchange</th>\n",
       "      <th>def_stock_exchange</th>\n",
       "    </tr>\n",
       "  </thead>\n",
       "  <tbody>\n",
       "    <tr>\n",
       "      <th>8090</th>\n",
       "      <td>united kingdom</td>\n",
       "      <td>Amundi ETF S&amp;P 500 UCITS</td>\n",
       "      <td>Amundi ETF S&amp;P 500 UCITS</td>\n",
       "      <td>500U</td>\n",
       "      <td>LU1681049018</td>\n",
       "      <td>equity</td>\n",
       "      <td>USD</td>\n",
       "      <td>London</td>\n",
       "      <td>False</td>\n",
       "    </tr>\n",
       "    <tr>\n",
       "      <th>8091</th>\n",
       "      <td>united kingdom</td>\n",
       "      <td>Amundi MSCI Europe Banks UCITS</td>\n",
       "      <td>Amundi MSCI Europe Banks UCITS</td>\n",
       "      <td>CB5</td>\n",
       "      <td>FR0010688176</td>\n",
       "      <td>equity</td>\n",
       "      <td>GBP</td>\n",
       "      <td>London</td>\n",
       "      <td>False</td>\n",
       "    </tr>\n",
       "    <tr>\n",
       "      <th>8092</th>\n",
       "      <td>united kingdom</td>\n",
       "      <td>Amundi DAX UCITS</td>\n",
       "      <td>Amundi MSCI Germany UCITS</td>\n",
       "      <td>CG1</td>\n",
       "      <td>FR0010655712</td>\n",
       "      <td>equity</td>\n",
       "      <td>GBP</td>\n",
       "      <td>London</td>\n",
       "      <td>False</td>\n",
       "    </tr>\n",
       "    <tr>\n",
       "      <th>8093</th>\n",
       "      <td>united kingdom</td>\n",
       "      <td>Amundi ETF MSCI Spain UCITS</td>\n",
       "      <td>Amundi ETF MSCI Spain UCITS</td>\n",
       "      <td>CS1</td>\n",
       "      <td>FR0010655746</td>\n",
       "      <td>equity</td>\n",
       "      <td>GBP</td>\n",
       "      <td>London</td>\n",
       "      <td>False</td>\n",
       "    </tr>\n",
       "    <tr>\n",
       "      <th>8094</th>\n",
       "      <td>united kingdom</td>\n",
       "      <td>Amundi MSCI Brazil UCITS</td>\n",
       "      <td>Amundi MSCI Brazil UCITS</td>\n",
       "      <td>BRZ</td>\n",
       "      <td>FR0010821793</td>\n",
       "      <td>equity</td>\n",
       "      <td>USD</td>\n",
       "      <td>London</td>\n",
       "      <td>False</td>\n",
       "    </tr>\n",
       "  </tbody>\n",
       "</table>\n",
       "</div>"
      ],
      "text/plain": [
       "             country                          symbol  \\\n",
       "8090  united kingdom        Amundi ETF S&P 500 UCITS   \n",
       "8091  united kingdom  Amundi MSCI Europe Banks UCITS   \n",
       "8092  united kingdom                Amundi DAX UCITS   \n",
       "8093  united kingdom     Amundi ETF MSCI Spain UCITS   \n",
       "8094  united kingdom        Amundi MSCI Brazil UCITS   \n",
       "\n",
       "                           full_name  name          isin asset_class currency  \\\n",
       "8090        Amundi ETF S&P 500 UCITS  500U  LU1681049018      equity      USD   \n",
       "8091  Amundi MSCI Europe Banks UCITS   CB5  FR0010688176      equity      GBP   \n",
       "8092       Amundi MSCI Germany UCITS   CG1  FR0010655712      equity      GBP   \n",
       "8093     Amundi ETF MSCI Spain UCITS   CS1  FR0010655746      equity      GBP   \n",
       "8094        Amundi MSCI Brazil UCITS   BRZ  FR0010821793      equity      USD   \n",
       "\n",
       "     stock_exchange  def_stock_exchange  \n",
       "8090         London               False  \n",
       "8091         London               False  \n",
       "8092         London               False  \n",
       "8093         London               False  \n",
       "8094         London               False  "
      ]
     },
     "execution_count": 61,
     "metadata": {},
     "output_type": "execute_result"
    }
   ],
   "source": [
    "# check what investpy returns\n",
    "etfs_df = investpy.get_etfs()\n",
    "etfs_df[etfs_df.country == 'united kingdom'].head()"
   ]
  },
  {
   "cell_type": "code",
   "execution_count": 63,
   "id": "honest-antenna",
   "metadata": {
    "ExecuteTime": {
     "end_time": "2021-01-27T21:32:58.506571Z",
     "start_time": "2021-01-27T21:32:57.715111Z"
    }
   },
   "outputs": [],
   "source": [
    "# get recent data for freetrade symbol IBTM (ISTB)\n",
    "ibtm = investpy.get_etf_recent_data('ISTB', 'United Kingdom', stock_exchange='London')"
   ]
  },
  {
   "cell_type": "code",
   "execution_count": 67,
   "id": "japanese-cycling",
   "metadata": {
    "ExecuteTime": {
     "end_time": "2021-01-27T21:34:43.091031Z",
     "start_time": "2021-01-27T21:34:43.062051Z"
    },
    "scrolled": true
   },
   "outputs": [
    {
     "data": {
      "text/html": [
       "<div>\n",
       "<style scoped>\n",
       "    .dataframe tbody tr th:only-of-type {\n",
       "        vertical-align: middle;\n",
       "    }\n",
       "\n",
       "    .dataframe tbody tr th {\n",
       "        vertical-align: top;\n",
       "    }\n",
       "\n",
       "    .dataframe thead th {\n",
       "        text-align: right;\n",
       "    }\n",
       "</style>\n",
       "<table border=\"1\" class=\"dataframe\">\n",
       "  <thead>\n",
       "    <tr style=\"text-align: right;\">\n",
       "      <th></th>\n",
       "      <th>Open</th>\n",
       "      <th>High</th>\n",
       "      <th>Low</th>\n",
       "      <th>Close</th>\n",
       "      <th>Volume</th>\n",
       "      <th>Currency</th>\n",
       "      <th>Exchange</th>\n",
       "    </tr>\n",
       "    <tr>\n",
       "      <th>Date</th>\n",
       "      <th></th>\n",
       "      <th></th>\n",
       "      <th></th>\n",
       "      <th></th>\n",
       "      <th></th>\n",
       "      <th></th>\n",
       "      <th></th>\n",
       "    </tr>\n",
       "  </thead>\n",
       "  <tbody>\n",
       "    <tr>\n",
       "      <th>2021-01-27</th>\n",
       "      <td>158.47</td>\n",
       "      <td>159.66</td>\n",
       "      <td>158.31</td>\n",
       "      <td>159.19</td>\n",
       "      <td>8588</td>\n",
       "      <td>GBP</td>\n",
       "      <td>London</td>\n",
       "    </tr>\n",
       "  </tbody>\n",
       "</table>\n",
       "</div>"
      ],
      "text/plain": [
       "              Open    High     Low   Close  Volume Currency Exchange\n",
       "Date                                                                \n",
       "2021-01-27  158.47  159.66  158.31  159.19    8588      GBP   London"
      ]
     },
     "execution_count": 67,
     "metadata": {},
     "output_type": "execute_result"
    }
   ],
   "source": [
    "# IBTM results show Currency in GBP and latest price reflects the current price in Freetrade\n",
    "ibtm.tail(1)"
   ]
  },
  {
   "cell_type": "code",
   "execution_count": 68,
   "id": "timely-simpson",
   "metadata": {
    "ExecuteTime": {
     "end_time": "2021-01-27T21:35:38.857777Z",
     "start_time": "2021-01-27T21:35:38.193901Z"
    }
   },
   "outputs": [],
   "source": [
    "# get recent data for Freetrade symbol IKOR \n",
    "ikor = investpy.get_etf_recent_data('IKOR', 'United Kingdom', stock_exchange='London')"
   ]
  },
  {
   "cell_type": "code",
   "execution_count": 69,
   "id": "opening-university",
   "metadata": {
    "ExecuteTime": {
     "end_time": "2021-01-27T21:35:53.583357Z",
     "start_time": "2021-01-27T21:35:53.550378Z"
    }
   },
   "outputs": [
    {
     "data": {
      "text/html": [
       "<div>\n",
       "<style scoped>\n",
       "    .dataframe tbody tr th:only-of-type {\n",
       "        vertical-align: middle;\n",
       "    }\n",
       "\n",
       "    .dataframe tbody tr th {\n",
       "        vertical-align: top;\n",
       "    }\n",
       "\n",
       "    .dataframe thead th {\n",
       "        text-align: right;\n",
       "    }\n",
       "</style>\n",
       "<table border=\"1\" class=\"dataframe\">\n",
       "  <thead>\n",
       "    <tr style=\"text-align: right;\">\n",
       "      <th></th>\n",
       "      <th>Open</th>\n",
       "      <th>High</th>\n",
       "      <th>Low</th>\n",
       "      <th>Close</th>\n",
       "      <th>Volume</th>\n",
       "      <th>Currency</th>\n",
       "      <th>Exchange</th>\n",
       "    </tr>\n",
       "    <tr>\n",
       "      <th>Date</th>\n",
       "      <th></th>\n",
       "      <th></th>\n",
       "      <th></th>\n",
       "      <th></th>\n",
       "      <th></th>\n",
       "      <th></th>\n",
       "      <th></th>\n",
       "    </tr>\n",
       "  </thead>\n",
       "  <tbody>\n",
       "    <tr>\n",
       "      <th>2021-01-27</th>\n",
       "      <td>4842.3</td>\n",
       "      <td>4843.8</td>\n",
       "      <td>4770.0</td>\n",
       "      <td>4777.5</td>\n",
       "      <td>42955</td>\n",
       "      <td>GBP</td>\n",
       "      <td>London</td>\n",
       "    </tr>\n",
       "  </tbody>\n",
       "</table>\n",
       "</div>"
      ],
      "text/plain": [
       "              Open    High     Low   Close  Volume Currency Exchange\n",
       "Date                                                                \n",
       "2021-01-27  4842.3  4843.8  4770.0  4777.5   42955      GBP   London"
      ]
     },
     "execution_count": 69,
     "metadata": {},
     "output_type": "execute_result"
    }
   ],
   "source": [
    "# IKOR results shows Curerncy in GBP and latest price reflects the current price in Freetrade\n",
    "ikor.tail(1)"
   ]
  }
 ],
 "metadata": {
  "kernelspec": {
   "display_name": "Investing",
   "language": "python",
   "name": "python3"
  },
  "language_info": {
   "codemirror_mode": {
    "name": "ipython",
    "version": 3
   },
   "file_extension": ".py",
   "mimetype": "text/x-python",
   "name": "python",
   "nbconvert_exporter": "python",
   "pygments_lexer": "ipython3",
   "version": "3.8.6"
  },
  "toc": {
   "base_numbering": 1,
   "nav_menu": {},
   "number_sections": true,
   "sideBar": true,
   "skip_h1_title": false,
   "title_cell": "Table of Contents",
   "title_sidebar": "Contents",
   "toc_cell": false,
   "toc_position": {},
   "toc_section_display": true,
   "toc_window_display": false
  }
 },
 "nbformat": 4,
 "nbformat_minor": 5
}
